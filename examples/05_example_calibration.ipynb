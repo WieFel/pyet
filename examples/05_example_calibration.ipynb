{
 "cells": [
  {
   "cell_type": "markdown",
   "metadata": {},
   "source": [
    "# 5. Calibration of potential evaporation methods\n",
    "*M. Vremec, R.A. Collenteur University of Graz, 2021*\n",
    "\n",
    "In this notebook it is shown how to calibrate various (potential) evaporation (PE) equations, using a linear regression relationship between daily potential evaporation obtained with the FAO-56 equation and daily PE estimates obtained with the alternative methods. This notebook requires Scipy and SkLearn python packages to run."
   ]
  },
  {
   "cell_type": "code",
   "execution_count": 1,
   "metadata": {},
   "outputs": [],
   "source": [
    "import pandas as pd\n",
    "import matplotlib.pyplot as plt\n",
    "from scipy.optimize import least_squares\n",
    "from sklearn.metrics import mean_squared_error\n",
    "\n",
    "import pyet as pyet"
   ]
  },
  {
   "cell_type": "markdown",
   "metadata": {},
   "source": [
    "## 1. Load KNMI Data"
   ]
  },
  {
   "cell_type": "code",
   "execution_count": 2,
   "metadata": {},
   "outputs": [
    {
     "data": {
      "text/html": [
       "<div>\n",
       "<style scoped>\n",
       "    .dataframe tbody tr th:only-of-type {\n",
       "        vertical-align: middle;\n",
       "    }\n",
       "\n",
       "    .dataframe tbody tr th {\n",
       "        vertical-align: top;\n",
       "    }\n",
       "\n",
       "    .dataframe thead th {\n",
       "        text-align: right;\n",
       "    }\n",
       "</style>\n",
       "<table border=\"1\" class=\"dataframe\">\n",
       "  <thead>\n",
       "    <tr style=\"text-align: right;\">\n",
       "      <th></th>\n",
       "      <th># STN</th>\n",
       "      <th>DDVEC</th>\n",
       "      <th>FHVEC</th>\n",
       "      <th>FG</th>\n",
       "      <th>FHX</th>\n",
       "      <th>FHXH</th>\n",
       "      <th>FHN</th>\n",
       "      <th>FHNH</th>\n",
       "      <th>FXX</th>\n",
       "      <th>FXXH</th>\n",
       "      <th>...</th>\n",
       "      <th>VVNH</th>\n",
       "      <th>VVX</th>\n",
       "      <th>VVXH</th>\n",
       "      <th>NG</th>\n",
       "      <th>UG</th>\n",
       "      <th>UX</th>\n",
       "      <th>UXH</th>\n",
       "      <th>UN</th>\n",
       "      <th>UNH</th>\n",
       "      <th>EV24</th>\n",
       "    </tr>\n",
       "    <tr>\n",
       "      <th>YYYYMMDD</th>\n",
       "      <th></th>\n",
       "      <th></th>\n",
       "      <th></th>\n",
       "      <th></th>\n",
       "      <th></th>\n",
       "      <th></th>\n",
       "      <th></th>\n",
       "      <th></th>\n",
       "      <th></th>\n",
       "      <th></th>\n",
       "      <th></th>\n",
       "      <th></th>\n",
       "      <th></th>\n",
       "      <th></th>\n",
       "      <th></th>\n",
       "      <th></th>\n",
       "      <th></th>\n",
       "      <th></th>\n",
       "      <th></th>\n",
       "      <th></th>\n",
       "      <th></th>\n",
       "    </tr>\n",
       "  </thead>\n",
       "  <tbody>\n",
       "    <tr>\n",
       "      <th>2018-01-01</th>\n",
       "      <td>260</td>\n",
       "      <td>225</td>\n",
       "      <td>45</td>\n",
       "      <td>50</td>\n",
       "      <td>90</td>\n",
       "      <td>2</td>\n",
       "      <td>10</td>\n",
       "      <td>18</td>\n",
       "      <td>190.0</td>\n",
       "      <td>2.0</td>\n",
       "      <td>...</td>\n",
       "      <td>2.0</td>\n",
       "      <td>75.0</td>\n",
       "      <td>3.0</td>\n",
       "      <td>7.0</td>\n",
       "      <td>84</td>\n",
       "      <td>96</td>\n",
       "      <td>17</td>\n",
       "      <td>73</td>\n",
       "      <td>1</td>\n",
       "      <td>3</td>\n",
       "    </tr>\n",
       "    <tr>\n",
       "      <th>2018-01-02</th>\n",
       "      <td>260</td>\n",
       "      <td>216</td>\n",
       "      <td>39</td>\n",
       "      <td>45</td>\n",
       "      <td>80</td>\n",
       "      <td>24</td>\n",
       "      <td>20</td>\n",
       "      <td>1</td>\n",
       "      <td>140.0</td>\n",
       "      <td>24.0</td>\n",
       "      <td>...</td>\n",
       "      <td>19.0</td>\n",
       "      <td>75.0</td>\n",
       "      <td>8.0</td>\n",
       "      <td>7.0</td>\n",
       "      <td>88</td>\n",
       "      <td>96</td>\n",
       "      <td>3</td>\n",
       "      <td>80</td>\n",
       "      <td>8</td>\n",
       "      <td>2</td>\n",
       "    </tr>\n",
       "    <tr>\n",
       "      <th>2018-01-03</th>\n",
       "      <td>260</td>\n",
       "      <td>257</td>\n",
       "      <td>82</td>\n",
       "      <td>88</td>\n",
       "      <td>120</td>\n",
       "      <td>11</td>\n",
       "      <td>70</td>\n",
       "      <td>4</td>\n",
       "      <td>290.0</td>\n",
       "      <td>3.0</td>\n",
       "      <td>...</td>\n",
       "      <td>1.0</td>\n",
       "      <td>75.0</td>\n",
       "      <td>4.0</td>\n",
       "      <td>8.0</td>\n",
       "      <td>73</td>\n",
       "      <td>95</td>\n",
       "      <td>1</td>\n",
       "      <td>65</td>\n",
       "      <td>9</td>\n",
       "      <td>1</td>\n",
       "    </tr>\n",
       "    <tr>\n",
       "      <th>2018-01-04</th>\n",
       "      <td>260</td>\n",
       "      <td>238</td>\n",
       "      <td>51</td>\n",
       "      <td>56</td>\n",
       "      <td>90</td>\n",
       "      <td>20</td>\n",
       "      <td>30</td>\n",
       "      <td>14</td>\n",
       "      <td>180.0</td>\n",
       "      <td>20.0</td>\n",
       "      <td>...</td>\n",
       "      <td>14.0</td>\n",
       "      <td>80.0</td>\n",
       "      <td>21.0</td>\n",
       "      <td>8.0</td>\n",
       "      <td>82</td>\n",
       "      <td>97</td>\n",
       "      <td>14</td>\n",
       "      <td>67</td>\n",
       "      <td>21</td>\n",
       "      <td>2</td>\n",
       "    </tr>\n",
       "    <tr>\n",
       "      <th>2018-01-05</th>\n",
       "      <td>260</td>\n",
       "      <td>225</td>\n",
       "      <td>38</td>\n",
       "      <td>40</td>\n",
       "      <td>60</td>\n",
       "      <td>1</td>\n",
       "      <td>20</td>\n",
       "      <td>17</td>\n",
       "      <td>150.0</td>\n",
       "      <td>16.0</td>\n",
       "      <td>...</td>\n",
       "      <td>15.0</td>\n",
       "      <td>75.0</td>\n",
       "      <td>1.0</td>\n",
       "      <td>6.0</td>\n",
       "      <td>87</td>\n",
       "      <td>96</td>\n",
       "      <td>17</td>\n",
       "      <td>71</td>\n",
       "      <td>3</td>\n",
       "      <td>2</td>\n",
       "    </tr>\n",
       "  </tbody>\n",
       "</table>\n",
       "<p>5 rows × 40 columns</p>\n",
       "</div>"
      ],
      "text/plain": [
       "            # STN  DDVEC  FHVEC  FG  FHX  FHXH  FHN  FHNH    FXX  FXXH  ...  \\\n",
       "YYYYMMDD                                                                ...   \n",
       "2018-01-01    260    225     45  50   90     2   10    18  190.0   2.0  ...   \n",
       "2018-01-02    260    216     39  45   80    24   20     1  140.0  24.0  ...   \n",
       "2018-01-03    260    257     82  88  120    11   70     4  290.0   3.0  ...   \n",
       "2018-01-04    260    238     51  56   90    20   30    14  180.0  20.0  ...   \n",
       "2018-01-05    260    225     38  40   60     1   20    17  150.0  16.0  ...   \n",
       "\n",
       "            VVNH   VVX  VVXH   NG  UG  UX  UXH  UN  UNH  EV24  \n",
       "YYYYMMDD                                                       \n",
       "2018-01-01   2.0  75.0   3.0  7.0  84  96   17  73    1     3  \n",
       "2018-01-02  19.0  75.0   8.0  7.0  88  96    3  80    8     2  \n",
       "2018-01-03   1.0  75.0   4.0  8.0  73  95    1  65    9     1  \n",
       "2018-01-04  14.0  80.0  21.0  8.0  82  97   14  67   21     2  \n",
       "2018-01-05  15.0  75.0   1.0  6.0  87  96   17  71    3     2  \n",
       "\n",
       "[5 rows x 40 columns]"
      ]
     },
     "execution_count": 2,
     "metadata": {},
     "output_type": "execute_result"
    }
   ],
   "source": [
    "data = pd.read_csv(\"data//example_3//etmgeg_260.txt\", skiprows=46, delimiter=\",\", \n",
    "                   skipinitialspace=True, index_col=\"YYYYMMDD\", parse_dates=True).loc[\"2018\",:]\n",
    "data.head()"
   ]
  },
  {
   "cell_type": "markdown",
   "metadata": {},
   "source": [
    "## 2.Estimation of evaporation"
   ]
  },
  {
   "cell_type": "code",
   "execution_count": 3,
   "metadata": {},
   "outputs": [],
   "source": [
    "# define meteorological variables needed for PE estimation\n",
    "meteo = pd.DataFrame({\"tmean\":data.TG/10, \"tmax\":data.TX/10, \"tmin\":data.TN/10, \"rh\":data.UG, \"wind\":data.FG/10, \"rs\":data.Q/100})\n",
    "tmean, tmax, tmin, rh, wind, rs = [meteo[col] for col in meteo.columns]\n",
    "pressure =  data.PG / 100 # to kPa\n",
    "wind = data.FG/10  # to m/s\n",
    "lat = 0.91  # [rad]\n",
    "elevation = 4 \n",
    "\n",
    "pe_fao56 = pyet.pm_fao56(tmean, wind, rs=rs, elevation=elevation, lat=lat, \n",
    "                         tmax=tmax, tmin=tmin, rh=rh)  # FAO-56 method\n",
    "pe_romanenko = pyet.romanenko(tmean, rh)  # Romanenko method\n",
    "pe_abtew = pyet.abtew(tmean, rs)  # Abtew method"
   ]
  },
  {
   "cell_type": "markdown",
   "metadata": {},
   "source": [
    "The model performance of the Abtew and Romanenko method will be evaluated using the root mean square error (RMSE), as implemented in SkLearn’s mean_squared_error method."
   ]
  },
  {
   "cell_type": "code",
   "execution_count": 4,
   "metadata": {},
   "outputs": [
    {
     "name": "stdout",
     "output_type": "stream",
     "text": [
      "RMSE(Romanenko) = 0.69196195271315 mm/d\n",
      "RMSE(Abtew) = 0.7387164592178931 mm/d\n"
     ]
    },
    {
     "data": {
      "image/png": "[encoded data removed]",
      "text/plain": [
       "<Figure size 432x288 with 1 Axes>"
      ]
     },
     "metadata": {
      "needs_background": "light"
     },
     "output_type": "display_data"
    }
   ],
   "source": [
    "pe_fao56.plot()\n",
    "pe_romanenko.plot()\n",
    "pe_abtew.plot()\n",
    "plt.ylabel(\"PE [mm/day]\")\n",
    "print(\"RMSE(Romanenko) = {} mm/d\".format(mean_squared_error(pe_fao56, pe_romanenko, squared=False)))\n",
    "print(\"RMSE(Abtew) = {} mm/d\".format(mean_squared_error(pe_fao56, pe_abtew, squared=False)))"
   ]
  },
  {
   "cell_type": "markdown",
   "metadata": {},
   "source": [
    "## 3. Calibration of different PE equations\n",
    "\n",
    "The least squares approach is applied to estimate the parameters in the PE equations, by minimizing the sum of the residuals between the simulated (Abtew and Romanenko) and observed (FAO-56) data. The minimization of the objective function is done using the Trust Region Reflective algorithm, as implemented in Scipy’s least squares method."
   ]
  },
  {
   "cell_type": "markdown",
   "metadata": {},
   "source": [
    "### 3.1 Romanenko method"
   ]
  },
  {
   "cell_type": "code",
   "execution_count": 5,
   "metadata": {},
   "outputs": [],
   "source": [
    "# Define function for computing residuals\n",
    "def cal_romanenko(k, obs):\n",
    "    return pyet.romanenko(tmean, rh, k)-obs"
   ]
  },
  {
   "cell_type": "code",
   "execution_count": 6,
   "metadata": {},
   "outputs": [
    {
     "data": {
      "text/plain": [
       "array([3.87304264])"
      ]
     },
     "execution_count": 6,
     "metadata": {},
     "output_type": "execute_result"
    }
   ],
   "source": [
    "# estimate k in the Romanenko method\n",
    "x0 = 4.5  # initial estimate of parameter\n",
    "res_1 = least_squares(cal_romanenko, x0, args=[pe_fao56])\n",
    "res_1.x"
   ]
  },
  {
   "cell_type": "code",
   "execution_count": 7,
   "metadata": {},
   "outputs": [
    {
     "name": "stdout",
     "output_type": "stream",
     "text": [
      "RMSE(Romanenko) = 0.5470806398574546 mm/d\n"
     ]
    }
   ],
   "source": [
    "# Compute RMSE using the calibrated value of k\n",
    "pe_romanenko_cal = pyet.romanenko(tmean, rh, k=res_1.x)\n",
    "print(\"RMSE(Romanenko) = {} mm/d\".format(mean_squared_error(pe_fao56, pe_romanenko_cal, squared=False)))"
   ]
  },
  {
   "cell_type": "markdown",
   "metadata": {},
   "source": [
    "RMSE (calibrated) = 0.546 < RMSE (uncalibrated) = 0.694"
   ]
  },
  {
   "cell_type": "markdown",
   "metadata": {},
   "source": [
    "### 3.2 Abtew method"
   ]
  },
  {
   "cell_type": "code",
   "execution_count": 8,
   "metadata": {},
   "outputs": [],
   "source": [
    "# Define function for computing residuals and initial estimate of parameters\n",
    "def cal_abtew(k,obs):\n",
    "    return pyet.abtew(tmean, rs, k)-obs\n",
    "x0 = 0.53"
   ]
  },
  {
   "cell_type": "code",
   "execution_count": 9,
   "metadata": {},
   "outputs": [
    {
     "data": {
      "text/plain": [
       "array([0.4574895])"
      ]
     },
     "execution_count": 9,
     "metadata": {},
     "output_type": "execute_result"
    }
   ],
   "source": [
    "# estimate k in the Romanenko method\n",
    "res_2 = least_squares(cal_abtew, x0, args=[pe_fao56])\n",
    "res_2.x"
   ]
  },
  {
   "cell_type": "code",
   "execution_count": 10,
   "metadata": {},
   "outputs": [
    {
     "name": "stdout",
     "output_type": "stream",
     "text": [
      "RMSE(Abtew) = 0.6127988797521065 mm/d\n"
     ]
    }
   ],
   "source": [
    "pe_abtew_cali = pyet.abtew(tmean, rs, res_2.x)\n",
    "print(\"RMSE(Abtew) = {} mm/d\".format(mean_squared_error(pe_fao56, pe_abtew_cali, squared=False)))"
   ]
  },
  {
   "cell_type": "markdown",
   "metadata": {},
   "source": [
    "RMSE (calibrated) = 0.613 < RMSE (uncalibrated) = 0.741"
   ]
  },
  {
   "cell_type": "code",
   "execution_count": 11,
   "metadata": {},
   "outputs": [
    {
     "data": {
      "image/png": "[encoded data removed]",
      "text/plain": [
       "<Figure size 432x288 with 1 Axes>"
      ]
     },
     "metadata": {
      "needs_background": "light"
     },
     "output_type": "display_data"
    }
   ],
   "source": [
    "pe_fao56.plot()\n",
    "pe_romanenko_cal.plot()\n",
    "pe_abtew_cali.plot()\n",
    "plt.ylabel(\"PE [mm/d]\");"
   ]
  }
 ],
 "metadata": {
  "kernelspec": {
   "display_name": "Python 3 (ipykernel)",
   "language": "python",
   "name": "python3"
  },
  "language_info": {
   "codemirror_mode": {
    "name": "ipython",
    "version": 3
   },
   "file_extension": ".py",
   "mimetype": "text/x-python",
   "name": "python",
   "nbconvert_exporter": "python",
   "pygments_lexer": "ipython3",
   "version": "3.9.12"
  }
 },
 "nbformat": 4,
 "nbformat_minor": 4
}
