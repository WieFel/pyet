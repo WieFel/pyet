{
 "cells": [
  {
   "cell_type": "markdown",
   "id": "999bc8b7-804c-4301-b8c7-5077a38dc06f",
   "metadata": {
    "pycharm": {
     "name": "#%% md\n"
    }
   },
   "source": [
    "# 8. Determining the crop coefficient function with Python\n",
    "*M. Vremec, October 2022, University of Graz*\n",
    "\n",
    "Data source: ZAMG - https://data.hub.zamg.ac.at\n",
    "\n",
    "What is done:\n",
    "\n",
    "- load the station data from ZAMG\n",
    "- estimate potential evaporation\n",
    "- determine the crop coefficient function based on equation 65 in Allen et al. 1998\n",
    "- plot and store result"
   ]
  },
  {
   "cell_type": "code",
   "execution_count": 1,
   "id": "7a2ae568-3c3b-44f5-8b82-ab5a99d35d2d",
   "metadata": {
    "pycharm": {
     "name": "#%%\n"
    }
   },
   "outputs": [
    {
     "name": "stdout",
     "output_type": "stream",
     "text": [
      "Python version: 3.9.12 (main, Apr  4 2022, 05:22:27) [MSC v.1916 64 bit (AMD64)]\n",
      "Numpy version: 1.21.5\n",
      "Scipy version: 1.7.3\n",
      "Pandas version: 1.4.2\n",
      "Matplotlib version: 3.5.1\n",
      "Pyet version: 1.2.0\n"
     ]
    }
   ],
   "source": [
    "import pandas as pd\n",
    "import matplotlib.pyplot as plt\n",
    "import numpy as np\n",
    "import pyet\n",
    "pyet.show_versions()"
   ]
  },
  {
   "cell_type": "markdown",
   "id": "da6f3e98-0073-4db9-b763-03beb2611e78",
   "metadata": {
    "pycharm": {
     "name": "#%% md\n"
    }
   },
   "source": [
    "## Loading daily data from ZAMG (Messstationen Tagesdaten)\n",
    "\n",
    "station: Graz Universität 16412\n",
    "\n",
    "Selected variables:\n",
    "- globalstrahlung (global radiation), J/cm2 needs to be in MJ/m3d, ZAMG abbreviation - strahl\n",
    "- arithmetische windgeschwindigkeit (wind speed), m/s, ZAMG abbreviation - vv\n",
    "- relative feuchte (relative humidity), %, ZAMG abbreviation - rel\n",
    "- lufttemparatur (air temperature) in 2 m, C, ZAMG abbreviation - t\n",
    "- lufttemperatur (air temperature) max in 2 m, C, ZAMG abbreviation - tmax\n",
    "- lufttemperatur (air temperature) min in 2 m, C, ZAMG abbreviation - tmin\n",
    "- latitute and elevation of a station"
   ]
  },
  {
   "cell_type": "code",
   "execution_count": 2,
   "id": "236434b2-3c33-4772-93ec-de0cb7317209",
   "metadata": {
    "pycharm": {
     "name": "#%%\n"
    }
   },
   "outputs": [
    {
     "data": {
      "text/html": [
       "<div>\n",
       "<style scoped>\n",
       "    .dataframe tbody tr th:only-of-type {\n",
       "        vertical-align: middle;\n",
       "    }\n",
       "\n",
       "    .dataframe tbody tr th {\n",
       "        vertical-align: top;\n",
       "    }\n",
       "\n",
       "    .dataframe thead th {\n",
       "        text-align: right;\n",
       "    }\n",
       "</style>\n",
       "<table border=\"1\" class=\"dataframe\">\n",
       "  <thead>\n",
       "    <tr style=\"text-align: right;\">\n",
       "      <th></th>\n",
       "      <th>station</th>\n",
       "      <th>strahl</th>\n",
       "      <th>rel</th>\n",
       "      <th>t</th>\n",
       "      <th>tmax</th>\n",
       "      <th>tmin</th>\n",
       "      <th>vv</th>\n",
       "    </tr>\n",
       "    <tr>\n",
       "      <th>time</th>\n",
       "      <th></th>\n",
       "      <th></th>\n",
       "      <th></th>\n",
       "      <th></th>\n",
       "      <th></th>\n",
       "      <th></th>\n",
       "      <th></th>\n",
       "    </tr>\n",
       "  </thead>\n",
       "  <tbody>\n",
       "    <tr>\n",
       "      <th>2000-01-01</th>\n",
       "      <td>16412</td>\n",
       "      <td>300.0</td>\n",
       "      <td>80.0</td>\n",
       "      <td>-2.7</td>\n",
       "      <td>0.5</td>\n",
       "      <td>-5.8</td>\n",
       "      <td>1.0</td>\n",
       "    </tr>\n",
       "    <tr>\n",
       "      <th>2000-01-02</th>\n",
       "      <td>16412</td>\n",
       "      <td>250.0</td>\n",
       "      <td>86.0</td>\n",
       "      <td>0.2</td>\n",
       "      <td>2.5</td>\n",
       "      <td>-2.1</td>\n",
       "      <td>1.0</td>\n",
       "    </tr>\n",
       "    <tr>\n",
       "      <th>2000-01-03</th>\n",
       "      <td>16412</td>\n",
       "      <td>598.0</td>\n",
       "      <td>86.0</td>\n",
       "      <td>0.6</td>\n",
       "      <td>3.6</td>\n",
       "      <td>-2.4</td>\n",
       "      <td>1.0</td>\n",
       "    </tr>\n",
       "    <tr>\n",
       "      <th>2000-01-04</th>\n",
       "      <td>16412</td>\n",
       "      <td>619.0</td>\n",
       "      <td>83.0</td>\n",
       "      <td>-0.5</td>\n",
       "      <td>4.5</td>\n",
       "      <td>-5.5</td>\n",
       "      <td>1.0</td>\n",
       "    </tr>\n",
       "    <tr>\n",
       "      <th>2000-01-05</th>\n",
       "      <td>16412</td>\n",
       "      <td>463.0</td>\n",
       "      <td>84.0</td>\n",
       "      <td>-0.1</td>\n",
       "      <td>5.4</td>\n",
       "      <td>-5.5</td>\n",
       "      <td>1.0</td>\n",
       "    </tr>\n",
       "    <tr>\n",
       "      <th>...</th>\n",
       "      <td>...</td>\n",
       "      <td>...</td>\n",
       "      <td>...</td>\n",
       "      <td>...</td>\n",
       "      <td>...</td>\n",
       "      <td>...</td>\n",
       "      <td>...</td>\n",
       "    </tr>\n",
       "    <tr>\n",
       "      <th>2021-11-07</th>\n",
       "      <td>16412</td>\n",
       "      <td>852.0</td>\n",
       "      <td>74.0</td>\n",
       "      <td>8.5</td>\n",
       "      <td>12.2</td>\n",
       "      <td>4.7</td>\n",
       "      <td>1.6</td>\n",
       "    </tr>\n",
       "    <tr>\n",
       "      <th>2021-11-08</th>\n",
       "      <td>16412</td>\n",
       "      <td>553.0</td>\n",
       "      <td>78.0</td>\n",
       "      <td>7.5</td>\n",
       "      <td>10.4</td>\n",
       "      <td>4.5</td>\n",
       "      <td>1.6</td>\n",
       "    </tr>\n",
       "    <tr>\n",
       "      <th>2021-11-09</th>\n",
       "      <td>16412</td>\n",
       "      <td>902.0</td>\n",
       "      <td>67.0</td>\n",
       "      <td>7.1</td>\n",
       "      <td>11.7</td>\n",
       "      <td>2.4</td>\n",
       "      <td>2.7</td>\n",
       "    </tr>\n",
       "    <tr>\n",
       "      <th>2021-11-10</th>\n",
       "      <td>16412</td>\n",
       "      <td>785.0</td>\n",
       "      <td>79.0</td>\n",
       "      <td>5.3</td>\n",
       "      <td>10.1</td>\n",
       "      <td>0.4</td>\n",
       "      <td>2.1</td>\n",
       "    </tr>\n",
       "    <tr>\n",
       "      <th>2021-11-11</th>\n",
       "      <td>16412</td>\n",
       "      <td>194.0</td>\n",
       "      <td>91.0</td>\n",
       "      <td>5.1</td>\n",
       "      <td>6.5</td>\n",
       "      <td>3.7</td>\n",
       "      <td>1.1</td>\n",
       "    </tr>\n",
       "  </tbody>\n",
       "</table>\n",
       "<p>7986 rows × 7 columns</p>\n",
       "</div>"
      ],
      "text/plain": [
       "            station  strahl   rel    t  tmax  tmin   vv\n",
       "time                                                   \n",
       "2000-01-01    16412   300.0  80.0 -2.7   0.5  -5.8  1.0\n",
       "2000-01-02    16412   250.0  86.0  0.2   2.5  -2.1  1.0\n",
       "2000-01-03    16412   598.0  86.0  0.6   3.6  -2.4  1.0\n",
       "2000-01-04    16412   619.0  83.0 -0.5   4.5  -5.5  1.0\n",
       "2000-01-05    16412   463.0  84.0 -0.1   5.4  -5.5  1.0\n",
       "...             ...     ...   ...  ...   ...   ...  ...\n",
       "2021-11-07    16412   852.0  74.0  8.5  12.2   4.7  1.6\n",
       "2021-11-08    16412   553.0  78.0  7.5  10.4   4.5  1.6\n",
       "2021-11-09    16412   902.0  67.0  7.1  11.7   2.4  2.7\n",
       "2021-11-10    16412   785.0  79.0  5.3  10.1   0.4  2.1\n",
       "2021-11-11    16412   194.0  91.0  5.1   6.5   3.7  1.1\n",
       "\n",
       "[7986 rows x 7 columns]"
      ]
     },
     "execution_count": 2,
     "metadata": {},
     "output_type": "execute_result"
    }
   ],
   "source": [
    "#read data\n",
    "data_16412 = pd.read_csv('data//example_1//klima_daily.csv', index_col=1, parse_dates=True)\n",
    "data_16412"
   ]
  },
  {
   "cell_type": "markdown",
   "id": "22ebf3bc-6b9a-4f81-a455-7ca1b51879dd",
   "metadata": {
    "pycharm": {
     "name": "#%% md\n"
    }
   },
   "source": [
    "## Calculate PET for Graz Universität - 16412"
   ]
  },
  {
   "cell_type": "code",
   "execution_count": 3,
   "id": "bc5ba933-22c2-4c5b-9ca6-43a4bcdad344",
   "metadata": {
    "pycharm": {
     "name": "#%%\n"
    }
   },
   "outputs": [],
   "source": [
    "# Convert Glabalstrahlung J/cm2 to MJ/m2 by dividing to 100\n",
    "\n",
    "meteo = pd.DataFrame({\"time\":data_16412.index, \"tmean\":data_16412.t, \"tmax\":data_16412.tmax, \"tmin\":data_16412.tmin, \"rh\":data_16412.rel, \n",
    "                      \"wind\":data_16412.vv, \"rs\":data_16412.strahl/100})\n",
    "time, tmean, tmax, tmin, rh, wind, rs = [meteo[col] for col in meteo.columns]\n",
    "\n",
    "lat = 47.077778*np.pi/180  # Latitude of the meteorological station, converting from degrees to radians\n",
    "elevation = 367  # meters above sea-level\n",
    "\n",
    "# Estimate potential ET with Penman-Monteith FAO-56\n",
    "pe_pm = pyet.pm_fao56(tmean, wind, rs=rs, elevation=elevation, \n",
    "                      lat=lat, tmax=tmax, tmin=tmin, rh=rh)"
   ]
  },
  {
   "cell_type": "markdown",
   "id": "696cb6aa-773d-4e1b-8a11-64ee5a5242e9",
   "metadata": {},
   "source": [
    "## Determine the crop coefficient function\n",
    "\n",
    "Based on: https://www.fao.org/3/x0490e/x0490e0b.htm\n",
    "figure 34.\n",
    "\n",
    "\n",
    "![Figure 34](https://www.fao.org/3/x0490e/x0490e6k.gif)"
   ]
  },
  {
   "cell_type": "code",
   "execution_count": 4,
   "id": "f92b3767-7233-461c-a924-cafc6f5c9882",
   "metadata": {},
   "outputs": [],
   "source": [
    "Kcini = 0.3 \n",
    "Kcmid = 1.1\n",
    "Kcend = 0.65\n",
    "\n",
    "crop_ini = pd.Timestamp(\"2020-04-01\")\n",
    "crop_dev = pd.Timestamp(\"2020-05-01\")\n",
    "mid_season = pd.Timestamp(\"2020-06-01\")\n",
    "late_s_start = pd.Timestamp(\"2020-07-01\")\n",
    "late_s_end = pd.Timestamp(\"2020-08-01\")"
   ]
  },
  {
   "cell_type": "code",
   "execution_count": 5,
   "id": "86d39fcb-0dea-42ca-9b7a-afa5327ad990",
   "metadata": {},
   "outputs": [
    {
     "data": {
      "text/plain": [
       "<AxesSubplot:>"
      ]
     },
     "execution_count": 5,
     "metadata": {},
     "output_type": "execute_result"
    },
    {
     "data": {
      "image/png": "[encoded data removed]",
      "text/plain": [
       "<Figure size 432x288 with 1 Axes>"
      ]
     },
     "metadata": {
      "needs_background": "light"
     },
     "output_type": "display_data"
    }
   ],
   "source": [
    "kc = pd.Series(index=[crop_ini, crop_dev, mid_season, late_s_start, late_s_end],\n",
    "                 data=[Kcini, Kcini, Kcmid, Kcmid, Kcend])\n",
    "kc = kc.resample(\"d\").mean().interpolate()\n",
    "kc.plot()"
   ]
  },
  {
   "cell_type": "code",
   "execution_count": 6,
   "id": "c73067c3-2d7e-4bb4-8cff-91f707f7c34b",
   "metadata": {},
   "outputs": [],
   "source": [
    "petc = pe_pm.loc[crop_dev:late_s_end] * kc"
   ]
  },
  {
   "cell_type": "markdown",
   "id": "e6e2564c-48ed-46b7-a275-fd17db592456",
   "metadata": {
    "pycharm": {
     "name": "#%% md\n"
    }
   },
   "source": [
    "### Plot results"
   ]
  },
  {
   "cell_type": "code",
   "execution_count": 7,
   "id": "c9a4582f-219b-47f8-9ed2-dac80720cf55",
   "metadata": {
    "pycharm": {
     "name": "#%%\n"
    }
   },
   "outputs": [
    {
     "data": {
      "text/plain": [
       "<AxesSubplot:xlabel='time'>"
      ]
     },
     "execution_count": 7,
     "metadata": {},
     "output_type": "execute_result"
    },
    {
     "data": {
      "image/png": "[encoded data removed]",
      "text/plain": [
       "<Figure size 432x288 with 1 Axes>"
      ]
     },
     "metadata": {
      "needs_background": "light"
     },
     "output_type": "display_data"
    }
   ],
   "source": [
    "pe_pm.loc[crop_dev:late_s_end].plot(label=\"Potential evapotranspiration\")\n",
    "petc.loc[crop_dev:late_s_end].plot(label=\"Potential crop evapotranspiration\")"
   ]
  }
 ],
 "metadata": {
  "kernelspec": {
   "display_name": "Python 3 (ipykernel)",
   "language": "python",
   "name": "python3"
  },
  "language_info": {
   "codemirror_mode": {
    "name": "ipython",
    "version": 3
   },
   "file_extension": ".py",
   "mimetype": "text/x-python",
   "name": "python",
   "nbconvert_exporter": "python",
   "pygments_lexer": "ipython3",
   "version": "3.9.12"
  }
 },
 "nbformat": 4,
 "nbformat_minor": 5
}
