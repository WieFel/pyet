{
 "cells": [
  {
   "cell_type": "markdown",
   "metadata": {},
   "source": [
    "# Evaporation from CoAgMET data\n",
    "*M. Vremec, University of Graz, 2021*\n",
    "\n",
    "In this notebook it is shown how to compute (reference) evaporation ($E_0$) from meteorological data observed by the Colorado State University (CoAgMET) at Holyoke in Colorado, USA. The notebook also includes a comparison between $E_0$ estimated using *pyet* (FAO56) and $E_0$ available from CoAgMET. According to CoAgMET documentation, the provided reference evaporation is estimated using ASCE reference evaporation for short reference grass (Wright, 2000), which corresponds to the FAO-56 method used with *pyet*.\n",
    "\n",
    "Source: https://coagmet.colostate.edu/station/selector"
   ]
  },
  {
   "cell_type": "code",
   "execution_count": null,
   "metadata": {},
   "outputs": [],
   "source": [
    "import numpy as np\n",
    "import pandas as pd\n",
    "import matplotlib.pyplot as plt\n",
    "\n",
    "import pyet as pyet\n",
    "pyet.show_versions()"
   ]
  },
  {
   "cell_type": "markdown",
   "metadata": {},
   "source": [
    "## 1. Load CoAgMET Data"
   ]
  },
  {
   "cell_type": "code",
   "execution_count": null,
   "metadata": {},
   "outputs": [],
   "source": [
    "data = pd.read_csv(\"data/et_coagmet.txt\", parse_dates=True, index_col=\"date\")\n",
    "data"
   ]
  },
  {
   "cell_type": "code",
   "execution_count": null,
   "metadata": {},
   "outputs": [],
   "source": [
    "e0_coagmet = data[\"et_asce0\"]\n",
    "\n",
    "meteo = pd.DataFrame({\"tmean\":data[\"tavg\"], \n",
    "                      \"tmax\":data[\"tmax\"],\n",
    "                      \"tmin\":data[\"tmin\"], \n",
    "                      \"rhmax\":data[\"rhmax\"]*100,\n",
    "                      \"rhmin\":data[\"rhmin\"]*100, \n",
    "                      \"u2\":data[\"windrun\"]*1000/86400,\n",
    "                      \"rs\":data[\"solar\"]*86400/1000000})\n",
    "\n",
    "tmean, tmax, tmin, rhmax, rhmin, wind, rs = [meteo[col] for col in meteo.columns]\n",
    "lat = 40.49*np.pi/180"
   ]
  },
  {
   "cell_type": "markdown",
   "metadata": {},
   "source": [
    "## 2. Comparison: pyet FAO56 vs CoAgMET ASCE "
   ]
  },
  {
   "cell_type": "code",
   "execution_count": null,
   "metadata": {},
   "outputs": [],
   "source": [
    "e0_fao56 = pyet.pm_fao56(tmean, wind, rs=rs, elevation=1138, lat=lat, \n",
    "                         tmax=tmax, tmin=tmin, rhmax=rhmax, rhmin=rhmin)\n",
    "\n",
    "e0_fao56.plot()\n",
    "e0_coagmet.plot();"
   ]
  },
  {
   "cell_type": "markdown",
   "metadata": {},
   "source": [
    "## 3. Plot the results\n",
    "\n",
    "We now plot the evaporation time series against each other to see how these compare. "
   ]
  },
  {
   "cell_type": "code",
   "execution_count": null,
   "metadata": {},
   "outputs": [],
   "source": [
    "plt.scatter(e0_fao56, e0_coagmet)\n",
    "plt.plot([0,15],[0,15], color=\"red\", label=\"1:1 line\")\n",
    "plt.legend()\n",
    "plt.xlabel(\"E0 pyet-FAO56 [mm]\")\n",
    "plt.ylabel(\"E0 CoAgMET-ASCE [mm]\");"
   ]
  },
  {
   "cell_type": "code",
   "execution_count": null,
   "metadata": {},
   "outputs": [],
   "source": []
  }
 ],
 "metadata": {
  "kernelspec": {
   "display_name": "Python 3 (ipykernel)",
   "language": "python",
   "name": "python3"
  },
  "language_info": {
   "codemirror_mode": {
    "name": "ipython",
    "version": 3
   },
   "file_extension": ".py",
   "mimetype": "text/x-python",
   "name": "python",
   "nbconvert_exporter": "python",
   "pygments_lexer": "ipython3",
   "version": "3.9.12"
  }
 },
 "nbformat": 4,
 "nbformat_minor": 4
}
