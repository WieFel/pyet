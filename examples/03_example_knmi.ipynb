{
 "cells": [
  {
   "cell_type": "markdown",
   "id": "d0959a4c",
   "metadata": {},
   "source": [
    "# Evaporation from KNMI data\n",
    "*R.A. Collenteur, University of Graz, 2021*\n",
    "\n",
    "In this notebook it is shown how to compute (potential) evaporation from meteorological data using PyEt. Meteorological data is observed by the KNMI at De Bilt in the Netherlands."
   ]
  },
  {
   "cell_type": "code",
   "execution_count": null,
   "id": "f8c6cab3",
   "metadata": {},
   "outputs": [],
   "source": [
    "import pandas as pd\n",
    "import matplotlib.pyplot as plt\n",
    "\n",
    "import pyet\n",
    "pyet.show_versions()"
   ]
  },
  {
   "cell_type": "markdown",
   "id": "61cb9b9e",
   "metadata": {},
   "source": [
    "## 1. Load KNMI Data\n",
    "\n",
    "We first load the raw meteorological data observed by the KNMI at De Bilt in the Netherlands. This datafile contains a lot of different variables, please see the end of the notebook for an explanation of all the variables. "
   ]
  },
  {
   "cell_type": "code",
   "execution_count": null,
   "id": "cbc6c337",
   "metadata": {},
   "outputs": [],
   "source": [
    "data = pd.read_csv(\"data/etmgeg_260.txt\", skiprows=46, delimiter=\",\", \n",
    "                   skipinitialspace=True, index_col=\"YYYYMMDD\", parse_dates=True).loc[\"2018\",:]\n",
    "data.head()"
   ]
  },
  {
   "cell_type": "markdown",
   "id": "be888ed3",
   "metadata": {},
   "source": [
    "## 2. Estimating potential evaporation\n",
    "\n",
    "Now that we have the input data, we can estimate potential evaporation with different estimation methods. Here we choose the Penman, Priestley-Taylor, Makkink, and Oudin methods. "
   ]
  },
  {
   "cell_type": "code",
   "execution_count": null,
   "id": "abe8a230",
   "metadata": {},
   "outputs": [],
   "source": [
    "# Preprocess the input data\n",
    "meteo = pd.DataFrame({\"tmean\":data.TG/10, \"tmax\":data.TX/10, \"tmin\":data.TN/10, \"rh\":data.UG, \"wind\":data.FG/10, \"rs\":data.Q/100})\n",
    "tmean, tmax, tmin, rh, wind, rs = [meteo[col] for col in meteo.columns]\n",
    "pressure =  data.PG / 100  # to kPa\n",
    "wind = data.FG/10  # to m/s\n",
    "lat = 0.91  # Latitude of the meteorological station\n",
    "elevation = 4  # meters above sea-level \n",
    "\n",
    "# Estimate evaporation with four different methods\n",
    "pe_penman = pyet.penman(tmean, wind, rs=rs, elevation=4, lat=0.91, tmax=tmax, tmin=tmin, rh=rh)\n",
    "pe_pt = pyet.priestley_taylor(tmean, wind, rs=rs, elevation=4, lat=0.91, tmax=tmax, tmin=tmin, rh=rh)\n",
    "pe_makkink = pyet.makkink(tmean, rs, elevation=4, pressure=pressure)\n",
    "pe_oudin = pyet.oudin(tmean, lat=0.91)"
   ]
  },
  {
   "cell_type": "markdown",
   "id": "578f8ac2",
   "metadata": {},
   "source": [
    "## 3. Plot the results\n",
    "\n",
    "We plot the cumulative sums to compare the different estimation methods."
   ]
  },
  {
   "cell_type": "code",
   "execution_count": null,
   "id": "4c5a8008",
   "metadata": {},
   "outputs": [],
   "source": [
    "fig, axs = plt.subplots(figsize=(12,3.5), ncols=2)\n",
    "axs[0].plot(pe_penman,label=\"Penman\")\n",
    "axs[0].plot(pe_pt, label=\"Priestley-Taylor\")\n",
    "axs[0].plot(pe_makkink, label=\"Makkink - PyEt\")\n",
    "axs[0].plot(pe_oudin, label=\"Oudin\")\n",
    "axs[1].plot(pe_penman.cumsum(),label=\"Penman\")\n",
    "axs[1].plot(pe_pt.cumsum(), label=\"Priestley-Taylor\")\n",
    "axs[1].plot(pe_makkink.cumsum(), label=\"Makkink - PyEt\")\n",
    "axs[1].plot(pe_oudin.cumsum(), label=\"Oudin\")\n",
    "axs[0].set_ylabel(\"ET [mm/day]\", fontsize=12)\n",
    "axs[1].set_ylabel(\"Cumulative ET [mm]\", fontsize=12)\n",
    "for i in (0,1):\n",
    "    axs[i].set_xlabel(\"Date\", fontsize=12)\n",
    "    axs[i].legend(loc=2)\n",
    "plt.tight_layout()\n",
    "\n",
    "#plt.savefig(\"Figure1.png\", dpi=300)"
   ]
  },
  {
   "cell_type": "markdown",
   "id": "75dacdc4",
   "metadata": {},
   "source": [
    "## 4. Comparison: pyet Makkink vs KNMI Makkink\n",
    "\n",
    "The KNMI also provides Makkink potential evaporation data (column EV24). We can now compare the results from Pyet and the KNMI to confirm that these are the same."
   ]
  },
  {
   "cell_type": "code",
   "execution_count": null,
   "id": "95c6b234",
   "metadata": {},
   "outputs": [],
   "source": [
    "pe_knmi = data.EV24 / 10  # Makkink potential evaporation computen by the KNMI for comparison\n",
    "\n",
    "# Plot the two series against each other\n",
    "plt.scatter(pe_makkink,pe_knmi)\n",
    "plt.plot([0,6],[0,6], color=\"red\", label=\"1:1 line\")\n",
    "plt.legend()\n",
    "plt.xlabel(\"pyet-Makkink [mm]\")\n",
    "plt.ylabel(\"KNMI-Makkink [mm]\");"
   ]
  },
  {
   "cell_type": "markdown",
   "id": "a51c36d1",
   "metadata": {},
   "source": [
    "## 5. Estimation of PE - all methods"
   ]
  },
  {
   "cell_type": "code",
   "execution_count": null,
   "id": "2a2b17d3",
   "metadata": {},
   "outputs": [],
   "source": [
    "pe_hamon = pyet.hamon(tmean, 0.91)\n",
    "pe_har = pyet.hargreaves(tmean, tmax, tmin, lat)\n",
    "pe_jh1 = pyet.jensen_haise(tmean, rs=rs, method=1)\n",
    "pe_jh2 = pyet.jensen_haise(tmean, lat=0.91, method=2)\n",
    "pe_oudin = pyet.oudin(tmean, lat=0.91)\n",
    "pe_abtew = pyet.abtew(tmean, rs)\n",
    "pe_turc = pyet.turc(tmean, rs, rh)\n",
    "pe_mg = pyet.mcguinness_bordne(tmean, lat=0.91)\n",
    "pe_linacre = pyet.linacre(tmean, 4, 0.91, tmax=tmax, tmin=tmin)\n",
    "pe_romanenko = pyet.romanenko(tmean, rh) \n",
    "pe_fao56 = pyet.pm_fao56(tmean, wind, rs=rs, elevation=4, lat=0.91, tmax=tmax, tmin=tmin, rh=rh)\n",
    "pe_pm = pyet.pm(tmean, wind, rs=rs, elevation=4, lat=0.91, tmax=tmax, tmin=tmin, rh=rh)\n",
    "pe_kb = pyet.kimberly_penman(tmean, wind, rs=rs, elevation=4, lat=0.91, tmax=tmax, tmin=tmin, rh=rh)\n",
    "pe_fao24 = pyet.fao_24(tmean, wind, rs=rs, rh=rh, elevation=4)\n",
    "pe_thom = pyet.thom_oliver(tmean, wind, rs=rs, elevation=4, lat=0.91, tmax=tmax, tmin=tmin, rh=rh)\n",
    "pe_makkink = pyet.makkink(tmean, rs, elevation=4, pressure=pressure)"
   ]
  },
  {
   "cell_type": "code",
   "execution_count": null,
   "id": "055e90d1",
   "metadata": {},
   "outputs": [],
   "source": [
    "pe_hamon.plot(label=\"Hamon\")\n",
    "pe_har.plot(label=\"Hargreaves\")\n",
    "pe_jh1.plot(label=\"Jensen-Haise 1\")\n",
    "pe_jh2.plot(label=\"Jensen-Haise 2\")\n",
    "pe_makkink.plot(label=\"Makkink\")\n",
    "pe_oudin.plot(label=\"Oudin\")\n",
    "pe_abtew.plot(label=\"Abtew\")\n",
    "pe_turc.plot(label=\"Turc\")\n",
    "pe_fao24.plot(label=\"FAO-24\")\n",
    "pe_mg.plot(label=\"McGuinness-Bordne\")\n",
    "plt.legend();"
   ]
  },
  {
   "cell_type": "code",
   "execution_count": null,
   "id": "7e55de8b",
   "metadata": {},
   "outputs": [],
   "source": [
    "pe_linacre.plot(label=\"Linacre\")\n",
    "pe_romanenko.plot(label=\"Romanenko\")\n",
    "pe_fao56.plot(label=\"FAO-56\")\n",
    "pe_pm.plot(label=\"Penman-Monteith\")\n",
    "pe_kb.plot(label=\"Kimberley-Penman\")\n",
    "pe_fao24.plot(label=\"FAO-24\")\n",
    "pe_thom.plot(label=\"Thon and Oliver\")\n",
    "plt.legend();"
   ]
  },
  {
   "cell_type": "markdown",
   "id": "815addc4",
   "metadata": {},
   "source": [
    "## References\n",
    "\n",
    "Column description of the KNMI data\n",
    "\n",
    "- DDVEC     = Vector mean wind direction in degrees (360=north, 90=east, 180=south, 270=west, 0=calm/variable)\n",
    "- FHVEC     = Vector mean windspeed (in 0.1 m/s)\n",
    "- FG        = Daily mean windspeed (in 0.1 m/s) \n",
    "- FHX       = Maximum hourly mean windspeed (in 0.1 m/s)\n",
    "- FHXH      = Hourly division in which FHX was measured\n",
    "- FHN       = Minimum hourly mean windspeed (in 0.1 m/s)\n",
    "- FHNH      = Hourly division in which FHN was measured\n",
    "- FXX       = Maximum wind gust (in 0.1 m/s)\n",
    "- FXXH      = Hourly division in which FXX was measured\n",
    "- TG        = Daily mean temperature in (0.1 degrees Celsius)\n",
    "- TN        = Minimum temperature (in 0.1 degrees Celsius)\n",
    "- TNH       = Hourly division in which TN was measured\n",
    "- TX        = Maximum temperature (in 0.1 degrees Celsius)\n",
    "- TXH       = Hourly division in which TX was measured\n",
    "- T10N      = Minimum temperature at 10 cm above surface (in 0.1 degrees Celsius)\n",
    "- T10NH     = 6-hourly division in which T10N was measured; 6=0-6 UT, 12=6-12 UT, 18=12-18 UT, 24=18-24 UT \n",
    "- SQ        = Sunshine duration (in 0.1 hour) calculated from global radiation (-1 for <0.05 hour)\n",
    "- SP        = Percentage of maximum potential sunshine duration\n",
    "- Q         = Global radiation (in J/cm2)\n",
    "- DR        = Precipitation duration (in 0.1 hour)\n",
    "- RH        = Daily precipitation amount (in 0.1 mm) (-1 for <0.05 mm)\n",
    "- RHX       = Maximum hourly precipitation amount (in 0.1 mm) (-1 for <0.05 mm)\n",
    "- RHXH      = Hourly division in which RHX was measured\n",
    "- PG        = Daily mean sea level pressure (in 0.1 hPa) calculated from 24 hourly values\n",
    "- PX        = Maximum hourly sea level pressure (in 0.1 hPa)\n",
    "- PXH       = Hourly division in which PX was measured\n",
    "- PN        = Minimum hourly sea level pressure (in 0.1 hPa)\n",
    "- PNH       = Hourly division in which PN was measured\n",
    "- VVN       = Minimum visibility; 0: <100 m, 1:100-200 m, 2:200-300 m,..., 49:4900-5000 m, 50:5-6 km, 56:6-7 km, 57:7-8 km,..., 79:29-30 km, 80:30-35 km, 81:35-40 km,..., 89: >70 km)\n",
    "- VVNH      = Hourly division in which VVN was measured\n",
    "- VVX       = Maximum visibility; 0: <100 m, 1:100-200 m, 2:200-300 m,..., 49:4900-5000 m, 50:5-6 km, 56:6-7 km, 57:7-8 km,..., 79:29-30 km, 80:30-35 km, 81:35-40 km,..., 89: >70 km)\n",
    "- VVXH      = Hourly division in which VVX was measured\n",
    "- NG        = Mean daily cloud cover (in octants, 9=sky invisible)\n",
    "- UG        = Daily mean relative atmospheric humidity (in percents)\n",
    "- UX        = Maximum relative atmospheric humidity (in percents)\n",
    "- UXH       = Hourly division in which UX was measured\n",
    "- UN        = Minimum relative atmospheric humidity (in percents)\n",
    "- UNH       = Hourly division in which UN was measured\n",
    "- EV24      = Potential evapotranspiration (Makkink) (in 0.1 mm)"
   ]
  }
 ],
 "metadata": {
  "kernelspec": {
   "display_name": "Python 3 (ipykernel)",
   "language": "python",
   "name": "python3"
  },
  "language_info": {
   "codemirror_mode": {
    "name": "ipython",
    "version": 3
   },
   "file_extension": ".py",
   "mimetype": "text/x-python",
   "name": "python",
   "nbconvert_exporter": "python",
   "pygments_lexer": "ipython3",
   "version": "3.9.12"
  }
 },
 "nbformat": 4,
 "nbformat_minor": 5
}
