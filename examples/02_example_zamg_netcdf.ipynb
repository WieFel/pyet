{
 "cells": [
  {
   "cell_type": "markdown",
   "id": "999bc8b7-804c-4301-b8c7-5077a38dc06f",
   "metadata": {},
   "source": [
    "# Evaporation from ZAMG INCA data (NetCDF)\n",
    "*A. Kokimova, November 2021, University of Graz*\n",
    "\n",
    "What is done:\n",
    "\n",
    "- load the data from ZAMG\n",
    "- estimate potential evaporation\n",
    "- plot and store results\n",
    "\n",
    "Data source: ZAMG - https://data.hub.zamg.ac.at"
   ]
  },
  {
   "cell_type": "code",
   "execution_count": 1,
   "id": "7a2ae568-3c3b-44f5-8b82-ab5a99d35d2d",
   "metadata": {},
   "outputs": [
    {
     "name": "stdout",
     "output_type": "stream",
     "text": [
      "Python version: 3.9.12 (main, Apr  4 2022, 05:22:27) [MSC v.1916 64 bit (AMD64)]\n",
      "Numpy version: 1.21.5\n",
      "Scipy version: 1.7.3\n",
      "Pandas version: 1.4.2\n",
      "Matplotlib version: 3.5.1\n",
      "Pyet version: 1.1.0b\n"
     ]
    }
   ],
   "source": [
    "import pandas as pd\n",
    "import matplotlib.pyplot as plt\n",
    "import numpy as np\n",
    "import xarray as xr\n",
    "import pyet\n",
    "pyet.show_versions()"
   ]
  },
  {
   "cell_type": "markdown",
   "id": "da6f3e98-0073-4db9-b763-03beb2611e78",
   "metadata": {},
   "source": [
    "## Loading daily data from ZAMG (INCA hourly NetCDF data)"
   ]
  },
  {
   "cell_type": "code",
   "execution_count": 2,
   "id": "236434b2-3c33-4772-93ec-de0cb7317209",
   "metadata": {},
   "outputs": [
    {
     "data": {
      "text/html": [
       "<div><svg style=\"position: absolute; width: 0; height: 0; overflow: hidden\">\n",
       "<defs>\n",
       "<symbol id=\"icon-database\" viewBox=\"0 0 32 32\">\n",
       "<path d=\"M16 0c-8.837 0-16 2.239-16 5v4c0 2.761 7.163 5 16 5s16-2.239 16-5v-4c0-2.761-7.163-5-16-5z\"></path>\n",
       "<path d=\"M16 17c-8.837 0-16-2.239-16-5v6c0 2.761 7.163 5 16 5s16-2.239 16-5v-6c0 2.761-7.163 5-16 5z\"></path>\n",
       "<path d=\"M16 26c-8.837 0-16-2.239-16-5v6c0 2.761 7.163 5 16 5s16-2.239 16-5v-6c0 2.761-7.163 5-16 5z\"></path>\n",
       "</symbol>\n",
       "<symbol id=\"icon-file-text2\" viewBox=\"0 0 32 32\">\n",
       "<path d=\"M28.681 7.159c-0.694-0.947-1.662-2.053-2.724-3.116s-2.169-2.030-3.116-2.724c-1.612-1.182-2.393-1.319-2.841-1.319h-15.5c-1.378 0-2.5 1.121-2.5 2.5v27c0 1.378 1.122 2.5 2.5 2.5h23c1.378 0 2.5-1.122 2.5-2.5v-19.5c0-0.448-0.137-1.23-1.319-2.841zM24.543 5.457c0.959 0.959 1.712 1.825 2.268 2.543h-4.811v-4.811c0.718 0.556 1.584 1.309 2.543 2.268zM28 29.5c0 0.271-0.229 0.5-0.5 0.5h-23c-0.271 0-0.5-0.229-0.5-0.5v-27c0-0.271 0.229-0.5 0.5-0.5 0 0 15.499-0 15.5 0v7c0 0.552 0.448 1 1 1h7v19.5z\"></path>\n",
       "<path d=\"M23 26h-14c-0.552 0-1-0.448-1-1s0.448-1 1-1h14c0.552 0 1 0.448 1 1s-0.448 1-1 1z\"></path>\n",
       "<path d=\"M23 22h-14c-0.552 0-1-0.448-1-1s0.448-1 1-1h14c0.552 0 1 0.448 1 1s-0.448 1-1 1z\"></path>\n",
       "<path d=\"M23 18h-14c-0.552 0-1-0.448-1-1s0.448-1 1-1h14c0.552 0 1 0.448 1 1s-0.448 1-1 1z\"></path>\n",
       "</symbol>\n",
       "</defs>\n",
       "</svg>\n",
       "<style>/* CSS stylesheet for displaying xarray objects in jupyterlab.\n",
       " *\n",
       " */\n",
       "\n",
       ":root {\n",
       "  --xr-font-color0: var(--jp-content-font-color0, rgba(0, 0, 0, 1));\n",
       "  --xr-font-color2: var(--jp-content-font-color2, rgba(0, 0, 0, 0.54));\n",
       "  --xr-font-color3: var(--jp-content-font-color3, rgba(0, 0, 0, 0.38));\n",
       "  --xr-border-color: var(--jp-border-color2, #e0e0e0);\n",
       "  --xr-disabled-color: var(--jp-layout-color3, #bdbdbd);\n",
       "  --xr-background-color: var(--jp-layout-color0, white);\n",
       "  --xr-background-color-row-even: var(--jp-layout-color1, white);\n",
       "  --xr-background-color-row-odd: var(--jp-layout-color2, #eeeeee);\n",
       "}\n",
       "\n",
       "html[theme=dark],\n",
       "body.vscode-dark {\n",
       "  --xr-font-color0: rgba(255, 255, 255, 1);\n",
       "  --xr-font-color2: rgba(255, 255, 255, 0.54);\n",
       "  --xr-font-color3: rgba(255, 255, 255, 0.38);\n",
       "  --xr-border-color: #1F1F1F;\n",
       "  --xr-disabled-color: #515151;\n",
       "  --xr-background-color: #111111;\n",
       "  --xr-background-color-row-even: #111111;\n",
       "  --xr-background-color-row-odd: #313131;\n",
       "}\n",
       "\n",
       ".xr-wrap {\n",
       "  display: block;\n",
       "  min-width: 300px;\n",
       "  max-width: 700px;\n",
       "}\n",
       "\n",
       ".xr-text-repr-fallback {\n",
       "  /* fallback to plain text repr when CSS is not injected (untrusted notebook) */\n",
       "  display: none;\n",
       "}\n",
       "\n",
       ".xr-header {\n",
       "  padding-top: 6px;\n",
       "  padding-bottom: 6px;\n",
       "  margin-bottom: 4px;\n",
       "  border-bottom: solid 1px var(--xr-border-color);\n",
       "}\n",
       "\n",
       ".xr-header > div,\n",
       ".xr-header > ul {\n",
       "  display: inline;\n",
       "  margin-top: 0;\n",
       "  margin-bottom: 0;\n",
       "}\n",
       "\n",
       ".xr-obj-type,\n",
       ".xr-array-name {\n",
       "  margin-left: 2px;\n",
       "  margin-right: 10px;\n",
       "}\n",
       "\n",
       ".xr-obj-type {\n",
       "  color: var(--xr-font-color2);\n",
       "}\n",
       "\n",
       ".xr-sections {\n",
       "  padding-left: 0 !important;\n",
       "  display: grid;\n",
       "  grid-template-columns: 150px auto auto 1fr 20px 20px;\n",
       "}\n",
       "\n",
       ".xr-section-item {\n",
       "  display: contents;\n",
       "}\n",
       "\n",
       ".xr-section-item input {\n",
       "  display: none;\n",
       "}\n",
       "\n",
       ".xr-section-item input + label {\n",
       "  color: var(--xr-disabled-color);\n",
       "}\n",
       "\n",
       ".xr-section-item input:enabled + label {\n",
       "  cursor: pointer;\n",
       "  color: var(--xr-font-color2);\n",
       "}\n",
       "\n",
       ".xr-section-item input:enabled + label:hover {\n",
       "  color: var(--xr-font-color0);\n",
       "}\n",
       "\n",
       ".xr-section-summary {\n",
       "  grid-column: 1;\n",
       "  color: var(--xr-font-color2);\n",
       "  font-weight: 500;\n",
       "}\n",
       "\n",
       ".xr-section-summary > span {\n",
       "  display: inline-block;\n",
       "  padding-left: 0.5em;\n",
       "}\n",
       "\n",
       ".xr-section-summary-in:disabled + label {\n",
       "  color: var(--xr-font-color2);\n",
       "}\n",
       "\n",
       ".xr-section-summary-in + label:before {\n",
       "  display: inline-block;\n",
       "  content: '►';\n",
       "  font-size: 11px;\n",
       "  width: 15px;\n",
       "  text-align: center;\n",
       "}\n",
       "\n",
       ".xr-section-summary-in:disabled + label:before {\n",
       "  color: var(--xr-disabled-color);\n",
       "}\n",
       "\n",
       ".xr-section-summary-in:checked + label:before {\n",
       "  content: '▼';\n",
       "}\n",
       "\n",
       ".xr-section-summary-in:checked + label > span {\n",
       "  display: none;\n",
       "}\n",
       "\n",
       ".xr-section-summary,\n",
       ".xr-section-inline-details {\n",
       "  padding-top: 4px;\n",
       "  padding-bottom: 4px;\n",
       "}\n",
       "\n",
       ".xr-section-inline-details {\n",
       "  grid-column: 2 / -1;\n",
       "}\n",
       "\n",
       ".xr-section-details {\n",
       "  display: none;\n",
       "  grid-column: 1 / -1;\n",
       "  margin-bottom: 5px;\n",
       "}\n",
       "\n",
       ".xr-section-summary-in:checked ~ .xr-section-details {\n",
       "  display: contents;\n",
       "}\n",
       "\n",
       ".xr-array-wrap {\n",
       "  grid-column: 1 / -1;\n",
       "  display: grid;\n",
       "  grid-template-columns: 20px auto;\n",
       "}\n",
       "\n",
       ".xr-array-wrap > label {\n",
       "  grid-column: 1;\n",
       "  vertical-align: top;\n",
       "}\n",
       "\n",
       ".xr-preview {\n",
       "  color: var(--xr-font-color3);\n",
       "}\n",
       "\n",
       ".xr-array-preview,\n",
       ".xr-array-data {\n",
       "  padding: 0 5px !important;\n",
       "  grid-column: 2;\n",
       "}\n",
       "\n",
       ".xr-array-data,\n",
       ".xr-array-in:checked ~ .xr-array-preview {\n",
       "  display: none;\n",
       "}\n",
       "\n",
       ".xr-array-in:checked ~ .xr-array-data,\n",
       ".xr-array-preview {\n",
       "  display: inline-block;\n",
       "}\n",
       "\n",
       ".xr-dim-list {\n",
       "  display: inline-block !important;\n",
       "  list-style: none;\n",
       "  padding: 0 !important;\n",
       "  margin: 0;\n",
       "}\n",
       "\n",
       ".xr-dim-list li {\n",
       "  display: inline-block;\n",
       "  padding: 0;\n",
       "  margin: 0;\n",
       "}\n",
       "\n",
       ".xr-dim-list:before {\n",
       "  content: '(';\n",
       "}\n",
       "\n",
       ".xr-dim-list:after {\n",
       "  content: ')';\n",
       "}\n",
       "\n",
       ".xr-dim-list li:not(:last-child):after {\n",
       "  content: ',';\n",
       "  padding-right: 5px;\n",
       "}\n",
       "\n",
       ".xr-has-index {\n",
       "  font-weight: bold;\n",
       "}\n",
       "\n",
       ".xr-var-list,\n",
       ".xr-var-item {\n",
       "  display: contents;\n",
       "}\n",
       "\n",
       ".xr-var-item > div,\n",
       ".xr-var-item label,\n",
       ".xr-var-item > .xr-var-name span {\n",
       "  background-color: var(--xr-background-color-row-even);\n",
       "  margin-bottom: 0;\n",
       "}\n",
       "\n",
       ".xr-var-item > .xr-var-name:hover span {\n",
       "  padding-right: 5px;\n",
       "}\n",
       "\n",
       ".xr-var-list > li:nth-child(odd) > div,\n",
       ".xr-var-list > li:nth-child(odd) > label,\n",
       ".xr-var-list > li:nth-child(odd) > .xr-var-name span {\n",
       "  background-color: var(--xr-background-color-row-odd);\n",
       "}\n",
       "\n",
       ".xr-var-name {\n",
       "  grid-column: 1;\n",
       "}\n",
       "\n",
       ".xr-var-dims {\n",
       "  grid-column: 2;\n",
       "}\n",
       "\n",
       ".xr-var-dtype {\n",
       "  grid-column: 3;\n",
       "  text-align: right;\n",
       "  color: var(--xr-font-color2);\n",
       "}\n",
       "\n",
       ".xr-var-preview {\n",
       "  grid-column: 4;\n",
       "}\n",
       "\n",
       ".xr-var-name,\n",
       ".xr-var-dims,\n",
       ".xr-var-dtype,\n",
       ".xr-preview,\n",
       ".xr-attrs dt {\n",
       "  white-space: nowrap;\n",
       "  overflow: hidden;\n",
       "  text-overflow: ellipsis;\n",
       "  padding-right: 10px;\n",
       "}\n",
       "\n",
       ".xr-var-name:hover,\n",
       ".xr-var-dims:hover,\n",
       ".xr-var-dtype:hover,\n",
       ".xr-attrs dt:hover {\n",
       "  overflow: visible;\n",
       "  width: auto;\n",
       "  z-index: 1;\n",
       "}\n",
       "\n",
       ".xr-var-attrs,\n",
       ".xr-var-data {\n",
       "  display: none;\n",
       "  background-color: var(--xr-background-color) !important;\n",
       "  padding-bottom: 5px !important;\n",
       "}\n",
       "\n",
       ".xr-var-attrs-in:checked ~ .xr-var-attrs,\n",
       ".xr-var-data-in:checked ~ .xr-var-data {\n",
       "  display: block;\n",
       "}\n",
       "\n",
       ".xr-var-data > table {\n",
       "  float: right;\n",
       "}\n",
       "\n",
       ".xr-var-name span,\n",
       ".xr-var-data,\n",
       ".xr-attrs {\n",
       "  padding-left: 25px !important;\n",
       "}\n",
       "\n",
       ".xr-attrs,\n",
       ".xr-var-attrs,\n",
       ".xr-var-data {\n",
       "  grid-column: 1 / -1;\n",
       "}\n",
       "\n",
       "dl.xr-attrs {\n",
       "  padding: 0;\n",
       "  margin: 0;\n",
       "  display: grid;\n",
       "  grid-template-columns: 125px auto;\n",
       "}\n",
       "\n",
       ".xr-attrs dt,\n",
       ".xr-attrs dd {\n",
       "  padding: 0;\n",
       "  margin: 0;\n",
       "  float: left;\n",
       "  padding-right: 10px;\n",
       "  width: auto;\n",
       "}\n",
       "\n",
       ".xr-attrs dt {\n",
       "  font-weight: normal;\n",
       "  grid-column: 1;\n",
       "}\n",
       "\n",
       ".xr-attrs dt:hover span {\n",
       "  display: inline-block;\n",
       "  background: var(--xr-background-color);\n",
       "  padding-right: 10px;\n",
       "}\n",
       "\n",
       ".xr-attrs dd {\n",
       "  grid-column: 2;\n",
       "  white-space: pre-wrap;\n",
       "  word-break: break-all;\n",
       "}\n",
       "\n",
       ".xr-icon-database,\n",
       ".xr-icon-file-text2 {\n",
       "  display: inline-block;\n",
       "  vertical-align: middle;\n",
       "  width: 1em;\n",
       "  height: 1.5em !important;\n",
       "  stroke-width: 0;\n",
       "  stroke: currentColor;\n",
       "  fill: currentColor;\n",
       "}\n",
       "</style><pre class='xr-text-repr-fallback'>&lt;xarray.Dataset&gt;\n",
       "Dimensions:                  (time: 3672, y: 17, x: 20)\n",
       "Coordinates:\n",
       "    lat                      (x, y) float32 ...\n",
       "  * y                        (y) int32 344000 345000 346000 ... 359000 360000\n",
       "    lon                      (x, y) float32 ...\n",
       "    lambert_conformal_conic  float64 nan\n",
       "  * x                        (x) int32 549000 550000 551000 ... 567000 568000\n",
       "  * time                     (time) datetime64[ns] 2012-05-01 ... 2012-09-30T...\n",
       "Data variables:\n",
       "    GL                       (x, y, time) float64 ...\n",
       "    P0                       (x, y, time) float64 ...\n",
       "    RH2M                     (x, y, time) float32 ...\n",
       "    T2M                      (x, y, time) float32 ...\n",
       "    UU                       (x, y, time) float32 ...\n",
       "    VV                       (x, y, time) float32 ...\n",
       "Attributes: (12/14)\n",
       "    Conventions:         CF-1.7\n",
       "    author:              Alexander Kann (alexander.kann@zamg.ac.at), Benedikt...\n",
       "    comment:             No additional comments\n",
       "    crs:                 EPSG:31287\n",
       "    freq:                1H\n",
       "    grid_mapping:        lambert_conformal_conic\n",
       "    ...                  ...\n",
       "    name:                incal-hourly\n",
       "    references:          https://www.zamg.ac.at/cms/de/forschung/wetter/inca ...\n",
       "    source:              modeled data\n",
       "    spatial_domain:      INCAL\n",
       "    spatial_resolution:  1000\n",
<<<<<<< HEAD
       "    title:               INCA analysis - large domain</pre><div class='xr-wrap' hidden><div class='xr-header'><div class='xr-obj-type'>xarray.Dataset</div></div><ul class='xr-sections'><li class='xr-section-item'><input id='section-fac4763a-8a83-4acc-b174-cc122e47856e' class='xr-section-summary-in' type='checkbox' disabled ><label for='section-fac4763a-8a83-4acc-b174-cc122e47856e' class='xr-section-summary'  title='Expand/collapse section'>Dimensions:</label><div class='xr-section-inline-details'><ul class='xr-dim-list'><li><span class='xr-has-index'>time</span>: 3672</li><li><span class='xr-has-index'>y</span>: 17</li><li><span class='xr-has-index'>x</span>: 20</li></ul></div><div class='xr-section-details'></div></li><li class='xr-section-item'><input id='section-54a13899-7040-42e8-9044-8265a70bdbe6' class='xr-section-summary-in' type='checkbox'  checked><label for='section-54a13899-7040-42e8-9044-8265a70bdbe6' class='xr-section-summary' >Coordinates: <span>(6)</span></label><div class='xr-section-inline-details'></div><div class='xr-section-details'><ul class='xr-var-list'><li class='xr-var-item'><div class='xr-var-name'><span>lat</span></div><div class='xr-var-dims'>(x, y)</div><div class='xr-var-dtype'>float32</div><div class='xr-var-preview xr-preview'>...</div><input id='attrs-6d3ede24-805b-4321-88f8-ba5596ffa616' class='xr-var-attrs-in' type='checkbox' ><label for='attrs-6d3ede24-805b-4321-88f8-ba5596ffa616' title='Show/Hide attributes'><svg class='icon xr-icon-file-text2'><use xlink:href='#icon-file-text2'></use></svg></label><input id='data-a1251e5d-4765-432c-b410-bd9d318b09c5' class='xr-var-data-in' type='checkbox'><label for='data-a1251e5d-4765-432c-b410-bd9d318b09c5' title='Show/Hide data repr'><svg class='icon xr-icon-database'><use xlink:href='#icon-database'></use></svg></label><div class='xr-var-attrs'><dl class='xr-attrs'><dt><span>long_name :</span></dt><dd>latitude</dd><dt><span>standard_name :</span></dt><dd>latitude</dd><dt><span>units :</span></dt><dd>degrees_north</dd></dl></div><div class='xr-var-data'><pre>array([[46.97877 , 46.987766, 46.99676 , ..., 47.104702, 47.113697, 47.122692],\n",
=======
       "    title:               INCA analysis - large domain</pre><div class='xr-wrap' hidden><div class='xr-header'><div class='xr-obj-type'>xarray.Dataset</div></div><ul class='xr-sections'><li class='xr-section-item'><input id='section-74867a32-3b99-40f1-8620-a5a3afc54974' class='xr-section-summary-in' type='checkbox' disabled ><label for='section-74867a32-3b99-40f1-8620-a5a3afc54974' class='xr-section-summary'  title='Expand/collapse section'>Dimensions:</label><div class='xr-section-inline-details'><ul class='xr-dim-list'><li><span class='xr-has-index'>time</span>: 3672</li><li><span class='xr-has-index'>y</span>: 17</li><li><span class='xr-has-index'>x</span>: 20</li></ul></div><div class='xr-section-details'></div></li><li class='xr-section-item'><input id='section-ed3ba288-0b85-488d-b77c-3e40b40324ed' class='xr-section-summary-in' type='checkbox'  checked><label for='section-ed3ba288-0b85-488d-b77c-3e40b40324ed' class='xr-section-summary' >Coordinates: <span>(6)</span></label><div class='xr-section-inline-details'></div><div class='xr-section-details'><ul class='xr-var-list'><li class='xr-var-item'><div class='xr-var-name'><span>lat</span></div><div class='xr-var-dims'>(x, y)</div><div class='xr-var-dtype'>float32</div><div class='xr-var-preview xr-preview'>...</div><input id='attrs-0608dedb-d179-4eb6-bcbb-a8eeb8bfe67f' class='xr-var-attrs-in' type='checkbox' ><label for='attrs-0608dedb-d179-4eb6-bcbb-a8eeb8bfe67f' title='Show/Hide attributes'><svg class='icon xr-icon-file-text2'><use xlink:href='#icon-file-text2'></use></svg></label><input id='data-9f0bb03e-508c-4650-8967-6a67bb3e22cd' class='xr-var-data-in' type='checkbox'><label for='data-9f0bb03e-508c-4650-8967-6a67bb3e22cd' title='Show/Hide data repr'><svg class='icon xr-icon-database'><use xlink:href='#icon-database'></use></svg></label><div class='xr-var-attrs'><dl class='xr-attrs'><dt><span>long_name :</span></dt><dd>latitude</dd><dt><span>standard_name :</span></dt><dd>latitude</dd><dt><span>units :</span></dt><dd>degrees_north</dd></dl></div><div class='xr-var-data'><pre>array([[46.97877 , 46.987766, 46.99676 , ..., 47.104702, 47.113697, 47.122692],\n",
>>>>>>> 9dd04566d670bf640b4a10154e8430ae75f9c615
       "       [46.978546, 46.98754 , 46.996532, ..., 47.104473, 47.11347 , 47.122463],\n",
       "       [46.978317, 46.987312, 46.996307, ..., 47.104244, 47.11324 , 47.122234],\n",
       "       ...,\n",
       "       [46.9747  , 46.983696, 46.99269 , ..., 47.10062 , 47.109615, 47.11861 ],\n",
       "       [46.97445 , 46.983444, 46.99244 , ..., 47.10037 , 47.109364, 47.118355],\n",
       "       [46.974194, 46.98319 , 46.992184, ..., 47.100113, 47.109108, 47.118103]],\n",
<<<<<<< HEAD
       "      dtype=float32)</pre></div></li><li class='xr-var-item'><div class='xr-var-name'><span class='xr-has-index'>y</span></div><div class='xr-var-dims'>(y)</div><div class='xr-var-dtype'>int32</div><div class='xr-var-preview xr-preview'>344000 345000 ... 359000 360000</div><input id='attrs-23248e5c-c098-4105-b78b-bbc98b0864ca' class='xr-var-attrs-in' type='checkbox' ><label for='attrs-23248e5c-c098-4105-b78b-bbc98b0864ca' title='Show/Hide attributes'><svg class='icon xr-icon-file-text2'><use xlink:href='#icon-file-text2'></use></svg></label><input id='data-24d18909-242b-4020-9ec9-96f16e215cf2' class='xr-var-data-in' type='checkbox'><label for='data-24d18909-242b-4020-9ec9-96f16e215cf2' title='Show/Hide data repr'><svg class='icon xr-icon-database'><use xlink:href='#icon-database'></use></svg></label><div class='xr-var-attrs'><dl class='xr-attrs'><dt><span>axis :</span></dt><dd>Y</dd><dt><span>long_name :</span></dt><dd>y coordinate of projection</dd><dt><span>standard_name :</span></dt><dd>projection_y_coordinate</dd><dt><span>units :</span></dt><dd>m</dd></dl></div><div class='xr-var-data'><pre>array([344000, 345000, 346000, 347000, 348000, 349000, 350000, 351000, 352000,\n",
       "       353000, 354000, 355000, 356000, 357000, 358000, 359000, 360000])</pre></div></li><li class='xr-var-item'><div class='xr-var-name'><span>lon</span></div><div class='xr-var-dims'>(x, y)</div><div class='xr-var-dtype'>float32</div><div class='xr-var-preview xr-preview'>...</div><input id='attrs-48d60aad-69ac-429a-808f-af5f00c712c1' class='xr-var-attrs-in' type='checkbox' ><label for='attrs-48d60aad-69ac-429a-808f-af5f00c712c1' title='Show/Hide attributes'><svg class='icon xr-icon-file-text2'><use xlink:href='#icon-file-text2'></use></svg></label><input id='data-b83b7eeb-cca7-4301-afae-c4b620cac9e2' class='xr-var-data-in' type='checkbox'><label for='data-b83b7eeb-cca7-4301-afae-c4b620cac9e2' title='Show/Hide data repr'><svg class='icon xr-icon-database'><use xlink:href='#icon-database'></use></svg></label><div class='xr-var-attrs'><dl class='xr-attrs'><dt><span>long_name :</span></dt><dd>longitude</dd><dt><span>standard_name :</span></dt><dd>longitude</dd><dt><span>units :</span></dt><dd>degrees_east</dd></dl></div><div class='xr-var-data'><pre>array([[15.291715, 15.292046, 15.292377, ..., 15.296357, 15.29669 , 15.297022],\n",
=======
       "      dtype=float32)</pre></div></li><li class='xr-var-item'><div class='xr-var-name'><span class='xr-has-index'>y</span></div><div class='xr-var-dims'>(y)</div><div class='xr-var-dtype'>int32</div><div class='xr-var-preview xr-preview'>344000 345000 ... 359000 360000</div><input id='attrs-29d43033-3bd3-4db4-87b9-15cb915b30aa' class='xr-var-attrs-in' type='checkbox' ><label for='attrs-29d43033-3bd3-4db4-87b9-15cb915b30aa' title='Show/Hide attributes'><svg class='icon xr-icon-file-text2'><use xlink:href='#icon-file-text2'></use></svg></label><input id='data-ac73ddf1-8020-48a5-b441-75773a8168ad' class='xr-var-data-in' type='checkbox'><label for='data-ac73ddf1-8020-48a5-b441-75773a8168ad' title='Show/Hide data repr'><svg class='icon xr-icon-database'><use xlink:href='#icon-database'></use></svg></label><div class='xr-var-attrs'><dl class='xr-attrs'><dt><span>axis :</span></dt><dd>Y</dd><dt><span>long_name :</span></dt><dd>y coordinate of projection</dd><dt><span>standard_name :</span></dt><dd>projection_y_coordinate</dd><dt><span>units :</span></dt><dd>m</dd></dl></div><div class='xr-var-data'><pre>array([344000, 345000, 346000, 347000, 348000, 349000, 350000, 351000, 352000,\n",
       "       353000, 354000, 355000, 356000, 357000, 358000, 359000, 360000])</pre></div></li><li class='xr-var-item'><div class='xr-var-name'><span>lon</span></div><div class='xr-var-dims'>(x, y)</div><div class='xr-var-dtype'>float32</div><div class='xr-var-preview xr-preview'>...</div><input id='attrs-f5c27c44-9d0d-4fdd-b2dd-c186a3c547fb' class='xr-var-attrs-in' type='checkbox' ><label for='attrs-f5c27c44-9d0d-4fdd-b2dd-c186a3c547fb' title='Show/Hide attributes'><svg class='icon xr-icon-file-text2'><use xlink:href='#icon-file-text2'></use></svg></label><input id='data-04e3a176-3af7-4417-a40e-d412caed8948' class='xr-var-data-in' type='checkbox'><label for='data-04e3a176-3af7-4417-a40e-d412caed8948' title='Show/Hide data repr'><svg class='icon xr-icon-database'><use xlink:href='#icon-database'></use></svg></label><div class='xr-var-attrs'><dl class='xr-attrs'><dt><span>long_name :</span></dt><dd>longitude</dd><dt><span>standard_name :</span></dt><dd>longitude</dd><dt><span>units :</span></dt><dd>degrees_east</dd></dl></div><div class='xr-var-data'><pre>array([[15.291715, 15.292046, 15.292377, ..., 15.296357, 15.29669 , 15.297022],\n",
>>>>>>> 9dd04566d670bf640b4a10154e8430ae75f9c615
       "       [15.304857, 15.30519 , 15.305524, ..., 15.309531, 15.309866, 15.310201],\n",
       "       [15.318   , 15.318335, 15.31867 , ..., 15.322704, 15.323042, 15.323379],\n",
       "       ...,\n",
       "       [15.515122, 15.515491, 15.515861, ..., 15.520295, 15.520666, 15.521036],\n",
       "       [15.528263, 15.528634, 15.529005, ..., 15.533467, 15.53384 , 15.534212],\n",
       "       [15.541404, 15.541777, 15.54215 , ..., 15.546638, 15.547013, 15.547389]],\n",
<<<<<<< HEAD
       "      dtype=float32)</pre></div></li><li class='xr-var-item'><div class='xr-var-name'><span>lambert_conformal_conic</span></div><div class='xr-var-dims'>()</div><div class='xr-var-dtype'>float64</div><div class='xr-var-preview xr-preview'>...</div><input id='attrs-9d6b3611-296c-4a50-9e4d-7b33ea0ebe0d' class='xr-var-attrs-in' type='checkbox' ><label for='attrs-9d6b3611-296c-4a50-9e4d-7b33ea0ebe0d' title='Show/Hide attributes'><svg class='icon xr-icon-file-text2'><use xlink:href='#icon-file-text2'></use></svg></label><input id='data-01bcb225-14df-49ac-abe4-d566e331a1c0' class='xr-var-data-in' type='checkbox'><label for='data-01bcb225-14df-49ac-abe4-d566e331a1c0' title='Show/Hide data repr'><svg class='icon xr-icon-database'><use xlink:href='#icon-database'></use></svg></label><div class='xr-var-attrs'><dl class='xr-attrs'><dt><span>Easternmost_Easting :</span></dt><dd>720500</dd><dt><span>GeoTransform :</span></dt><dd>19500 1000.000 0 219500 0 1000.000</dd><dt><span>Northernmost_Northing :</span></dt><dd>620500</dd><dt><span>Southernmost_Northing :</span></dt><dd>219500</dd><dt><span>Westernmost_Easting :</span></dt><dd>19500</dd><dt><span>crs_wkt :</span></dt><dd>PROJCS[&quot;MGI / Austria Lambert&quot;,GEOGCS[&quot;MGI&quot;,DATUM[&quot;Militar_Geographische_Institute&quot;,SPHEROID[&quot;Bessel 1841&quot;,6377397.155,299.1528128,AUTHORITY[&quot;EPSG&quot;,&quot;7004&quot;]],TOWGS84[577.326,90.129,463.919,5.137,1.474,5.297,2.4232],AUTHORITY[&quot;EPSG&quot;,&quot;6312&quot;]],PRIMEM[&quot;Greenwich&quot;,0,AUTHORITY[&quot;EPSG&quot;,&quot;8901&quot;]],UNIT[&quot;degree&quot;,0.0174532925199433,AUTHORITY[&quot;EPSG&quot;,&quot;9122&quot;]],AUTHORITY[&quot;EPSG&quot;,&quot;4312&quot;]],PROJECTION[&quot;Lambert_Conformal_Conic_2SP&quot;],PARAMETER[&quot;standard_parallel_1&quot;,49],PARAMETER[&quot;standard_parallel_2&quot;,46],PARAMETER[&quot;latitude_of_origin&quot;,47.5],PARAMETER[&quot;central_meridian&quot;,13.33333333333333],PARAMETER[&quot;false_easting&quot;,400000],PARAMETER[&quot;false_northing&quot;,400000],UNIT[&quot;metre&quot;,1,AUTHORITY[&quot;EPSG&quot;,&quot;9001&quot;]],AUTHORITY[&quot;EPSG&quot;,&quot;31287&quot;]]</dd><dt><span>false_easting :</span></dt><dd>400000.0</dd><dt><span>false_northing :</span></dt><dd>400000.0</dd><dt><span>grid_mapping_name :</span></dt><dd>lambert_conformal_conic</dd><dt><span>latitude_of_projection_origin :</span></dt><dd>47.5</dd><dt><span>longitude_of_central_meridian :</span></dt><dd>13.33333</dd><dt><span>standard_parallel :</span></dt><dd>[49. 46.]</dd></dl></div><div class='xr-var-data'><pre>array(nan)</pre></div></li><li class='xr-var-item'><div class='xr-var-name'><span class='xr-has-index'>x</span></div><div class='xr-var-dims'>(x)</div><div class='xr-var-dtype'>int32</div><div class='xr-var-preview xr-preview'>549000 550000 ... 567000 568000</div><input id='attrs-626f7b89-42a2-4d87-a4f6-27816feed0c5' class='xr-var-attrs-in' type='checkbox' ><label for='attrs-626f7b89-42a2-4d87-a4f6-27816feed0c5' title='Show/Hide attributes'><svg class='icon xr-icon-file-text2'><use xlink:href='#icon-file-text2'></use></svg></label><input id='data-79ecdc88-dc80-4db6-bd3f-7651a6366411' class='xr-var-data-in' type='checkbox'><label for='data-79ecdc88-dc80-4db6-bd3f-7651a6366411' title='Show/Hide data repr'><svg class='icon xr-icon-database'><use xlink:href='#icon-database'></use></svg></label><div class='xr-var-attrs'><dl class='xr-attrs'><dt><span>axis :</span></dt><dd>X</dd><dt><span>long_name :</span></dt><dd>x coordinate of projection</dd><dt><span>standard_name :</span></dt><dd>projection_x_coordinate</dd><dt><span>units :</span></dt><dd>m</dd></dl></div><div class='xr-var-data'><pre>array([549000, 550000, 551000, 552000, 553000, 554000, 555000, 556000, 557000,\n",
       "       558000, 559000, 560000, 561000, 562000, 563000, 564000, 565000, 566000,\n",
       "       567000, 568000])</pre></div></li><li class='xr-var-item'><div class='xr-var-name'><span class='xr-has-index'>time</span></div><div class='xr-var-dims'>(time)</div><div class='xr-var-dtype'>datetime64[ns]</div><div class='xr-var-preview xr-preview'>2012-05-01 ... 2012-09-30T23:00:00</div><input id='attrs-8a7b154f-d997-4f00-9343-f8acc54f8f74' class='xr-var-attrs-in' type='checkbox' ><label for='attrs-8a7b154f-d997-4f00-9343-f8acc54f8f74' title='Show/Hide attributes'><svg class='icon xr-icon-file-text2'><use xlink:href='#icon-file-text2'></use></svg></label><input id='data-3d39fdc7-f2a0-435b-ad52-eabda0e2ee04' class='xr-var-data-in' type='checkbox'><label for='data-3d39fdc7-f2a0-435b-ad52-eabda0e2ee04' title='Show/Hide data repr'><svg class='icon xr-icon-database'><use xlink:href='#icon-database'></use></svg></label><div class='xr-var-attrs'><dl class='xr-attrs'><dt><span>long_name :</span></dt><dd>time of measurement</dd><dt><span>standard_name :</span></dt><dd>time</dd></dl></div><div class='xr-var-data'><pre>array([&#x27;2012-05-01T00:00:00.000000000&#x27;, &#x27;2012-05-01T01:00:00.000000000&#x27;,\n",
       "       &#x27;2012-05-01T02:00:00.000000000&#x27;, ..., &#x27;2012-09-30T21:00:00.000000000&#x27;,\n",
       "       &#x27;2012-09-30T22:00:00.000000000&#x27;, &#x27;2012-09-30T23:00:00.000000000&#x27;],\n",
       "      dtype=&#x27;datetime64[ns]&#x27;)</pre></div></li></ul></div></li><li class='xr-section-item'><input id='section-e9040888-97b7-4187-944b-fd72d75911d8' class='xr-section-summary-in' type='checkbox'  checked><label for='section-e9040888-97b7-4187-944b-fd72d75911d8' class='xr-section-summary' >Data variables: <span>(6)</span></label><div class='xr-section-inline-details'></div><div class='xr-section-details'><ul class='xr-var-list'><li class='xr-var-item'><div class='xr-var-name'><span>GL</span></div><div class='xr-var-dims'>(x, y, time)</div><div class='xr-var-dtype'>float64</div><div class='xr-var-preview xr-preview'>...</div><input id='attrs-97c54979-0132-4e2b-83bf-39780e9d7a3b' class='xr-var-attrs-in' type='checkbox' ><label for='attrs-97c54979-0132-4e2b-83bf-39780e9d7a3b' title='Show/Hide attributes'><svg class='icon xr-icon-file-text2'><use xlink:href='#icon-file-text2'></use></svg></label><input id='data-ddaf0e0c-e42f-4b9a-9d87-f5bf68e44622' class='xr-var-data-in' type='checkbox'><label for='data-ddaf0e0c-e42f-4b9a-9d87-f5bf68e44622' title='Show/Hide data repr'><svg class='icon xr-icon-database'><use xlink:href='#icon-database'></use></svg></label><div class='xr-var-attrs'><dl class='xr-attrs'><dt><span>cell_method :</span></dt><dd></dd><dt><span>description :</span></dt><dd>global radiation</dd><dt><span>esri_pe_string :</span></dt><dd>PROJCS[&quot;MGI / Austria Lambert&quot;,GEOGCS[&quot;MGI&quot;,DATUM[&quot;Militar_Geographische_Institute&quot;,SPHEROID[&quot;Bessel 1841&quot;,6377397.155,299.1528128,AUTHORITY[&quot;EPSG&quot;,&quot;7004&quot;]],TOWGS84[577.326,90.129,463.919,5.137,1.474,5.297,2.4232],AUTHORITY[&quot;EPSG&quot;,&quot;6312&quot;]],PRIMEM[&quot;Greenwich&quot;,0,AUTHORITY[&quot;EPSG&quot;,&quot;8901&quot;]],UNIT[&quot;degree&quot;,0.0174532925199433,AUTHORITY[&quot;EPSG&quot;,&quot;9122&quot;]],AUTHORITY[&quot;EPSG&quot;,&quot;4312&quot;]],PROJECTION[&quot;Lambert_Conformal_Conic_2SP&quot;],PARAMETER[&quot;standard_parallel_1&quot;,49],PARAMETER[&quot;standard_parallel_2&quot;,46],PARAMETER[&quot;latitude_of_origin&quot;,47.5],PARAMETER[&quot;central_meridian&quot;,13.33333333333333],PARAMETER[&quot;false_easting&quot;,400000],PARAMETER[&quot;false_northing&quot;,400000],UNIT[&quot;metre&quot;,1,AUTHORITY[&quot;EPSG&quot;,&quot;9001&quot;]],AUTHORITY[&quot;EPSG&quot;,&quot;31287&quot;]]</dd><dt><span>grid_mapping :</span></dt><dd>lambert_conformal_conic</dd><dt><span>long_name :</span></dt><dd>global radiation</dd><dt><span>standard_name :</span></dt><dd>surface_downwelling_shortwave_flux_in_air</dd><dt><span>units :</span></dt><dd>W m-2</dd></dl></div><div class='xr-var-data'><pre>[1248480 values with dtype=float64]</pre></div></li><li class='xr-var-item'><div class='xr-var-name'><span>P0</span></div><div class='xr-var-dims'>(x, y, time)</div><div class='xr-var-dtype'>float64</div><div class='xr-var-preview xr-preview'>...</div><input id='attrs-ae25f127-eb71-43e7-8857-c34703c0266f' class='xr-var-attrs-in' type='checkbox' ><label for='attrs-ae25f127-eb71-43e7-8857-c34703c0266f' title='Show/Hide attributes'><svg class='icon xr-icon-file-text2'><use xlink:href='#icon-file-text2'></use></svg></label><input id='data-fc0f42f2-1519-4919-af93-dea22157990d' class='xr-var-data-in' type='checkbox'><label for='data-fc0f42f2-1519-4919-af93-dea22157990d' title='Show/Hide data repr'><svg class='icon xr-icon-database'><use xlink:href='#icon-database'></use></svg></label><div class='xr-var-attrs'><dl class='xr-attrs'><dt><span>cell_method :</span></dt><dd></dd><dt><span>description :</span></dt><dd>mean sea level pressure</dd><dt><span>esri_pe_string :</span></dt><dd>PROJCS[&quot;MGI / Austria Lambert&quot;,GEOGCS[&quot;MGI&quot;,DATUM[&quot;Militar_Geographische_Institute&quot;,SPHEROID[&quot;Bessel 1841&quot;,6377397.155,299.1528128,AUTHORITY[&quot;EPSG&quot;,&quot;7004&quot;]],TOWGS84[577.326,90.129,463.919,5.137,1.474,5.297,2.4232],AUTHORITY[&quot;EPSG&quot;,&quot;6312&quot;]],PRIMEM[&quot;Greenwich&quot;,0,AUTHORITY[&quot;EPSG&quot;,&quot;8901&quot;]],UNIT[&quot;degree&quot;,0.0174532925199433,AUTHORITY[&quot;EPSG&quot;,&quot;9122&quot;]],AUTHORITY[&quot;EPSG&quot;,&quot;4312&quot;]],PROJECTION[&quot;Lambert_Conformal_Conic_2SP&quot;],PARAMETER[&quot;standard_parallel_1&quot;,49],PARAMETER[&quot;standard_parallel_2&quot;,46],PARAMETER[&quot;latitude_of_origin&quot;,47.5],PARAMETER[&quot;central_meridian&quot;,13.33333333333333],PARAMETER[&quot;false_easting&quot;,400000],PARAMETER[&quot;false_northing&quot;,400000],UNIT[&quot;metre&quot;,1,AUTHORITY[&quot;EPSG&quot;,&quot;9001&quot;]],AUTHORITY[&quot;EPSG&quot;,&quot;31287&quot;]]</dd><dt><span>grid_mapping :</span></dt><dd>lambert_conformal_conic</dd><dt><span>long_name :</span></dt><dd>mean sea level pressure</dd><dt><span>standard_name :</span></dt><dd>air_pressure_at_mean_sea_level</dd><dt><span>units :</span></dt><dd>Pa</dd></dl></div><div class='xr-var-data'><pre>[1248480 values with dtype=float64]</pre></div></li><li class='xr-var-item'><div class='xr-var-name'><span>RH2M</span></div><div class='xr-var-dims'>(x, y, time)</div><div class='xr-var-dtype'>float32</div><div class='xr-var-preview xr-preview'>...</div><input id='attrs-718edb40-6ac1-4979-8553-7f9472106b2a' class='xr-var-attrs-in' type='checkbox' ><label for='attrs-718edb40-6ac1-4979-8553-7f9472106b2a' title='Show/Hide attributes'><svg class='icon xr-icon-file-text2'><use xlink:href='#icon-file-text2'></use></svg></label><input id='data-178ae745-6f31-42e4-b5d7-8a642b2f2222' class='xr-var-data-in' type='checkbox'><label for='data-178ae745-6f31-42e4-b5d7-8a642b2f2222' title='Show/Hide data repr'><svg class='icon xr-icon-database'><use xlink:href='#icon-database'></use></svg></label><div class='xr-var-attrs'><dl class='xr-attrs'><dt><span>cell_method :</span></dt><dd></dd><dt><span>description :</span></dt><dd>relative humidity 2m above ground</dd><dt><span>esri_pe_string :</span></dt><dd>PROJCS[&quot;MGI / Austria Lambert&quot;,GEOGCS[&quot;MGI&quot;,DATUM[&quot;Militar_Geographische_Institute&quot;,SPHEROID[&quot;Bessel 1841&quot;,6377397.155,299.1528128,AUTHORITY[&quot;EPSG&quot;,&quot;7004&quot;]],TOWGS84[577.326,90.129,463.919,5.137,1.474,5.297,2.4232],AUTHORITY[&quot;EPSG&quot;,&quot;6312&quot;]],PRIMEM[&quot;Greenwich&quot;,0,AUTHORITY[&quot;EPSG&quot;,&quot;8901&quot;]],UNIT[&quot;degree&quot;,0.0174532925199433,AUTHORITY[&quot;EPSG&quot;,&quot;9122&quot;]],AUTHORITY[&quot;EPSG&quot;,&quot;4312&quot;]],PROJECTION[&quot;Lambert_Conformal_Conic_2SP&quot;],PARAMETER[&quot;standard_parallel_1&quot;,49],PARAMETER[&quot;standard_parallel_2&quot;,46],PARAMETER[&quot;latitude_of_origin&quot;,47.5],PARAMETER[&quot;central_meridian&quot;,13.33333333333333],PARAMETER[&quot;false_easting&quot;,400000],PARAMETER[&quot;false_northing&quot;,400000],UNIT[&quot;metre&quot;,1,AUTHORITY[&quot;EPSG&quot;,&quot;9001&quot;]],AUTHORITY[&quot;EPSG&quot;,&quot;31287&quot;]]</dd><dt><span>grid_mapping :</span></dt><dd>lambert_conformal_conic</dd><dt><span>long_name :</span></dt><dd>relative humidity</dd><dt><span>standard_name :</span></dt><dd>relative_humidity</dd><dt><span>units :</span></dt><dd>percent</dd></dl></div><div class='xr-var-data'><pre>[1248480 values with dtype=float32]</pre></div></li><li class='xr-var-item'><div class='xr-var-name'><span>T2M</span></div><div class='xr-var-dims'>(x, y, time)</div><div class='xr-var-dtype'>float32</div><div class='xr-var-preview xr-preview'>...</div><input id='attrs-673f1c26-6871-4d84-bad6-3f8e19c5f1cd' class='xr-var-attrs-in' type='checkbox' ><label for='attrs-673f1c26-6871-4d84-bad6-3f8e19c5f1cd' title='Show/Hide attributes'><svg class='icon xr-icon-file-text2'><use xlink:href='#icon-file-text2'></use></svg></label><input id='data-3c430085-11ec-44c1-95b4-e86054ddfe6c' class='xr-var-data-in' type='checkbox'><label for='data-3c430085-11ec-44c1-95b4-e86054ddfe6c' title='Show/Hide data repr'><svg class='icon xr-icon-database'><use xlink:href='#icon-database'></use></svg></label><div class='xr-var-attrs'><dl class='xr-attrs'><dt><span>cell_method :</span></dt><dd></dd><dt><span>description :</span></dt><dd>air temperature 2m above ground</dd><dt><span>esri_pe_string :</span></dt><dd>PROJCS[&quot;MGI / Austria Lambert&quot;,GEOGCS[&quot;MGI&quot;,DATUM[&quot;Militar_Geographische_Institute&quot;,SPHEROID[&quot;Bessel 1841&quot;,6377397.155,299.1528128,AUTHORITY[&quot;EPSG&quot;,&quot;7004&quot;]],TOWGS84[577.326,90.129,463.919,5.137,1.474,5.297,2.4232],AUTHORITY[&quot;EPSG&quot;,&quot;6312&quot;]],PRIMEM[&quot;Greenwich&quot;,0,AUTHORITY[&quot;EPSG&quot;,&quot;8901&quot;]],UNIT[&quot;degree&quot;,0.0174532925199433,AUTHORITY[&quot;EPSG&quot;,&quot;9122&quot;]],AUTHORITY[&quot;EPSG&quot;,&quot;4312&quot;]],PROJECTION[&quot;Lambert_Conformal_Conic_2SP&quot;],PARAMETER[&quot;standard_parallel_1&quot;,49],PARAMETER[&quot;standard_parallel_2&quot;,46],PARAMETER[&quot;latitude_of_origin&quot;,47.5],PARAMETER[&quot;central_meridian&quot;,13.33333333333333],PARAMETER[&quot;false_easting&quot;,400000],PARAMETER[&quot;false_northing&quot;,400000],UNIT[&quot;metre&quot;,1,AUTHORITY[&quot;EPSG&quot;,&quot;9001&quot;]],AUTHORITY[&quot;EPSG&quot;,&quot;31287&quot;]]</dd><dt><span>grid_mapping :</span></dt><dd>lambert_conformal_conic</dd><dt><span>long_name :</span></dt><dd>air temperature</dd><dt><span>standard_name :</span></dt><dd>surface_temperature</dd><dt><span>units :</span></dt><dd>degree_Celsius</dd></dl></div><div class='xr-var-data'><pre>[1248480 values with dtype=float32]</pre></div></li><li class='xr-var-item'><div class='xr-var-name'><span>UU</span></div><div class='xr-var-dims'>(x, y, time)</div><div class='xr-var-dtype'>float32</div><div class='xr-var-preview xr-preview'>...</div><input id='attrs-bd5de1f1-9020-4327-ac72-d68a48baf885' class='xr-var-attrs-in' type='checkbox' ><label for='attrs-bd5de1f1-9020-4327-ac72-d68a48baf885' title='Show/Hide attributes'><svg class='icon xr-icon-file-text2'><use xlink:href='#icon-file-text2'></use></svg></label><input id='data-629fa8d1-51f5-4634-9955-596c47fe6212' class='xr-var-data-in' type='checkbox'><label for='data-629fa8d1-51f5-4634-9955-596c47fe6212' title='Show/Hide data repr'><svg class='icon xr-icon-database'><use xlink:href='#icon-database'></use></svg></label><div class='xr-var-attrs'><dl class='xr-attrs'><dt><span>cell_method :</span></dt><dd></dd><dt><span>description :</span></dt><dd>wind speed in eastward direction</dd><dt><span>esri_pe_string :</span></dt><dd>PROJCS[&quot;MGI / Austria Lambert&quot;,GEOGCS[&quot;MGI&quot;,DATUM[&quot;Militar_Geographische_Institute&quot;,SPHEROID[&quot;Bessel 1841&quot;,6377397.155,299.1528128,AUTHORITY[&quot;EPSG&quot;,&quot;7004&quot;]],TOWGS84[577.326,90.129,463.919,5.137,1.474,5.297,2.4232],AUTHORITY[&quot;EPSG&quot;,&quot;6312&quot;]],PRIMEM[&quot;Greenwich&quot;,0,AUTHORITY[&quot;EPSG&quot;,&quot;8901&quot;]],UNIT[&quot;degree&quot;,0.0174532925199433,AUTHORITY[&quot;EPSG&quot;,&quot;9122&quot;]],AUTHORITY[&quot;EPSG&quot;,&quot;4312&quot;]],PROJECTION[&quot;Lambert_Conformal_Conic_2SP&quot;],PARAMETER[&quot;standard_parallel_1&quot;,49],PARAMETER[&quot;standard_parallel_2&quot;,46],PARAMETER[&quot;latitude_of_origin&quot;,47.5],PARAMETER[&quot;central_meridian&quot;,13.33333333333333],PARAMETER[&quot;false_easting&quot;,400000],PARAMETER[&quot;false_northing&quot;,400000],UNIT[&quot;metre&quot;,1,AUTHORITY[&quot;EPSG&quot;,&quot;9001&quot;]],AUTHORITY[&quot;EPSG&quot;,&quot;31287&quot;]]</dd><dt><span>grid_mapping :</span></dt><dd>lambert_conformal_conic</dd><dt><span>long_name :</span></dt><dd>wind speed in eastward direction</dd><dt><span>standard_name :</span></dt><dd>x_wind</dd><dt><span>units :</span></dt><dd>m s-1</dd></dl></div><div class='xr-var-data'><pre>[1248480 values with dtype=float32]</pre></div></li><li class='xr-var-item'><div class='xr-var-name'><span>VV</span></div><div class='xr-var-dims'>(x, y, time)</div><div class='xr-var-dtype'>float32</div><div class='xr-var-preview xr-preview'>...</div><input id='attrs-8dfafa3e-15e8-4afc-9b21-8f283637c361' class='xr-var-attrs-in' type='checkbox' ><label for='attrs-8dfafa3e-15e8-4afc-9b21-8f283637c361' title='Show/Hide attributes'><svg class='icon xr-icon-file-text2'><use xlink:href='#icon-file-text2'></use></svg></label><input id='data-ebeaf00f-1744-4a37-89b7-8458e91d8510' class='xr-var-data-in' type='checkbox'><label for='data-ebeaf00f-1744-4a37-89b7-8458e91d8510' title='Show/Hide data repr'><svg class='icon xr-icon-database'><use xlink:href='#icon-database'></use></svg></label><div class='xr-var-attrs'><dl class='xr-attrs'><dt><span>cell_method :</span></dt><dd></dd><dt><span>description :</span></dt><dd>wind speed in northward direction</dd><dt><span>esri_pe_string :</span></dt><dd>PROJCS[&quot;MGI / Austria Lambert&quot;,GEOGCS[&quot;MGI&quot;,DATUM[&quot;Militar_Geographische_Institute&quot;,SPHEROID[&quot;Bessel 1841&quot;,6377397.155,299.1528128,AUTHORITY[&quot;EPSG&quot;,&quot;7004&quot;]],TOWGS84[577.326,90.129,463.919,5.137,1.474,5.297,2.4232],AUTHORITY[&quot;EPSG&quot;,&quot;6312&quot;]],PRIMEM[&quot;Greenwich&quot;,0,AUTHORITY[&quot;EPSG&quot;,&quot;8901&quot;]],UNIT[&quot;degree&quot;,0.0174532925199433,AUTHORITY[&quot;EPSG&quot;,&quot;9122&quot;]],AUTHORITY[&quot;EPSG&quot;,&quot;4312&quot;]],PROJECTION[&quot;Lambert_Conformal_Conic_2SP&quot;],PARAMETER[&quot;standard_parallel_1&quot;,49],PARAMETER[&quot;standard_parallel_2&quot;,46],PARAMETER[&quot;latitude_of_origin&quot;,47.5],PARAMETER[&quot;central_meridian&quot;,13.33333333333333],PARAMETER[&quot;false_easting&quot;,400000],PARAMETER[&quot;false_northing&quot;,400000],UNIT[&quot;metre&quot;,1,AUTHORITY[&quot;EPSG&quot;,&quot;9001&quot;]],AUTHORITY[&quot;EPSG&quot;,&quot;31287&quot;]]</dd><dt><span>grid_mapping :</span></dt><dd>lambert_conformal_conic</dd><dt><span>long_name :</span></dt><dd>wind speed in northward direction</dd><dt><span>standard_name :</span></dt><dd>y_wind</dd><dt><span>units :</span></dt><dd>m s-1</dd></dl></div><div class='xr-var-data'><pre>[1248480 values with dtype=float32]</pre></div></li></ul></div></li><li class='xr-section-item'><input id='section-3273f698-cdc4-4d78-be2d-95bd9bcf4247' class='xr-section-summary-in' type='checkbox'  ><label for='section-3273f698-cdc4-4d78-be2d-95bd9bcf4247' class='xr-section-summary' >Attributes: <span>(14)</span></label><div class='xr-section-inline-details'></div><div class='xr-section-details'><dl class='xr-attrs'><dt><span>Conventions :</span></dt><dd>CF-1.7</dd><dt><span>author :</span></dt><dd>Alexander Kann (alexander.kann@zamg.ac.at), Benedikt Bica (benedikt.bica@zamg.ac.at)</dd><dt><span>comment :</span></dt><dd>No additional comments</dd><dt><span>crs :</span></dt><dd>EPSG:31287</dd><dt><span>freq :</span></dt><dd>1H</dd><dt><span>grid_mapping :</span></dt><dd>lambert_conformal_conic</dd><dt><span>history :</span></dt><dd>Original data produced by ZAMG</dd><dt><span>institution :</span></dt><dd>ZAMG - Zentralanstalt fuer Meteorologie und Geodynamik, Vienna, Austria</dd><dt><span>name :</span></dt><dd>incal-hourly</dd><dt><span>references :</span></dt><dd>https://www.zamg.ac.at/cms/de/forschung/wetter/inca https://journals.ametsoc.org/doi/pdf/10.1175/2010WAF2222451.1</dd><dt><span>source :</span></dt><dd>modeled data</dd><dt><span>spatial_domain :</span></dt><dd>INCAL</dd><dt><span>spatial_resolution :</span></dt><dd>1000</dd><dt><span>title :</span></dt><dd>INCA analysis - large domain</dd></dl></div></li></ul></div></div>"
=======
       "      dtype=float32)</pre></div></li><li class='xr-var-item'><div class='xr-var-name'><span>lambert_conformal_conic</span></div><div class='xr-var-dims'>()</div><div class='xr-var-dtype'>float64</div><div class='xr-var-preview xr-preview'>...</div><input id='attrs-3ae1c2ca-155f-4f41-968c-9b4f8cbb2081' class='xr-var-attrs-in' type='checkbox' ><label for='attrs-3ae1c2ca-155f-4f41-968c-9b4f8cbb2081' title='Show/Hide attributes'><svg class='icon xr-icon-file-text2'><use xlink:href='#icon-file-text2'></use></svg></label><input id='data-9551f32c-2b9e-4bd8-a9c0-ddb5ce58d5ef' class='xr-var-data-in' type='checkbox'><label for='data-9551f32c-2b9e-4bd8-a9c0-ddb5ce58d5ef' title='Show/Hide data repr'><svg class='icon xr-icon-database'><use xlink:href='#icon-database'></use></svg></label><div class='xr-var-attrs'><dl class='xr-attrs'><dt><span>Easternmost_Easting :</span></dt><dd>720500</dd><dt><span>GeoTransform :</span></dt><dd>19500 1000.000 0 219500 0 1000.000</dd><dt><span>Northernmost_Northing :</span></dt><dd>620500</dd><dt><span>Southernmost_Northing :</span></dt><dd>219500</dd><dt><span>Westernmost_Easting :</span></dt><dd>19500</dd><dt><span>crs_wkt :</span></dt><dd>PROJCS[&quot;MGI / Austria Lambert&quot;,GEOGCS[&quot;MGI&quot;,DATUM[&quot;Militar_Geographische_Institute&quot;,SPHEROID[&quot;Bessel 1841&quot;,6377397.155,299.1528128,AUTHORITY[&quot;EPSG&quot;,&quot;7004&quot;]],TOWGS84[577.326,90.129,463.919,5.137,1.474,5.297,2.4232],AUTHORITY[&quot;EPSG&quot;,&quot;6312&quot;]],PRIMEM[&quot;Greenwich&quot;,0,AUTHORITY[&quot;EPSG&quot;,&quot;8901&quot;]],UNIT[&quot;degree&quot;,0.0174532925199433,AUTHORITY[&quot;EPSG&quot;,&quot;9122&quot;]],AUTHORITY[&quot;EPSG&quot;,&quot;4312&quot;]],PROJECTION[&quot;Lambert_Conformal_Conic_2SP&quot;],PARAMETER[&quot;standard_parallel_1&quot;,49],PARAMETER[&quot;standard_parallel_2&quot;,46],PARAMETER[&quot;latitude_of_origin&quot;,47.5],PARAMETER[&quot;central_meridian&quot;,13.33333333333333],PARAMETER[&quot;false_easting&quot;,400000],PARAMETER[&quot;false_northing&quot;,400000],UNIT[&quot;metre&quot;,1,AUTHORITY[&quot;EPSG&quot;,&quot;9001&quot;]],AUTHORITY[&quot;EPSG&quot;,&quot;31287&quot;]]</dd><dt><span>false_easting :</span></dt><dd>400000.0</dd><dt><span>false_northing :</span></dt><dd>400000.0</dd><dt><span>grid_mapping_name :</span></dt><dd>lambert_conformal_conic</dd><dt><span>latitude_of_projection_origin :</span></dt><dd>47.5</dd><dt><span>longitude_of_central_meridian :</span></dt><dd>13.33333</dd><dt><span>standard_parallel :</span></dt><dd>[49. 46.]</dd></dl></div><div class='xr-var-data'><pre>array(nan)</pre></div></li><li class='xr-var-item'><div class='xr-var-name'><span class='xr-has-index'>x</span></div><div class='xr-var-dims'>(x)</div><div class='xr-var-dtype'>int32</div><div class='xr-var-preview xr-preview'>549000 550000 ... 567000 568000</div><input id='attrs-50f89c31-9d9b-4bc4-9c2f-5bc029335afa' class='xr-var-attrs-in' type='checkbox' ><label for='attrs-50f89c31-9d9b-4bc4-9c2f-5bc029335afa' title='Show/Hide attributes'><svg class='icon xr-icon-file-text2'><use xlink:href='#icon-file-text2'></use></svg></label><input id='data-bdcdd5f7-dcef-4fc5-b973-59a31227f2d7' class='xr-var-data-in' type='checkbox'><label for='data-bdcdd5f7-dcef-4fc5-b973-59a31227f2d7' title='Show/Hide data repr'><svg class='icon xr-icon-database'><use xlink:href='#icon-database'></use></svg></label><div class='xr-var-attrs'><dl class='xr-attrs'><dt><span>axis :</span></dt><dd>X</dd><dt><span>long_name :</span></dt><dd>x coordinate of projection</dd><dt><span>standard_name :</span></dt><dd>projection_x_coordinate</dd><dt><span>units :</span></dt><dd>m</dd></dl></div><div class='xr-var-data'><pre>array([549000, 550000, 551000, 552000, 553000, 554000, 555000, 556000, 557000,\n",
       "       558000, 559000, 560000, 561000, 562000, 563000, 564000, 565000, 566000,\n",
       "       567000, 568000])</pre></div></li><li class='xr-var-item'><div class='xr-var-name'><span class='xr-has-index'>time</span></div><div class='xr-var-dims'>(time)</div><div class='xr-var-dtype'>datetime64[ns]</div><div class='xr-var-preview xr-preview'>2012-05-01 ... 2012-09-30T23:00:00</div><input id='attrs-5fd16dfb-9fcb-4714-97e4-81c5dc72a054' class='xr-var-attrs-in' type='checkbox' ><label for='attrs-5fd16dfb-9fcb-4714-97e4-81c5dc72a054' title='Show/Hide attributes'><svg class='icon xr-icon-file-text2'><use xlink:href='#icon-file-text2'></use></svg></label><input id='data-1587af0e-73ba-43e1-a6d8-361a451614f9' class='xr-var-data-in' type='checkbox'><label for='data-1587af0e-73ba-43e1-a6d8-361a451614f9' title='Show/Hide data repr'><svg class='icon xr-icon-database'><use xlink:href='#icon-database'></use></svg></label><div class='xr-var-attrs'><dl class='xr-attrs'><dt><span>long_name :</span></dt><dd>time of measurement</dd><dt><span>standard_name :</span></dt><dd>time</dd></dl></div><div class='xr-var-data'><pre>array([&#x27;2012-05-01T00:00:00.000000000&#x27;, &#x27;2012-05-01T01:00:00.000000000&#x27;,\n",
       "       &#x27;2012-05-01T02:00:00.000000000&#x27;, ..., &#x27;2012-09-30T21:00:00.000000000&#x27;,\n",
       "       &#x27;2012-09-30T22:00:00.000000000&#x27;, &#x27;2012-09-30T23:00:00.000000000&#x27;],\n",
       "      dtype=&#x27;datetime64[ns]&#x27;)</pre></div></li></ul></div></li><li class='xr-section-item'><input id='section-5cfd616e-2789-424e-af2b-490aa2da8d4e' class='xr-section-summary-in' type='checkbox'  checked><label for='section-5cfd616e-2789-424e-af2b-490aa2da8d4e' class='xr-section-summary' >Data variables: <span>(6)</span></label><div class='xr-section-inline-details'></div><div class='xr-section-details'><ul class='xr-var-list'><li class='xr-var-item'><div class='xr-var-name'><span>GL</span></div><div class='xr-var-dims'>(x, y, time)</div><div class='xr-var-dtype'>float64</div><div class='xr-var-preview xr-preview'>...</div><input id='attrs-e2f87d06-5317-4c58-863f-1a5fef039471' class='xr-var-attrs-in' type='checkbox' ><label for='attrs-e2f87d06-5317-4c58-863f-1a5fef039471' title='Show/Hide attributes'><svg class='icon xr-icon-file-text2'><use xlink:href='#icon-file-text2'></use></svg></label><input id='data-44e02795-f6be-442c-867b-27c2fca6fb73' class='xr-var-data-in' type='checkbox'><label for='data-44e02795-f6be-442c-867b-27c2fca6fb73' title='Show/Hide data repr'><svg class='icon xr-icon-database'><use xlink:href='#icon-database'></use></svg></label><div class='xr-var-attrs'><dl class='xr-attrs'><dt><span>cell_method :</span></dt><dd></dd><dt><span>description :</span></dt><dd>global radiation</dd><dt><span>esri_pe_string :</span></dt><dd>PROJCS[&quot;MGI / Austria Lambert&quot;,GEOGCS[&quot;MGI&quot;,DATUM[&quot;Militar_Geographische_Institute&quot;,SPHEROID[&quot;Bessel 1841&quot;,6377397.155,299.1528128,AUTHORITY[&quot;EPSG&quot;,&quot;7004&quot;]],TOWGS84[577.326,90.129,463.919,5.137,1.474,5.297,2.4232],AUTHORITY[&quot;EPSG&quot;,&quot;6312&quot;]],PRIMEM[&quot;Greenwich&quot;,0,AUTHORITY[&quot;EPSG&quot;,&quot;8901&quot;]],UNIT[&quot;degree&quot;,0.0174532925199433,AUTHORITY[&quot;EPSG&quot;,&quot;9122&quot;]],AUTHORITY[&quot;EPSG&quot;,&quot;4312&quot;]],PROJECTION[&quot;Lambert_Conformal_Conic_2SP&quot;],PARAMETER[&quot;standard_parallel_1&quot;,49],PARAMETER[&quot;standard_parallel_2&quot;,46],PARAMETER[&quot;latitude_of_origin&quot;,47.5],PARAMETER[&quot;central_meridian&quot;,13.33333333333333],PARAMETER[&quot;false_easting&quot;,400000],PARAMETER[&quot;false_northing&quot;,400000],UNIT[&quot;metre&quot;,1,AUTHORITY[&quot;EPSG&quot;,&quot;9001&quot;]],AUTHORITY[&quot;EPSG&quot;,&quot;31287&quot;]]</dd><dt><span>grid_mapping :</span></dt><dd>lambert_conformal_conic</dd><dt><span>long_name :</span></dt><dd>global radiation</dd><dt><span>standard_name :</span></dt><dd>surface_downwelling_shortwave_flux_in_air</dd><dt><span>units :</span></dt><dd>W m-2</dd></dl></div><div class='xr-var-data'><pre>[1248480 values with dtype=float64]</pre></div></li><li class='xr-var-item'><div class='xr-var-name'><span>P0</span></div><div class='xr-var-dims'>(x, y, time)</div><div class='xr-var-dtype'>float64</div><div class='xr-var-preview xr-preview'>...</div><input id='attrs-d7c4bdba-cbcf-4095-8ffa-f308a46624ce' class='xr-var-attrs-in' type='checkbox' ><label for='attrs-d7c4bdba-cbcf-4095-8ffa-f308a46624ce' title='Show/Hide attributes'><svg class='icon xr-icon-file-text2'><use xlink:href='#icon-file-text2'></use></svg></label><input id='data-b699c2fe-8adb-4203-b33e-8e958fca2691' class='xr-var-data-in' type='checkbox'><label for='data-b699c2fe-8adb-4203-b33e-8e958fca2691' title='Show/Hide data repr'><svg class='icon xr-icon-database'><use xlink:href='#icon-database'></use></svg></label><div class='xr-var-attrs'><dl class='xr-attrs'><dt><span>cell_method :</span></dt><dd></dd><dt><span>description :</span></dt><dd>mean sea level pressure</dd><dt><span>esri_pe_string :</span></dt><dd>PROJCS[&quot;MGI / Austria Lambert&quot;,GEOGCS[&quot;MGI&quot;,DATUM[&quot;Militar_Geographische_Institute&quot;,SPHEROID[&quot;Bessel 1841&quot;,6377397.155,299.1528128,AUTHORITY[&quot;EPSG&quot;,&quot;7004&quot;]],TOWGS84[577.326,90.129,463.919,5.137,1.474,5.297,2.4232],AUTHORITY[&quot;EPSG&quot;,&quot;6312&quot;]],PRIMEM[&quot;Greenwich&quot;,0,AUTHORITY[&quot;EPSG&quot;,&quot;8901&quot;]],UNIT[&quot;degree&quot;,0.0174532925199433,AUTHORITY[&quot;EPSG&quot;,&quot;9122&quot;]],AUTHORITY[&quot;EPSG&quot;,&quot;4312&quot;]],PROJECTION[&quot;Lambert_Conformal_Conic_2SP&quot;],PARAMETER[&quot;standard_parallel_1&quot;,49],PARAMETER[&quot;standard_parallel_2&quot;,46],PARAMETER[&quot;latitude_of_origin&quot;,47.5],PARAMETER[&quot;central_meridian&quot;,13.33333333333333],PARAMETER[&quot;false_easting&quot;,400000],PARAMETER[&quot;false_northing&quot;,400000],UNIT[&quot;metre&quot;,1,AUTHORITY[&quot;EPSG&quot;,&quot;9001&quot;]],AUTHORITY[&quot;EPSG&quot;,&quot;31287&quot;]]</dd><dt><span>grid_mapping :</span></dt><dd>lambert_conformal_conic</dd><dt><span>long_name :</span></dt><dd>mean sea level pressure</dd><dt><span>standard_name :</span></dt><dd>air_pressure_at_mean_sea_level</dd><dt><span>units :</span></dt><dd>Pa</dd></dl></div><div class='xr-var-data'><pre>[1248480 values with dtype=float64]</pre></div></li><li class='xr-var-item'><div class='xr-var-name'><span>RH2M</span></div><div class='xr-var-dims'>(x, y, time)</div><div class='xr-var-dtype'>float32</div><div class='xr-var-preview xr-preview'>...</div><input id='attrs-d33fb780-7340-4a57-a760-dadd0e4bebe5' class='xr-var-attrs-in' type='checkbox' ><label for='attrs-d33fb780-7340-4a57-a760-dadd0e4bebe5' title='Show/Hide attributes'><svg class='icon xr-icon-file-text2'><use xlink:href='#icon-file-text2'></use></svg></label><input id='data-af3a1e01-1e94-4da6-9bc4-1670f7feafca' class='xr-var-data-in' type='checkbox'><label for='data-af3a1e01-1e94-4da6-9bc4-1670f7feafca' title='Show/Hide data repr'><svg class='icon xr-icon-database'><use xlink:href='#icon-database'></use></svg></label><div class='xr-var-attrs'><dl class='xr-attrs'><dt><span>cell_method :</span></dt><dd></dd><dt><span>description :</span></dt><dd>relative humidity 2m above ground</dd><dt><span>esri_pe_string :</span></dt><dd>PROJCS[&quot;MGI / Austria Lambert&quot;,GEOGCS[&quot;MGI&quot;,DATUM[&quot;Militar_Geographische_Institute&quot;,SPHEROID[&quot;Bessel 1841&quot;,6377397.155,299.1528128,AUTHORITY[&quot;EPSG&quot;,&quot;7004&quot;]],TOWGS84[577.326,90.129,463.919,5.137,1.474,5.297,2.4232],AUTHORITY[&quot;EPSG&quot;,&quot;6312&quot;]],PRIMEM[&quot;Greenwich&quot;,0,AUTHORITY[&quot;EPSG&quot;,&quot;8901&quot;]],UNIT[&quot;degree&quot;,0.0174532925199433,AUTHORITY[&quot;EPSG&quot;,&quot;9122&quot;]],AUTHORITY[&quot;EPSG&quot;,&quot;4312&quot;]],PROJECTION[&quot;Lambert_Conformal_Conic_2SP&quot;],PARAMETER[&quot;standard_parallel_1&quot;,49],PARAMETER[&quot;standard_parallel_2&quot;,46],PARAMETER[&quot;latitude_of_origin&quot;,47.5],PARAMETER[&quot;central_meridian&quot;,13.33333333333333],PARAMETER[&quot;false_easting&quot;,400000],PARAMETER[&quot;false_northing&quot;,400000],UNIT[&quot;metre&quot;,1,AUTHORITY[&quot;EPSG&quot;,&quot;9001&quot;]],AUTHORITY[&quot;EPSG&quot;,&quot;31287&quot;]]</dd><dt><span>grid_mapping :</span></dt><dd>lambert_conformal_conic</dd><dt><span>long_name :</span></dt><dd>relative humidity</dd><dt><span>standard_name :</span></dt><dd>relative_humidity</dd><dt><span>units :</span></dt><dd>percent</dd></dl></div><div class='xr-var-data'><pre>[1248480 values with dtype=float32]</pre></div></li><li class='xr-var-item'><div class='xr-var-name'><span>T2M</span></div><div class='xr-var-dims'>(x, y, time)</div><div class='xr-var-dtype'>float32</div><div class='xr-var-preview xr-preview'>...</div><input id='attrs-1718efd7-5ab2-41c0-8abd-e8cfd180fe1f' class='xr-var-attrs-in' type='checkbox' ><label for='attrs-1718efd7-5ab2-41c0-8abd-e8cfd180fe1f' title='Show/Hide attributes'><svg class='icon xr-icon-file-text2'><use xlink:href='#icon-file-text2'></use></svg></label><input id='data-a16e3794-f60f-420f-82c0-243716149b5a' class='xr-var-data-in' type='checkbox'><label for='data-a16e3794-f60f-420f-82c0-243716149b5a' title='Show/Hide data repr'><svg class='icon xr-icon-database'><use xlink:href='#icon-database'></use></svg></label><div class='xr-var-attrs'><dl class='xr-attrs'><dt><span>cell_method :</span></dt><dd></dd><dt><span>description :</span></dt><dd>air temperature 2m above ground</dd><dt><span>esri_pe_string :</span></dt><dd>PROJCS[&quot;MGI / Austria Lambert&quot;,GEOGCS[&quot;MGI&quot;,DATUM[&quot;Militar_Geographische_Institute&quot;,SPHEROID[&quot;Bessel 1841&quot;,6377397.155,299.1528128,AUTHORITY[&quot;EPSG&quot;,&quot;7004&quot;]],TOWGS84[577.326,90.129,463.919,5.137,1.474,5.297,2.4232],AUTHORITY[&quot;EPSG&quot;,&quot;6312&quot;]],PRIMEM[&quot;Greenwich&quot;,0,AUTHORITY[&quot;EPSG&quot;,&quot;8901&quot;]],UNIT[&quot;degree&quot;,0.0174532925199433,AUTHORITY[&quot;EPSG&quot;,&quot;9122&quot;]],AUTHORITY[&quot;EPSG&quot;,&quot;4312&quot;]],PROJECTION[&quot;Lambert_Conformal_Conic_2SP&quot;],PARAMETER[&quot;standard_parallel_1&quot;,49],PARAMETER[&quot;standard_parallel_2&quot;,46],PARAMETER[&quot;latitude_of_origin&quot;,47.5],PARAMETER[&quot;central_meridian&quot;,13.33333333333333],PARAMETER[&quot;false_easting&quot;,400000],PARAMETER[&quot;false_northing&quot;,400000],UNIT[&quot;metre&quot;,1,AUTHORITY[&quot;EPSG&quot;,&quot;9001&quot;]],AUTHORITY[&quot;EPSG&quot;,&quot;31287&quot;]]</dd><dt><span>grid_mapping :</span></dt><dd>lambert_conformal_conic</dd><dt><span>long_name :</span></dt><dd>air temperature</dd><dt><span>standard_name :</span></dt><dd>surface_temperature</dd><dt><span>units :</span></dt><dd>degree_Celsius</dd></dl></div><div class='xr-var-data'><pre>[1248480 values with dtype=float32]</pre></div></li><li class='xr-var-item'><div class='xr-var-name'><span>UU</span></div><div class='xr-var-dims'>(x, y, time)</div><div class='xr-var-dtype'>float32</div><div class='xr-var-preview xr-preview'>...</div><input id='attrs-609922e8-b01e-4335-aec4-4725de53d9c1' class='xr-var-attrs-in' type='checkbox' ><label for='attrs-609922e8-b01e-4335-aec4-4725de53d9c1' title='Show/Hide attributes'><svg class='icon xr-icon-file-text2'><use xlink:href='#icon-file-text2'></use></svg></label><input id='data-a7c9eb42-3f4f-4649-b6f3-255bed820958' class='xr-var-data-in' type='checkbox'><label for='data-a7c9eb42-3f4f-4649-b6f3-255bed820958' title='Show/Hide data repr'><svg class='icon xr-icon-database'><use xlink:href='#icon-database'></use></svg></label><div class='xr-var-attrs'><dl class='xr-attrs'><dt><span>cell_method :</span></dt><dd></dd><dt><span>description :</span></dt><dd>wind speed in eastward direction</dd><dt><span>esri_pe_string :</span></dt><dd>PROJCS[&quot;MGI / Austria Lambert&quot;,GEOGCS[&quot;MGI&quot;,DATUM[&quot;Militar_Geographische_Institute&quot;,SPHEROID[&quot;Bessel 1841&quot;,6377397.155,299.1528128,AUTHORITY[&quot;EPSG&quot;,&quot;7004&quot;]],TOWGS84[577.326,90.129,463.919,5.137,1.474,5.297,2.4232],AUTHORITY[&quot;EPSG&quot;,&quot;6312&quot;]],PRIMEM[&quot;Greenwich&quot;,0,AUTHORITY[&quot;EPSG&quot;,&quot;8901&quot;]],UNIT[&quot;degree&quot;,0.0174532925199433,AUTHORITY[&quot;EPSG&quot;,&quot;9122&quot;]],AUTHORITY[&quot;EPSG&quot;,&quot;4312&quot;]],PROJECTION[&quot;Lambert_Conformal_Conic_2SP&quot;],PARAMETER[&quot;standard_parallel_1&quot;,49],PARAMETER[&quot;standard_parallel_2&quot;,46],PARAMETER[&quot;latitude_of_origin&quot;,47.5],PARAMETER[&quot;central_meridian&quot;,13.33333333333333],PARAMETER[&quot;false_easting&quot;,400000],PARAMETER[&quot;false_northing&quot;,400000],UNIT[&quot;metre&quot;,1,AUTHORITY[&quot;EPSG&quot;,&quot;9001&quot;]],AUTHORITY[&quot;EPSG&quot;,&quot;31287&quot;]]</dd><dt><span>grid_mapping :</span></dt><dd>lambert_conformal_conic</dd><dt><span>long_name :</span></dt><dd>wind speed in eastward direction</dd><dt><span>standard_name :</span></dt><dd>x_wind</dd><dt><span>units :</span></dt><dd>m s-1</dd></dl></div><div class='xr-var-data'><pre>[1248480 values with dtype=float32]</pre></div></li><li class='xr-var-item'><div class='xr-var-name'><span>VV</span></div><div class='xr-var-dims'>(x, y, time)</div><div class='xr-var-dtype'>float32</div><div class='xr-var-preview xr-preview'>...</div><input id='attrs-acd0405d-7255-4d22-a278-025f1b099f57' class='xr-var-attrs-in' type='checkbox' ><label for='attrs-acd0405d-7255-4d22-a278-025f1b099f57' title='Show/Hide attributes'><svg class='icon xr-icon-file-text2'><use xlink:href='#icon-file-text2'></use></svg></label><input id='data-3a1377fe-6908-4454-8c1b-fb196fe71619' class='xr-var-data-in' type='checkbox'><label for='data-3a1377fe-6908-4454-8c1b-fb196fe71619' title='Show/Hide data repr'><svg class='icon xr-icon-database'><use xlink:href='#icon-database'></use></svg></label><div class='xr-var-attrs'><dl class='xr-attrs'><dt><span>cell_method :</span></dt><dd></dd><dt><span>description :</span></dt><dd>wind speed in northward direction</dd><dt><span>esri_pe_string :</span></dt><dd>PROJCS[&quot;MGI / Austria Lambert&quot;,GEOGCS[&quot;MGI&quot;,DATUM[&quot;Militar_Geographische_Institute&quot;,SPHEROID[&quot;Bessel 1841&quot;,6377397.155,299.1528128,AUTHORITY[&quot;EPSG&quot;,&quot;7004&quot;]],TOWGS84[577.326,90.129,463.919,5.137,1.474,5.297,2.4232],AUTHORITY[&quot;EPSG&quot;,&quot;6312&quot;]],PRIMEM[&quot;Greenwich&quot;,0,AUTHORITY[&quot;EPSG&quot;,&quot;8901&quot;]],UNIT[&quot;degree&quot;,0.0174532925199433,AUTHORITY[&quot;EPSG&quot;,&quot;9122&quot;]],AUTHORITY[&quot;EPSG&quot;,&quot;4312&quot;]],PROJECTION[&quot;Lambert_Conformal_Conic_2SP&quot;],PARAMETER[&quot;standard_parallel_1&quot;,49],PARAMETER[&quot;standard_parallel_2&quot;,46],PARAMETER[&quot;latitude_of_origin&quot;,47.5],PARAMETER[&quot;central_meridian&quot;,13.33333333333333],PARAMETER[&quot;false_easting&quot;,400000],PARAMETER[&quot;false_northing&quot;,400000],UNIT[&quot;metre&quot;,1,AUTHORITY[&quot;EPSG&quot;,&quot;9001&quot;]],AUTHORITY[&quot;EPSG&quot;,&quot;31287&quot;]]</dd><dt><span>grid_mapping :</span></dt><dd>lambert_conformal_conic</dd><dt><span>long_name :</span></dt><dd>wind speed in northward direction</dd><dt><span>standard_name :</span></dt><dd>y_wind</dd><dt><span>units :</span></dt><dd>m s-1</dd></dl></div><div class='xr-var-data'><pre>[1248480 values with dtype=float32]</pre></div></li></ul></div></li><li class='xr-section-item'><input id='section-17b204c4-bde7-4162-b612-1e9104a659ee' class='xr-section-summary-in' type='checkbox'  ><label for='section-17b204c4-bde7-4162-b612-1e9104a659ee' class='xr-section-summary' >Attributes: <span>(14)</span></label><div class='xr-section-inline-details'></div><div class='xr-section-details'><dl class='xr-attrs'><dt><span>Conventions :</span></dt><dd>CF-1.7</dd><dt><span>author :</span></dt><dd>Alexander Kann (alexander.kann@zamg.ac.at), Benedikt Bica (benedikt.bica@zamg.ac.at)</dd><dt><span>comment :</span></dt><dd>No additional comments</dd><dt><span>crs :</span></dt><dd>EPSG:31287</dd><dt><span>freq :</span></dt><dd>1H</dd><dt><span>grid_mapping :</span></dt><dd>lambert_conformal_conic</dd><dt><span>history :</span></dt><dd>Original data produced by ZAMG</dd><dt><span>institution :</span></dt><dd>ZAMG - Zentralanstalt fuer Meteorologie und Geodynamik, Vienna, Austria</dd><dt><span>name :</span></dt><dd>incal-hourly</dd><dt><span>references :</span></dt><dd>https://www.zamg.ac.at/cms/de/forschung/wetter/inca https://journals.ametsoc.org/doi/pdf/10.1175/2010WAF2222451.1</dd><dt><span>source :</span></dt><dd>modeled data</dd><dt><span>spatial_domain :</span></dt><dd>INCAL</dd><dt><span>spatial_resolution :</span></dt><dd>1000</dd><dt><span>title :</span></dt><dd>INCA analysis - large domain</dd></dl></div></li></ul></div></div>"
>>>>>>> 9dd04566d670bf640b4a10154e8430ae75f9c615
      ],
      "text/plain": [
       "<xarray.Dataset>\n",
       "Dimensions:                  (time: 3672, y: 17, x: 20)\n",
       "Coordinates:\n",
       "    lat                      (x, y) float32 ...\n",
       "  * y                        (y) int32 344000 345000 346000 ... 359000 360000\n",
       "    lon                      (x, y) float32 ...\n",
       "    lambert_conformal_conic  float64 ...\n",
       "  * x                        (x) int32 549000 550000 551000 ... 567000 568000\n",
       "  * time                     (time) datetime64[ns] 2012-05-01 ... 2012-09-30T...\n",
       "Data variables:\n",
       "    GL                       (x, y, time) float64 ...\n",
       "    P0                       (x, y, time) float64 ...\n",
       "    RH2M                     (x, y, time) float32 ...\n",
       "    T2M                      (x, y, time) float32 ...\n",
       "    UU                       (x, y, time) float32 ...\n",
       "    VV                       (x, y, time) float32 ...\n",
       "Attributes: (12/14)\n",
       "    Conventions:         CF-1.7\n",
       "    author:              Alexander Kann (alexander.kann@zamg.ac.at), Benedikt...\n",
       "    comment:             No additional comments\n",
       "    crs:                 EPSG:31287\n",
       "    freq:                1H\n",
       "    grid_mapping:        lambert_conformal_conic\n",
       "    ...                  ...\n",
       "    name:                incal-hourly\n",
       "    references:          https://www.zamg.ac.at/cms/de/forschung/wetter/inca ...\n",
       "    source:              modeled data\n",
       "    spatial_domain:      INCAL\n",
       "    spatial_resolution:  1000\n",
       "    title:               INCA analysis - large domain"
      ]
     },
     "execution_count": 2,
     "metadata": {},
     "output_type": "execute_result"
    }
   ],
   "source": [
    "#read data\n",
    "xr_ds = xr.open_dataset(\"data\\\\incal_hourly_20120501T0000_20120930T2300.nc\", \n",
    "            engine=\"netcdf4\")\n",
    "xr_ds = xr_ds.transpose(\"x\", \"y\", \"time\")  # transpose to appropriate dimensions\n",
    "xr_ds"
   ]
  },
  {
   "cell_type": "code",
   "execution_count": 3,
   "id": "fd56788b-5aed-499b-8a6a-9c6fb68bb2f6",
   "metadata": {},
   "outputs": [],
   "source": [
    "# Resample and define input meteorological variables\n",
    "tmean = xr_ds[\"T2M\"].resample(time=\"1D\").mean()\n",
    "tmax = xr_ds[\"T2M\"].resample(time=\"1D\").max()\n",
    "tmin = xr_ds[\"T2M\"].resample(time=\"1D\").min()\n",
    "rh = xr_ds[\"RH2M\"].resample(time=\"1D\").mean()\n",
    "rhmax = xr_ds[\"RH2M\"].resample(time=\"1D\").max()\n",
    "rhmin = xr_ds[\"RH2M\"].resample(time=\"1D\").min()\n",
    "wind = ((np.abs(xr_ds[\"VV\"]) + xr_ds[\"UU\"]) / 2).resample(time=\"1D\").mean()\n",
    "rs = xr_ds[\"GL\"].resample(time=\"1D\").mean() * 86400 / 1000000"
   ]
  },
  {
   "cell_type": "code",
   "execution_count": 4,
   "id": "f5bb9668-075b-4a8c-99e5-64a998c9c9d5",
   "metadata": {},
   "outputs": [],
   "source": [
    "# Define latitude and elevation\n",
    "lat = np.broadcast_to((47.076668 * np.pi / 180), tmean.shape)\n",
    "#elevation = np.broadcast_to(350, xr_ds[\"GL\"].shape)\n",
    "elevation = 350"
   ]
  },
  {
   "cell_type": "markdown",
   "id": "22ebf3bc-6b9a-4f81-a455-7ca1b51879dd",
   "metadata": {},
   "source": [
    "## Calculate PET"
   ]
  },
  {
   "cell_type": "code",
   "execution_count": 5,
   "id": "2b8859a2-37e3-40db-afc1-01b449adfc35",
   "metadata": {},
   "outputs": [],
   "source": [
    "# Estimate evaporation with five different methods \n",
    "pe_penman = pyet.penman(tmean, wind, rs=rs, elevation=elevation, lat=lat, tmax=tmax, tmin=tmin, rh=rh)\n",
    "pe_pt = pyet.priestley_taylor(tmean, wind, rs=rs, elevation=elevation, lat=lat, tmax=tmax, tmin=tmin, rh=rh)\n",
    "pe_makkink = pyet.makkink(tmean, rs, elevation=elevation)\n",
    "pe_fao5 = pyet.pm_fao56(tmean, wind, rs=rs, elevation=elevation, lat=lat, tmax=tmax, tmin=tmin, rh=rh)\n",
    "pe_oudin = pyet.oudin(tmean, lat=lat)"
   ]
  },
  {
   "cell_type": "markdown",
   "id": "e6e2564c-48ed-46b7-a275-fd17db592456",
   "metadata": {},
   "source": [
    "### Plot results"
   ]
  },
  {
   "cell_type": "code",
   "execution_count": 6,
   "id": "3c0fad4c-4890-48b7-9183-ee861402f509",
   "metadata": {},
   "outputs": [
    {
     "data": {
      "text/plain": [
<<<<<<< HEAD
       "<matplotlib.collections.QuadMesh at 0x1dcd3667d00>"
=======
       "<matplotlib.collections.QuadMesh at 0x294b22374f0>"
>>>>>>> 9dd04566d670bf640b4a10154e8430ae75f9c615
      ]
     },
     "execution_count": 6,
     "metadata": {},
     "output_type": "execute_result"
    },
    {
     "data": {
      "image/png": "iVBORw0KGgoAAAANSUhEUgAAAY4AAAEWCAYAAABxMXBSAAAAOXRFWHRTb2Z0d2FyZQBNYXRwbG90bGliIHZlcnNpb24zLjUuMSwgaHR0cHM6Ly9tYXRwbG90bGliLm9yZy/YYfK9AAAACXBIWXMAAAsTAAALEwEAmpwYAABEO0lEQVR4nO2deZhdRZn/P9/uzk72hAgkEFYREDIQFn+IsjhhkUUFJcgSUCeioDiKC+MCw+KAIyMqIxEwrLJDNCpbBCMOewKBJCwSQoAkQAgJkD3p7vf3R9UlJzd3Ofee2923O+/neerpc6rqrXrPuafPe2p7S2aG4ziO46SloaMVcBzHcToXbjgcx3GcinDD4TiO41SEGw7HcRynItxwOI7jOBXhhsNxHMepCDccjuM4TkV0esMhaWtJyyU1drQuTu2QdJ6kG9uo7HmSPtUWZXcEkoZJekjSMkmXdrAuB0qa30F1/4ekqzui7k2NTmc48v/pzew1M9vMzFo6Uq9iSOoh6XeSXo3/2E9LOjwvzyGSXpC0UtLfJG2TSDsoxr0naV6e3OaSbpa0MKY/LGnfMvqMjOWtjHV+KpF2oKTWaIhzYVyJsraQNDnWb5JG5qV/QdIjsa6pqW5YJ6QODNF4YDHQz8y+04F6dChm9lMz+0pH67Ep0OkMRyekCXgd+CTQH/gxcFvuJStpCHBXjB8ETANuTcivACYC3y1Q9mbAk8BeUfY64C+SNiuhz83A08Bg4IfAHZKGJtIXRkOcC9eVKKsVuBc4tkj6EuAy4OISZXRaJDV1tA6RbYDnrAo3EHV0DU5nwsw6TQBuILysVgHLge8BIwEDmmKeqcCFwCMxz58IL8nfA+8TXrQjE2XuDEwhvOReBL7QDtfxLHBsPB4PPJJI6xOvb+c8mU8B81KU/T6wV5G0nYA1QN9E3D+A0+PxgcD8Kq6nKf4GI4ukfwWYWmGZ5wE3Js5vB94E3gMeAnZNpF0L/Aa4J/7mDwMfIhitpcALwL8k8s8DzgGei+nXAD0T6UcCM4B343O0e57s9+NvuIZgiDd4Jstc18djme8SPihOjfH9geuBt4FXgR8BDTHtVOD/gJ9HfV8BDk9c+zpgbaz/U0CPeO0LY7gM6JH8jeM1vEn4nzov3t8bgWXAzPisnAMsinqOSVzDacDzMe9c4KuJtFTPEDCC8MH0NvAOcHmMb4jX/mqs+3qgf0wbSXjOxgGvEVpZPyzxzBS81zX8P54HnB2fhfcIH3w9Y9pA4M/x+pbG4+EJ2anABYRndRlwPzCklvq1ZehwBar8sT6VOM89TEnDMQfYPv4zPgf8M/5DNcUH8ZqYt098oE6LaXvGh3HXInX/Jj6EhcKzKfUfBqwmGgbgl8AVeXlmEQ1LIq6s4QBGxbL7F0n/LPB8XtzlwK/j8YGEF9BbhJfTL4A+Ka6pPQzHl4C+rH8pzkikXRt/t72AnsCDUf9TgEbCh8Tf8p6hWYSX16D4z3thTNuT8MLaN8qOi/l7JGRnRNlehZ7JEte0NeElcQLQjfBBMyqmXQ/8MV7jSMIz++WYdirBOPxb1OlrBIOgxPVfmKjnfOAxYHNgKOHleUHiN24GLon3sle816uBQ1n/P/IKoUXaLdb7SqL8TxP+v0RoSa8E9kyUX9JwxGt4Jvd8xd/s44nfeQ6wHaFFfRdwQ97/+lVR7z0Ixvsj+c9MqXtdq//r+Ls/AWxJeI6eZ/1H2GBCS7x3/E1vB/6QkJ0KvEww0L3i+cWV/I90ZOhwBSpWOJ3hSH6FXArckzg/ivjSAY4H/pFX/m+Bc9tI927AX4HfJuJ+l//AEF5kp+bFlTQcQD/Cl+I5JfKcDDyWF3cRcG08/hCwC+Grb1vCl/1vU1xXmxuOvLQBsb7+8fxa4KpE+jdIGEjgo8C7ec/Q6YnzI4CX4/EVxJdsIv1F4JMJ2S+VeiZLXNM5wKQC8Y2EF+Auibiv5u4ZwXDMSaT1jtf/ocT1Jw3Hy8ARifNDc88O6z8Oki2s84Apef8jy4HGeN431jegyHX9ATgrUX45w/Exwpd4U4G0B4CvJ84/TDCaTaz/X09+uT8BjM1/Zord61qG+LuflDj/GTChSN5RwNLE+VTgR4nzrwP3tqW+tQxddYzjrcTxqgLnuTGAbYB9Jb2bC8CJhBdoTZHUQOgWWAucmUhaTnjpJ+lH+FpKW3YvQpfcY2b2X4n42YlB7gPK1WVmb5rZc2bWamavELoCj4tlHZAoa3Za3WqBpEZJF0t6WdL7hH9YgCGJbGl/8xyvJ45fJXw1QngmvpP3TIxIpOfLVsIIwks9nyFA96hHUqetEudv5g7MbGU8LDaWtWWBspL6v21mq/Nk8u/XYls/4WRVsj5Jh0t6TNKSeH+OYMPfohwjgFfNrDml7k2ElnqONxPHKyl8H4rd61pTUBdJvSX9Nk6KeZ/wETYgb/ZnmuuoSzqj4bAalvU68HczG5AIm5nZ1wplljQhb8bR8jQvU0kitCyGEbqg1iWSZxOa3Lm8fQjdAKlezpJ6EL74FhC+Uj/AzHa19YPc/4hlbiepbyLbHiXqMkJ3BGb2j0RZu6bRrYZ8ETiG0OrqT/jyJKdblYxIHG9N6PqB8ExclPdM9DazmxP585/BtM/k64TfNp/FhK/qbfJ0WpCy3HwWFihrYeK86v+h+LzdSRhvGWZmA4C7qey3eB3YusjAfCHdm9nQsKWto9C93ohq/6/L8B1Ca2lfM+sHfCJXXZXl1RWd0XC8Rej/rAV/BnaSdLKkbjHsLekjhTKb2em24YyjzVK+TK8APgIcZWar8tImAbtJOlZST+AnhH7VFyC0VGJ8t3CqnpK6x7RuwB2EL8JTzKy11MWa2T8J/fPnxnI+C+xOeBHkpuNurcAIwmyoP5YqM+rWI572iOe5tMZ43gQ0xDq7JdLnSTq1VPmRvoSunHcI3TQ/TSFTjjMkDZc0CPgP1s9kuwo4XdK+8T70kfTpPGObT9pn8vfAp+I05SZJgyWNil/2twEXSeqrMB3724TB6mq4GfiRpKFx1t5PMpSVT3fC7/020KwwtXxMhWU8AbwBXBzvb09J+yd0/3dJ28bZgT8Fbi3SOilFwXtdKGOG/+tS9CX8X74bn7FzqyynLumMhuO/CP8U70o6O0tBZraM8NCPJXzpvMn6QcOaEF8CXyX0cb6Z+JI5MerwNmEQ7SLC7It9oz45PkF4AO8mfH2tIszAAPh/hBlAYwgPaLJbqhhjgdGxrouB46IOEAaGHyVMAX6EMID8zTKXmJtNBGH2UtIwnhzPrwAOiMdXxfvSnTCA+FiZ8iEM1r5K+AJ/LqVMOW4i3Me5MVwIYGbTCIPBlxPu0RzCGEMpUj2TZvYaoVvnO4RZfDNY39r8BuG+zyXMoLqJMA27Gi4kTOt+ljDu9VSMy0z8n/kmwdAtJbQGJ1dYRgthHGUHwuyo+YTxRgjXfAOha+cVwqD9N6rQs9S9bg8uIwx6LyY8r/e2Y91tTm5WhuO0K5I+DpxhZid0tC6O41SGGw7HcRynIjpjV5Xj1C2STqzxIGunROt9yBUKW3e0fk42vMXhOI7jVIT7qYk09epj3foPqlq+odI5H3m0ZvTta93K5ylKj5KTscrXnfnbI9sMxYaG6vVvXZfxxjdku/gd+y7KJN+UcXLn2g78bnxt9eBM8v265U9QrIwmVf/cvD572WIzG1o+Z3EOPaiPvbMknW/W6c+uuc/MDstSXy1xwxHp1n8QO5z47arley7N9h+4ekC2N8DqDI+wbb8iU93Wmq3Hs7U527X32mxN1bIr38y45qp3NqfMdx70y0zygxqz3bvXmztuN4KvP39iJvnDtnouk/zApuqf+2995IFXy+cqzeIlLTx+3/BUebtt8XIlCyzbHDccjuM4HYLRUnrpVd3ihsNxHKcDMKC1po4w2g83HI7jOB1EK97icBzHcVJiGOu8q8pxHMdJiwEt3lXlOI7jVEJnHeNo05Xj0fvpTEkzJE1LxH9D0osK+0X8LMadGPPlQmvOm6WkqTF/Lm3zGN9D0q2S5kh6XHEf75g2TtJLMYxry+t0HMepFANazFKFeqM9WhwHmdni3Imkgwh7K+xuZmtyRsDMfk9whYykjwJ/NLMZiXJOjJ5Lk3yZsKvWDpLGEjzbHp9wYzya8PtMlzTZzJa2zSU6juNUTucc4egYX1VfI2yVugbAzAotnT2B4Je/HMcA18XjO4BDJImwVeYUM1sSjcUUoG5WXTqO4xhGS8qQhmI9PIl0SfpV7KF5VtKeaWXzaesWhwH3SzLC3tVXEjZnP0DSRQRf+2eb2ZN5cscTjEKSayS1EDYdutCCk62tiNt4mlmzpPcIezx8EB+Zz4bbcAIgaTwwHqB774FstrB6+9/SI9sK3uY+mcQzuTzp/ni2ytd8bHn5TCVoWdM9W/1rqve3ctBe2XwPPvxatj3FVlu2ldtTV22eSb7Vqv923Lvn/Ex1H7LFi5nks7K8pWf5TG2IGayrfS/UBj08eRwO7BjDvoR9cvZNKbsBbW049jezhbE7aoqkF2KdA4H9gL2B2yRtFw0BkvYFVprZrEQ5J5rZgrgL252EDYKup7CTIysRv2FEMGRXAmw2aET9dSQ6jtOFES3tu5PsMcD18V37mKQBkrYwszcqLahNu6rMbGH8u4iwReo+hK//uyzwBKGbL+mHZSx53VRmtiD+XUbYGW2fmDSfuHe0wv7F/Qm7fX0QHxnOhnsuO47jdCgGtFq6AAyRNC0Rxhcp8n5J04ukl+qJKSe7AW3W4pDUB2gws2XxeAxwPmGb0YOBqZJ2IuxhvDjKNACfZ/3G7jmDMMDMFivsV30k8NeYPBkYR9ju9DjgQTMzSfcBP5U0MOYbA5zTVtfqOI5TDRW0OBab2egyeTbq4TGzhxLppXpiysluQFt2VQ0DJoWxapqAm8zs3rjX9ERJs4C1wLhcNxXBYMw3s7mJcnoA90Wj0UgwGlfFtN8BN0iaQ2hpjAUwsyWSLgByYyfnm9mStrpQx3GcSgkLAGvXVZXs4ZGU6+FJvvyL9sSkkN2ANjMc8eW/0ebwZrYWOKmIzFTC2EcybgWwV5H8qwktlEJpEwkb3zuO49QdBqzLMDkhSYkeniSTgTMl3UIYFH/PzN5IKbsBvnLccRynAzBES+2GmYv18JwOYGYTgLuBI4A5wErgtFKypSpzw+E4jtNBtFptuqpK9PBMSBwbcEZa2VK44XAcx+kAaj3G0Z644XAcx+kQREuNxjjaGzccjuM4HUDYAdANR6fGGmFdn+qbja1N2ZqcWVyGADStql62cW22utcuyea6ofug1Znk162u/jHO4nID4Ie735NJ/sEVH8kk/8k+L2SS75vhwXty9fBMde/cK9ua3Kwv3RWtPTLJZ8VMrM3ocqajcMPhOI7TQbT6GIfjOI6TljA47l1VjuM4Tmp8cNxxHMepAB8cdxzHcSqmpUYLANsbNxyO4zgdgCHWWed8BXdOrR3HcTo5PjjuOI7jVIQh76pyHMdxKsMHxx3HcZzUmOHTcTs9A5qxY9+pWrylJdsD0PjgoEzyH2wAWQVrBpbPU4rer2Z7jLpvlc3nyYCB71Ute8SgZzPV3bcxg6+XGrBlYzZfNc+t61u17MJ12R6cIzablUn+teb+meQ7mjA43jldjnROc+c4jtMFaKEhVUiDpHmSZkqaIWlagXRJ+pWkOZKelbRnIu0wSS/GtB+Uq6tNDUexC5H0jajkbEk/i3EjJa2KeWdImpDIv1csZ068cMX4HpJujfGPSxqZkBkn6aUYxrXldTqO41SKIVotXaiAg8xslJmNLpB2OLBjDOOBKwAkNQL/G9N3AU6QtEupStqjq+ogM1ucO5F0EHAMsLuZrZG0eSLvy2Y2qkAZVxAu9DHC9oeHAfcAXwaWmtkOksYClwDHSxoEnAuMJnTiTJc02cyW1v7yHMdxqqOdp+MeA1wfdwJ8TNIASVsAI4E5cSdA4p7kxwDPFSuoqOGQNDmFIkvM7NQKFAf4GnCxma0BMLNFpTLHC+tnZo/G8+uBzxAMxzHAeTHrHcDlsTVyKDDFzJZEmSkEY3Nzhbo6juO0CUZ2t/4FirxfkgG/NbMr89K3Al5PnM+PcYXi9y1VUakWx0eAr5RIF6F5U4pCF7ITcICki4DVwNlm9mTMv62kp4H3gR+Z2T8IFzU/UWbuYiFxwWbWLOk9YDDFb9CGFyCNJ7Rk6L55vzKX4jiOU0tUydaxQ/LGLa4sYBj2N7OFsRdniqQXzOyhDSrcGCsRX5RShuOHZvb3UsKS/rNUOgUuJNY5ENgP2Bu4TdJ2wBvA1mb2jqS9gD9I2pXSF5XpRsQbfyVAnx23yDAvyXEcpzIMKplVtbjIuMX68swWxr+LJE0C9gGShmM+MCJxPhxYCHQvEl+Uou0kM7utlGCaPMkLAXIXMh+4ywJPAK3AEDNbY2bvxPzTgZcJrZP58UIKXdQHN0JSE9AfWELxG+Q4jlMXmIlWa0gVyiGpj6S+uWNgDJA/33kycEqcXbUf8J6ZvQE8CewoaVtJ3YGxMW9RymokabSkSZKeilO4ZkoqO/m9xIX8ATg4xu9EsHaLJQ2No/vEFsiOwNx4Ycsk7RfHL04B/pi4EbkZU8cBD8aBn/uAMZIGShoY676vnM6O4zjtSYs1pAopGAb8n6RngCeAv5jZvZJOl3R6zHM3MBeYA1wFfB1CNz9wJuEd+Txwm5nNLlVZmllVvwe+C8wktA7SMgyYFGfONgE3xQvpDkyUNAtYC4wzM5P0CeB8Sc1AC3B6bnCbMKB+LdCLMCie2+j5d8ANkuYQWhpjAcxsiaQLCJYU4PxEWY7jOB1O2I+jNr6q4oyoPQrET0gcG3BGEfm7CYYlFWkMx9tmlmaGVb4ixS5kLXBSgfg7gTuLlDUN2K1A/Grg80VkJgITK9PacRynvejaOwCeK+lq4AFgTS7SzO5qM606gFYTK1d3r1reMnq57LMskzit3aqXXZvRc0OWugHemzsgk/xp//po1bLvtGyWqe63m6t32QHQTS2Z5Oc298wk35jBV01WlyHT14won6kEO3Z/K5P8C2s+lEk+K2E6btf1jnsasDPQjfVdVQZ0KcPhOI7TnnRmX1VpDMceZvbRNtfEcRxnE6OzulVPo/Vj5fyWOI7jOJUR3KorVag30rQ4Pg6Mk/QKYYxDhAH63dtUM8dxnC5OVx7jOKzNtXAcx9nECN5xO2dXVVnDYWavtocijuM4mxLB5UjnNBxFtZb0VDnhNHkcx3GcQtTO5Uh7U9I7bhnXIiL4hnIcx3GqoFYrx9ubUoZj5xTy2VYvOY7jbKLkZlV1RooaDh/bcBzHaVvqsRsqDe2xdWynoLVVrFlVve+MllXZbuWaT67OJD/kwR5VyzauzvbV01q9pxYAmlZk++dZ3lK9243+jSsz1b2ytfr7DtCgSvyGbsxqy+bvZcG6gZnks3Bgr9fLZyrBlJUjM8k3VOSztfbk9hzvjLjhcBzH6QAMaPYWh+M4jlMJnbWrKs1GTp+T9JKk9yS9L2mZpPfbQznHcZwui4WuqjSh3kjT4vgZcJSZPd/WyjiO42wq1HIjJ4C4g+o0YIGZHZmXNpCwP9H2wGrgS2Y2K6bNA5YRZsk2l9vbHNIZjrfcaDiO49SeGrcmziJs/dqvQNp/ADPM7LOSdgb+FzgkkX6QmS1OW1GaDrZpkm6VdELstvqcpM+lrcBxHMfZmNxGTrXoqpI0HPg0cHWRLLsQNuPDzF4ARkoaVq3uaQxHP2AlMAY4KoYjS0pEJM2TNFPSDEnTEvHfkPSipNmSfhbj/lXS9Jh/uqSDE/mnxvwzYtg8xveIRm2OpMcljUzIjItjMy9JGpdGX8dxnPbCEM2tDakCMETStEQYn1fcZcD3oOgc42eAzwFI2gfYBhj+gSpwf3zv5pdbkDRODk9LU1AJNmgCSToIOAbY3czW5IwAsJgwlrJQ0m7AfcBWiXJOjHuPJ/kysNTMdpA0FrgEOF7SIOBcYDThpkyXNNnMlma8FsdxnJpRwRjH4mJjD5KOBBaZ2XRJBxaRvxj4paQZwEzgaaA5pu0f37ubA1MkvWBmD5VSJs2squGSJklaJOktSXfGZlG1fA242MzWAJjZovj3aTNbGPPMBnpKKre66hjgunh8B3CIJAGHAlPMbEk0FlNw9/CO49QTVrOuqv2Bo+Mg9y3AwZJu3KAqs/fN7DQzGwWcAgwFXolpC+PfRcAkYJ9yFabpqroGmAxsSWgB/CnGpaFQE2gn4IDYtfR3SXsXkDsWeDpnXHJ6xG6qH0fjQNTndQAzawbeAwYn4yPz2bD14jiO06HUaozDzM4xs+FmNhIYCzxoZicl80gaICnn4+ErwENm9r6kPpL6xjx9CEMSs8rpnmZW1VAzSxqKayV9K4UcFGgCxToHAvsBewO3SdrOzCwqvyuhy2lMopwTzWxBvMA7gZOB66FgO89KxG9ANGbjARoHDsSWVO8+IusyHmvcSL2KWDKmepclQwcuy1T34F4rMsn3657N3cqCNQOqlu3fO5vLkc0as+neXc3lM5Ugq8uRfhn1z8J1743KJH/9i/tmkh+1xYIM0o9nqjtHW67RkHQ6gJlNAD4CXC+pBXiO0M0PMAyYFL/Fm4CbzOzecmWnMRyLJZ0E3BzPTwDeSaN4sgkkKdcEmg/cFQ3FE5JagSHA27ELbBJwipm9nChnQfy7TNJNsZzrY1kjgPmSmghu3pfE+AMTqgwHphbQ70rgSoAeW4/I9uZ2HMepAEO0tNZ25biZTSW+66LByMU/CuxYIP9cYI9K60mj9ZeALwBvAm8Ax8W4kpRoAv0BODjG7wR0JxinAcBfgHPM7OFEOU2ShsTjboQZXbmm1GQgN2PqOEITzQgD62MkDYwLX8bEOMdxnLqhFaUK9UaaWVWvAUdXUXbBJlDsZ5soaRawFhhnZibpTGAH4MeSfhzLGAOsAO6LRqMR+CtwVUz/HXCDpDmElsbYqPMSSRcAT8Z855vZkiquwXEcp00wa9uuqrakqOGQ9D0z+5mkX1NgfMDMvlmq4GJNIDNbC5xUIP5C4MIixe1VpI7VwOeLpE0kLLF3HMepS6yrGQ7C0nUIvk8cx3GcmlKfDgzTUGoHwD/Fw5VmdnsyTVLBr3zHcRwnPZ21xZFmcPyclHGO4zhOSsygpVWpQr1RaozjcOAIYCtJv0ok9WP9UnXHcRynSupxxlQaSo1xLCSMbxwNTE/ELwP+vS2VchzH6eoYnberqtQYxzPAM3Hh3goza4EPNgupfol1PZNhCaAyNidtTWMm+ZYM64iWrc72c3ZvytYAHdQj2+rtXXovLJ+pCP0bs9W9eVO2zTB7Zlw5/uFuyzPJL8nw3LZk/Foe2pTNY8F3d52SSf5vS3fOJJ+dzjs4nuZ1cz/QK3Hei7CWwnEcx8mAWbpQb6RxOdLTzD74rDGz5ZJ6t6FOjuM4mwRdrqsqwQpJe5rZUwCS9gJWta1ajuM4XZswq6q2vqraizSG41vA7ZJyHclbAMe3mUaO4zibCPXYDZWGNL6qnoybm3+Y4K78BTNb1+aaOY7jdHG6bFdVHM/4NrCNmf2bpB0lfdjM/tz26jmO43RNDHVaw5F2B8C1wMfi+XyKOyN0HMdxUmIpQxokNUp6WtJGH/Vxi4lJkp6V9ISk3RJph0l6UdIcST9IU1caw7G9mf0MWAdgZqsovMOe4ziOkxYDa1WqkJKzWO+cNp//AGaY2e6EPcd/CR+sy/tf4HBgF+AESbuUqyiN4VgrqRfR8EnaHlhTWsRxHMcph5lShXLE3VM/DVxdJMsuwAOhTnsBGClpGGE31TlmNjdueXELcEy5+tIYjnOBe4ERkn4fK/9eCjnHcRynBDVcAHgZ4b3cWiT9GeBzAJL2AbYhbKm9FfB6It/8GFeSNLOqpkh6CtiP0EV1lpktLifX6TBoWJehBy7rtLrmjC5LMuiedUrgqrXdMsm/vnxAJvmRvftXLduS6tupOFt1W5pJvnfD2kzyjcr23GzfVL27mQUt2ZZz7dHz9fKZSjCiMdu9+9xmr1Yte2OmmgMV+qoaIim5N9KVZnYlgKQjgUVmNl3SgUXkLwZ+KWkGMBN4muCstpACZd8Ipbzj7mxmL0jaM0a9Ef9uLWkEsMTMqr/zjuM4mzIGpDcci81sdJG0/YGjJR0B9AT6SbrRzD7YadXM3gdOA1DYz/uVGHoDIxJlDSc4uC1JqRbHt4HxwKVF0gdLesbMTi5XieM4jrMxtVgAaGbnEPdIii2Os5NGI8YPIGzKtxb4CvCQmb0v6UlgR0nbAguAscAXy9VZtJ1uZuPj34OKhN2BYaUKlzRP0kxJM5LNLEnfiNO/Zkv6WSL+nDgl7EVJhybi94rlzJH0q2gxkdRD0q0x/nFJIxMy4yS9FMO4cjfCcRynfUk3o6qCWVUbli6dLun0ePoRYLakFwgzqM4CMLNm4EzgPsKMrNvMbHa5stMsAOwGfA34RIyaCvzWzNaZ2ZgU+h+UHBORdBBh1H53M1sjafMYvwvB2u0KbAn8VdJO0Z37FYTWz2PA3cBhwD3Al4GlZraDpLHAJcDxkgYRBvVHExqE0yVNNrNsHdKO4zi1pMYuR8xsKuEdjZlNSMQ/CuxYROZuwns1NWlGBq8A9gJ+E8NeMa5avgZcbGZrAMxsUYw/BrjFzNaY2SvAHGAfSVsA/czsUTMz4HrgMwmZ6+LxHcAhsTVyKDDFzJZEYzGFYGwcx3HqA6vddNz2Jo2Tw73NbI/E+YOSnklZvgH3SzJCK+VKYCfgAEkXAasJ/XFPEqaAPZaQzU0LWxeP8+MhMZXMzJolvQcMJuUUM0njCS0ZmgYOTHlJjuM4NaKrOjkEWiRtb2YvA0jaDmhJWf7+ZrYwdkdNif1rTcBAwvTevYHbYpnFpoWVmi5Wjcz6iGDIrgToMWJEJ/0JHcfpvNRfayINaQzH2cDfJM0lXOU2xGld5TCzhfHvorgF7T6Er/+7YrfTE5JagSExvtC0sPnxOD+ehMx8SU1Af2BJjD8wT2ZqGp0dx3HajWLL9eqckmMc0Y/JHoRBlW/G8GEz+1u5giX1kdQ3dwyMAWYBfwAOjvE7Ad2BxcBkYGycKbVtrPMJM3sDWCZpvzh+cQrwx1jNZCA3Y+o44MFokO4DxkTHXgNj3feluB+O4zjtQ24dR5pQZ5RscZhZi6SjzewXwLMVlj0MmBRnzjYBN5nZvZK6AxMlzSJ43R0XX/azJd0GPEdY0XhGnFEFYUD9WsJ+5/fEAPA74AZJcwgtjbFR7yWSLgCejPnON7MlFervOI7TpnTZjZyARyRdDtwKrMhF5raSLYaZzSW0VvLj1wInbSwBZnYRcFGB+GnAbgXiVwOfL1LWRGBiKR03oAFaelbfblRLxq+ChmxPkBqrl1+3Ls1jUJz3M25/mdFrBuussWrZla3dM9W92rK5WxnMykzy3TK6TJnXvLpq2d4Zdz19ZvWI8plKsFe/tzLJr7I68NXahQ3H/4t/z0/EGbG7yXEcx6mSOuyGSkMaJ4cHtYcijuM4mxrqpC2Oso1NSYOjm4+nJE2X9EtJg9tDOcdxnC6LCVpThjojTS/lLcDbwLGEmUtvE8Y7HMdxnCzUcu/YdiTNGMcgM7sgcX6hpM+0kT6O4zibDnVoFNKQpsXxN0ljJTXE8AXgL22tmOM4TpenC7c4vkrYm+OGeN4IrJD0bcDMrF9bKec4jtNlqWwjp7oizayqvu2hiOM4zqZGZ51VlW3ll+M4jlM9bjgcx3GcSqhliyP6FpwGLDCzI/PS+gM3AlsT3vs/N7NrYto8YBnB63lzib3NP6Co4ZC0bdxQadNAhmVwOVLt9o61IovLkdaWrC5Dsj39jQ3ZXIS+unJQ1bIjemX73d7ulm2Ir1vqHQqKsTyT9JOrt89Yf/WstWzfrVldhsxZVweuaWs7xnEWYfvXQg/lGcBzZnaUpKHAi5J+H11AQd5OreUo9ca4A0DSA2kLcxzHcVKSdkZViu8yScOBTwNXl6itb/QwvhnBKWxztaqXMvkNks4FdoozqDbUwux/qq3UcRzHoZIxjiGSpiXOr4wb0eW4DPgeUGwy0+WEbSgWxjzHm1muyVVop9aSlDIcYwl7ezeVUMZxHMepEqXvLVtcbOxB0pHAIjObLunAIvKHAjMIzmm3J+zI+g8ze58CO7Wa2UOllClqOMzsReASSc+a2T3F8jmO4zhVUpvB8f2BoyUdAfQE+km60cyS21ecBlwc9z6aI+kVYGfCZnmFdmotaTjSjIo+Iul/JE2L4dI4Qu84juNUiSx9KIWZnWNmw81sJKGn6ME8owHwGnAIgKRhwIeBuSV2ai1JGsMxkTBV6wsxvA9ck0LOcRzHKUUbbh0r6XRJp8fTC4D/J2km8ADw/TiLahjwf5KeAZ4A/mJm95YrO818uO3N7NjE+X9KmlHRFTiO4zgbU+MFgGY2FZgajyck4hcSWhP5+Qvu1FqONC2OVZI+njuRtD+wKk3hkuZJmilpRm5GgKTzJC2IcTNivxySTkzEzZDUKmlUTJsq6cVE2uYxvoekWyXNkfS4pJGJusdJeimGcWlviOM4TntRi66qjiBNi+N04PrEuMZSoJIXcaGFJb8ws58nI8zs98DvASR9FPijmc1IZDkx7j2e5MvAUjPbQdJY4BLgeEmDgHOB0QSbPl3SZDNbWoHejuM4bYdVNKuqrkjj5PAZYA9J/eL5+22uFZwA3Jwi3zHAefH4DuDyuMDlUGCKmS0BkDQFOCxlmY7jOO1DHbYm0pB6zX+VBqPYwpIzJZ1C8KvynQItgeMJRiHJNZJagDuBC+O0sq2A16N+zZLeAwYn4yPzY9wGSBoPjAdoGtKf7n3X5mdJTVa3G81rGzPJNzRV/+nSmEEWwDK6TdisezbXEWtbq3ddsc6y3ffVrd0yyc9du3km+cYe2X6761/fr2rZnfq/nanuNS3ZXI7cs2i3TPJ7DXwtg/T8THV/QCc1HNmcFJVnfzPbEzgcOEPSJ4ArCAtQRgFvAJcmBSTtC6w0s+SUsBPN7KPAATGcnMteoE4rEb9hhNmVZjbazEY39utT0YU5juNkpbOOcbSp4UguLAEmAfuY2Vtm1hKXu19FWGySZCx5XUpmtiD+XQbclJCZD4wAkNQE9Cf4YPkgPjKcsNTecRzHyUhZwyGpt6QfS7oqnu8Yl7iXkyu4sETSFolsnyWx2ERSA/B54JZEXJOkIfG4G3BkQmYy6wfqjyMsfDHgPmCMpIGSBsa67yuns+M4TrvShbeOvQaYDnwsns8Hbgf+XEZuGDApjFXTBNxkZvdKuiFOszVgHmFr2hyfAObHucU5egD3RaPRCPyV0FIB+B1wg6Q5hJbGWAAzWyLpAuDJmO/83EC54zhOXdCVZ1URFgAeL+kEADNbFWculaTYwhIzO7lA9lzaVGC/vLgVwF5F8q8mtFAKpU0krHp3HMepT+qwNZGGNIZjraRexEuUtD2QbRqM4zjOJo6oz4HvNKQxHOcB9wIjJP2e4InxtLZUynEcZ5OgqxoOM7tf0nRCF5KAsyrZYtBxHMcpQJ1OtU1DWcMh6QEzOwT4S4E4x3Ecp1q62uC4pJ5Ab8KWhQNZv6iuH7BlO+jmOI7TpemKLY6vAt8iGInprDcc7wP/27ZqdQxqyPArdtIHAGDNG9lWzTeszeZyZH5Dts+uHYZU33M6d/mQTHVnZWTPbL2+j67YMZP80r9U/w34WFO278cVu6/OJD9ii2wz7B9fMjKTfE3opO+NogsAzeyXZrYtcLaZbWdm28awh5ld3o46Oo7jdD3SLv5LaVwkNUp6WtJGa+wk9Zf0J0nPSJot6bRE2mFx24o5kn6Qpq40g+O/lrQbsAthP9tc/PXpLsdxHMcpRI27qs4CnicMJ+RzBvCcmR0laSjwYpwl20LoQfpXwuLuJ+MWFM+VqiiNy5FzgV/HcBDwM+DoCi7GcRzHKUSNWhyShgOfBq4uUVPfuHh7M4KnjWaC3785ZjbXzNYS3D3leybfiDRODo8jbHL+ppmdRlgN3iOFnOM4jlMCtaYLKbgM+B7F52ldDnyE4Ox1JmFZRSspt6DIJ9XWsbGC5riZ0yJguxRyjuM4TjEqG+MYImlaIozPFROdzi4ys+klajsUmEGY7DSKsOldP1JuQZFPmpXj0yQNIDgWnA4sB55IIec4juMUQRR+axdhsZmNLpK2P3C0pCMI49D9JN1oZicl8pwGXBy9h8+R9AqwM1VuQZFmcPzr8XCCpHuBfmb2bDk5x3Ecpww1GBw3s3OAcwAkHUiYCXtSXrbXCEMO/5A0DPgwMBd4F9hR0rbAAoKH8S+WqzPV3o2StgK2yeWX9AkzeyiNrOM4jlOYtlwAKOl0ADObAFwAXCtpJqGh8/2c6yhJZxL2K2oEJprZ7HJlp3E5cglhD/DnCFO3INhJNxyO4zhZqLHhiFtTTI3HExLxCwkb2hWSuRu4u5J60rQ4PgN82MzclbrjOE6t6OIbOc0FutHF9+Awg+a1jVXLt2aQBbCWbG471Lu5atmGQdl+WlucbXb2qowuT177W6H1TulYfeCyTHU//+awTPItzdmem/5Te2WSb968etlVO2Z7bvrM7lk+Uwne7Z/t2rcdVgebgnZSlyNpDMdKYIakB0gYDzP7Zptp5TiOswnQWZ0cplnHMZkwsPIIYTpuLpRF0jxJMyXNkDQtxp0naUGMmxGnkCFppKRVifgJiXL2iuXMkfSr3Na1knpIujXGPy5pZEJmnKSXYhiX8n44juO0HzX0VdWepJmOe13GOg4qsPHTL8zs5wXyvmxmowrEXwGMBx4jDOIcBtwDfBlYamY7SBoLXAIcL2kQcC4wmnDbp0f/K0szXovjOE7N6HItDkm3xb8zJT2bH9pLQUlbENaOPBoXr1xPGLCH4FMlZ9juAA6JrZFDgSlmtiQaiykEY+M4jlMfGMFBSJpQZ5RqcZwV/x6ZoXwD7pdkwG/N7MoYf6akU4BpwHcSLYFtJT1N2PPjR2b2D4LflPmJMpO+VD7ws2JmzZLeAwaT0v9KXLY/HqBxSP8Ml+k4jlMZovO2OIoaDjN7I/59NUP5+5vZQkmbA1MkvUDodrqAYFQuAC4FvgS8AWxtZu9I2gv4g6RdKe1LpVhaKv8r0ZBdCdBju6066U/oOE6npZO+dUp1VS2T9H6xkKbwuOgEM1sETAL2MbO3zKwlOk68iuDWFzNbY2bvxOPpwMvAToTWwvBEsUlfKh/4WZHUBPQnuAuuyv+K4zhOeyKzVKHeKLUDYF8z60dw1/sDQlfPcOD7wIXlCpbUR1Lf3DFh1eKsOGaR47PArJhnqKTGeLwdsCMwN7Z8lknaL45fnAL8McpPBnIzpo4DHozjIPcBYyQNjPulj4lxjuM49UGNdwBsT9Ks4zjUzPZNnF8h6XHChk6lGAZMijNnm4CbzOxeSTdIGkW4HfMIe5sDfAI4X1IzwbXJ6WaWW6HzNeBaoBdhNtU9Mf53wA2S5hBaGmMBzGyJpAuAJ2O+8xNlOY7j1AVdbowjQYukEwk7QxlwAut9VhXFzOYSNn3Kjz+5SP47gTuLpE0DdisQvxr4fBGZicDEcno6juN0FF3Z5cgXgV/GYMDDpHC72+kQqCGD+c/45dDYq3qXIQANjdU/gcr42WMfWpVJvlu3bNe+dovq3bW0rMvm8qPfZqszyQ/bLKPLk49unUmevtXf++6vZnM1M+iFst+fJXl33cBM8sNOfj6TfE3oii2OOOZwhpmV3YPWcRzHqQDrol1VZtYSp8Y6juM4taYrGo7I05ImA7cDK3KRZnZXm2nlOI7TxemSCwATDALeAQ5OxBnghsNxHCcDaq2d5YhDC9OABWZ2ZF7ad4ET42kT8BFgaJyBOg9YRpj01Fxib/MPSOPk8LTK1Hccx3HKUvs1GmcBzwMbbVBjZv8N/DeApKOAf89bolDIGW1RyrpVlzRc0iRJiyS9JelOScPLyTmO4zilUWu6ULac8E7+NHB1impPAG7Oonea/TiuIazQ3pKwevxPMc5xHMfJQvqV40MkTUuE8XklXQZ8jzK+dCX1JngKT66ZyzmjnV6g3IKkGeMYamZJQ3GtpG+lKdxxHMcpTgWD44uLjT1IOhJYZGbTJR1YppyjgIfzuqk2ckZrZg+VKiRNi2OxpJMkNcZwEmGw3HEcx6kWA8zShdLsDxwdB7lvAQ6WdGORvGPJ66Yq5Iy2XIVpWhxfAi4HfhHPH45xXYqmxlYG919RPmMR3m3slan+1tbqVz8DNK+tfgV0t57ZVm6vW9ktk3yWVe9ZsdY0307FabVsv9uch0dmktdm2e6dllT/2/XM6P2tYU023Zdtn63+22fumUH6jmyVR2rhcsTMzgHOAYgtjrPN7KSN6pL6A58ETkrE9QEazGxZwhnt+eXqTDOr6jXg6HSX4DiO46ShrddxSDodwMwmxKjPAvebWfILuaAz2nJllzUccbT+14TmkAH/B5xlZvNLCjqO4zjFSdcNVWGRNhWYGo8n5KVdS/Aynowr6Iy2HD6rynEcp4OQpQv1RhrDMdTMrjGz5hiuBYa2sV6O4zhdn066kZPPqnIcx+kgunKL40vAF4A3gTcIW7R2uVlVjuM47YoBLZYu1Bk+q8pxHKeDqMfWRBrS+Kq6TtKAxPlASam2ZJU0T9JMSTMkTYtx50laEONmSDoixv9rXPI+M/49OFHOVEkvJmQ2j/E9JN0qaY6kxyWNTMiMk/RSDOPS3hDHcZx2ozYLANudNAsAdzezd3MnZrZU0r9UUEchr4u/MLOf58UtBo6KS993A+4jzOLKcWLcezzJl4GlZraDpLHAJcDxkgYB5wKjCQ3C6ZImm9nSCvR2HMdpU7psiwNokPTB5r7xpZzG4FSEmT2dW/oOzAZ6Siq3qfExwHXx+A7gEIWVLIcCU8xsSTQWUwiOvRzHceqDtDOq6tC4pDEAlwKPSLqDcAlfAC5KWX7O66IBvzWzK2P8mZJOIWw68p0CLYFjgafNbE0i7hpJLQSvjheamRFaJK8DmFmzpPeAwcn4yHw2bL0AED1Bjgfovnk/GhuqX/8/tP/yqmUBFrycbYazmqt3fdG41dpMdXfvk01+zfLumeTJ4Pajz4BVmap+75UBmeS7ZXQ50bQim8uU7u9WL7vFP97PVPcrn9lo24iKGP7XlkzyLT2qf+7mZao5IEB1OPCdhrJPnZldT3iRvwW8DXzOzG5IWf7+ZrYncDhwhqRPAFcA2wOjCLO0Lk0KSNqV0OX01UT0iWb2UeCAGE7OZS+kcon4/Gu70sxGm9nobv17p7wkx3Gc2iCzVKHeSPW5YmbPmdnlZvZrM3subeGFvC6a2Vtm1mJmrcBVJDwxRvcmk4BTzOzlRDkL4t9lwE0JmfnAiCjbBPQHliTjI8OBhTiO49QLnbirKls7twSS+kjqmzsmeF2cJWmLRLbPArNingHAX4BzzOzhRDlNkobE427AkTkZgiuU3Iyp44AHYxfWfcCYOANsYKz7vja5UMdxnKpIOaOqDlscNR/kTlDQ66KkGySNItjReazvkjoT2AH4saQfx7gxwArgvmg0GoG/EloqAL8DbpA0h9DSGAsQN2C/AHgy5js/b+MSx3GcDqezzqpK4x13l/zuKUkHRi+MRSnmddHMTi6QHTO7ELiwSHF7FZFZDXy+SNpEINV6E8dxnA6hDlsTaUjTVXWbpO8r0EvSr4H/amvFHMdxujQWZlWlCfVGGsOxL2Gg+RFC189Cwt4cjuM4Tha68OD4OmAV0AvoCbwSZ0Q5juM4GajldNzovfxpSX8ukPbdhMumWZJa4mJuJB0WXTrNkfSDNHWlMRxPEgzH3sDHgRPiYkDHcRwnC7WdVXUW8Hzhauy/zWyUmY0i7E/+9ziJqBH4X8Jau10I7/ddylWUxnB82cx+YmbrzOxNMzsG+GPaK3Ecx3EKYEBrylCGuAbu08DVKWo+Abg5Hu8DzDGzuWa2FriF4MqpJGncquc7FqSCleOdhnXrGnnjjYHlMxZjRWOm+htXZ1tS09yvevcLg/uuKJ+pBMvXlHMpVpr+vbO5/VjbUv29X7O2W6a6G4auziS/xT3Z6u/91KuZ5JvfWlS17PLP7Zup7m7ZPJbQY+m6TPIvn5zhf/bm8lnKISpaFT4k52E8cmXChRPAZcD3gL4l65R6E/z2nRmjCrlnKvvDtuU6DsdxHKcUramHixeb2ehCCZKOBBaZ2XRJB5Yp5yjg4cS6tlTumfJxw+E4jtMR5LqqsrM/cHTc26gn0E/SjWZ2UoG8Y9mwvVSVe6Y2czniOI7jlKYWs6rM7BwzG25mIwmG4cFCRkNSf+CTbDhG/SSwo6RtJXWP8pPL6e0tDsdxnI6iDVeOSzo9VGETYtRngfvN7INBzbgdxZkEX36NwEQzm12ubDccjuM4HULtHRhGV1BT4/GEvLRrgWsLyNwN3F1JPW44HMdxOgID6tCdSBrccDiO43QQ9bhJUxrccDiO43QUbjgcx3Gc1BjQ6obDcRzHSU197u6XBjccOQRqyrAap3+2lTwtDdlcTzSurH5JzoLnh2Wqu+lD2VyGtKzLuJzorZ5Vi7YOzua2onFRtt9t1ZBM4iz6tx0yyW9z2cqqZVcNyeZmxzK+feYfWP3vDtDtrWz11wQ3HI7jOE5qDGjpnDtUtOnKcUnzJM2MPuCnxbjzJC1I+IY/IpH/nOgT/kVJhybi94rlzJH0K8WNzCX1kHRrjH9c0siEzDhJL8Uwri2v03Ecp3IMrDVdqDPao8VxkJktzov7hZn9PBkRfcCPBXYFtgT+KmknM2sBrgDGA48RFqocBtwDfBlYamY7SBoLXAIcHzcoORcYTbDr0yVNNrOlbXaVjuM4ldJJu6rqyVfVMcAtZrbGzF4B5gD7SNoC6Gdmj5qZAdcDn0nIXBeP7wAOia2RQ4EpZrYkGospBGPjOI5TH+RmVaUJdUZbGw4D7pc0XdL4RPyZkp6VNFFSbhOMQn7ht4phfoH4DWTMrBl4DxhcoqwNkDRe0jRJ01rez7YnheM4TsXUdgfAdqOtDcf+ZrYnYVvCMyR9gtDttD0wCngDuDTmLeYXvpS/+Gpk1keYXWlmo81sdGO/PqWuw3Ecp/a44dgYM1sY/y4CJgH7mNlbZtZiZq3AVYStC6G4X/j58Tg/fgMZSU1Af2BJibIcx3HqAzNoaUkX6ow2MxyS+kjqmzsGxgCz4phFjs8Cs+LxZGBsnCm1LbAj8ISZvQEsk7RfHL84hfX+5CcDuRlTxxH80BvBRfAYSQNjV9iYGOc4jlM/dNIWR1vOqhoGTIozZ5uAm8zsXkk3SBpF6DqaB3wVwMxmS7oNeA5oBs6IM6oAvkZwB9yLMJvqnhj/O+AGSXMILY2xsawlki4gbFICcH5iq0THcZz6oA6NQhrazHCY2VxgjwLxJ5eQuQi4qED8NGC3AvGrgc8XKWsiMLEClR3HcdqR2s6YktQITAMWmNmRBdIPBC4DuhH2MP9kjJ8HLANagOZie5sn8ZXjH2A0NFb/I6oh2yIdG5jRZcnaDO4fVmR7DNa+3z2TfI/+azLJN39oddWyaik0jyI9A17MJt/alO3FMfLaVzPJv/2Fj1Yt25rx7WHZPJbQ3CfbvWtck+23y4yB1XZx31nA80C//ARJA4DfAIeZ2WuSNs/LUmi9XVHqaR2H4zjOpkVLa7pQBknDgU8DVxfJ8kXgLjN7DT6YsFQ1bjgcx3E6AjNobU0XYEhuzVkM4/NKuwz4HlDMyuwEDJQ0Na6rOyWpCYXX2xXFu6ocx3E6ivSD44uLjT1IOhJYZGbT4zhGIZqAvYBDCJOMHpX0mJn9k7DebmHsvpoi6QUze6iUMt7icBzH6SCstTVVKMP+wNFxkPsW4GBJN+blmQ/ca2Yr4ljGQ8TJS4XW25Wr0A2H4zhOh5ByDUeZVomZnWNmw81sJGFJwoNmdlJetj8CB0hqktQb2Bd4vth6u3Kae1eV4zhOR9DGW8dKOh3AzCaY2fOS7gWeJYyDXG1msyRtR4H1duXKdsPhOI7TARhgNXYnYmZTganxeEJe2n8D/50XV3C9XTnccDiO43QEZnW5SVMa3HA4juN0EFaHe22kwQ2H4zhOR9FJWxyyTupkq9ZIehvI5r+hNEOA1Ev625l61g3qW7961g3qW7/OrNs2ZjY0SwVxsHpIyuyLzaxudjF1w9FOSJqWxnlYR1DPukF961fPukF96+e6dV58HYfjOI5TEW44HMdxnIpww9F+XNnRCpSgnnWD+tavnnWD+tbPdeuk+BiH4ziOUxHe4nAcx3Eqwg2H4ziOUxFuOMogqaekJyQ9I2m2pP/MSz9bkkkaEs9HSlolaUYMExJ595I0U9IcSb9S9CwmqYekW2P845JGJmTGSXophnEZdTsxodcMSa2SRsW0qZJeTKRt3ha6STpP0oJEPUckZM6J9bwo6dC2um/V6CfpX+NGNzPj34MTZXXovWvPZ65K/Tr8uYtp34h1zZb0s0R8uz13XQYz81AiAAI2i8fdgMeB/eL5COA+wsLBITFuJDCrSFlPAB+LZd4DHB7jvw5MiMdjgVvj8SBgbvw7MB4PrFa3PF0+CsxNnE8FRhfIV1PdgPOAswvUswvwDNAD2BZ4GWhsi/tWpX7/AmwZj3cDFtTRvRtJOz1z1ehXJ8/dQcBfgR4xbfOOeO66SvAWRxkssDyedoshN6PgF4TtGsvOMJC0BdDPzB618JRdD3wmJh8DXBeP7wAOiV83hwJTzGyJmS0FpgAfrB7NqNsJwM3l9G4j3YrVc4uZrTGzV4A5wD5tcd+q0c/Mnra44Q0wG+gpqUeJ66lavyruXUHq5d7l0VHP3deAi81sTcyX23O7XZ+7roIbjhRIapQ0A1hEeDAel3Q04avzmQIi20p6WtLfJR0Q47Yi7MKVY36My6W9DmBmzcB7wOBkfAGZanXLcTwb/wNfE7sLfpxrltdat5h0pqRnJU2UNDC/nrzy2uS+VaFfkmOBp3MvoUhH3jtox2euSv1ydNRztxNhI6PH4z3aO7+evPLa7N51BdxwpMDMWsxsFDCc8DWyO/BD4CcFsr8BbG1m/wJ8G7hJUj9Cc3ejouPfYmmlZKrRLVQm7QusNLPkTl8nmtlHgQNiOLkNdNsNuALYHhhFuFeXZqinat2q0C9UKO0KXAJ8NRHd0feuXZ+5KvQLFXbsc9dE6D7aD/gucFs0Uu3+3HUF3HBUgJm9S+iTPYbQH/qMwj6/w4GnJH0oNnnfifmnE/pMdyJ8fQxPFDccyHV9zCeMSSCpCegPLEnGF5CpWLdE9rHkffWZ2YL4dxlwE+v3Ha6lboeZ2VvxH7sVuKpQPXnltel9q0A/JA0n7Ml8ipm9nJDv0HvXUc9cWv0SdNhzF+Xuil1ZTxB2wRtSorw2v3edGquDgZZ6DsBQYEA87gX8AzgyL8881g+OD2X94Np2wAJgUDx/kvDFkxtsOyLGn8GGg223xeNBwCuEL6WB8XhQtbrF8wbCA75dIq4poX83Qr/t6W2hG7BFIs+/E/qXAXZlw0HKuYn7WNP7VqV+A6J+x+aVUw/3rt2euWr0q5Pn7nTg/Bi/E6FLSbTzc9dVQocrUO8B2B14mrBX7yzgJwXyzEv8AxxLGDx9BngKOCqRb3Qs42Xgctav3O8J3E4YmHsi75/rSzF+DnBaFt3i+YHAY3l5+gDTYzmzgV8m/nlqqhtwAzAzxk9mw5fND+O9eZE4g6Ut7ls1+gE/AlYAMxJh83q4d7TjM5fhtz2Qjn3uugM3xringIM74rnrKsFdjjiO4zgV4WMcjuM4TkW44XAcx3Eqwg2H4ziOUxFuOBzHcZyKcMPhOI7jVIQbDqfDkbQ8/t1S0h0ZyvmWpN410mnn6AbjaUnb16LMRNlXS9qlCrlR2tCb8NGSflADfT7wrluh3PHRQ+yfs+rgdC58Oq7TrkhqsuDfJxm33Mw2q0HZ8wieVhfXoKwfAL3M7Nwq5Te6zhrodCrh+s6scbkjgT+b2W5VyB5I8Ih7ZC11cuobb3Fsoki6QNJZifOLJH2zQL5TotO6ZyTdEOO2kfRAjH9A0tZl4q+V9D+S/gZcImlbSY9KelLSBYm6RkqaFY9PlXSXpHsV9jZI7p9whaRp2nAviG8CWwJ/i/UgaUys5ylJt0vayDjFr/jHos6TJA2MX/XfAr6SKytPZrmkS2O5D0gaGuOnSvqppL8DZ0k6JLZYZio4/euRyDe6lI6S9pb0SLzvT0jqD5wPHB9bQsfHe3R5inv/q1jWXEnHpXg2Rkp6IbaMZkn6vaRPSXo4/hb5rkScTY2OXoHooWMCYQ+Hp+JxA2F17OC8PLsSVtPmVsXn3Fj8CRgXj78E/KFM/LXAn1m/Kngywd8TBPcNyxM6zYrHpxLcP/QnrNR9FRiRp0cjwRfR7vF8XkLXIcBDQJ94/n0Kr6x/FvhkPD4fuCwen0eRvSUIjutOjMc/AS6Px1OB38TjngS3FjvF8+uBbyXyjS6mI2GV81xg7xjfj+Ce49RcXYl7lKu71L2/Pf7GuwBzijwLs/LOmwl7ZzQQVndPJLjeOCZXdsx7IKG10uHPtIf2C97i2EQxs3nAO5L+BRhDcBP+Tl62g4E7LHb9mNmSGP8xgkM6CG4mPl4mHuB2M2uJx/uz3tndDSXUfMDM3jOz1cBzwDYx/guSniK4ltiV8ELMZ78Y/3Dsux+XkAcgfsUPMLO/x6jrgE+U0CdHK3BrPL6RDa8zF/9h4BUz+2eJsovp+GHgDTN7EsDM3rfy3V6l7v0fzKzVzJ4DhpW/PIi6z7TgsHA24bcwgkuRkSnLcLooTR2tgNOhXE34av0Q4YsyH5HOLXSxPMn4FSllkiT3u2gBmiRtC5xN+BpfKulawtd9PiLsxXBCinqyUug6C7nYzqegjgqu8bMOPiblk/cxjV75Mq2J81b8vbHJ4y2OTZtJBJfTexO2mc3nAcLX/WAASYNi/CMEr6AAJwL/VyY+n4fz8lVCP8LL+T1Jw4DDE2nLgL7x+DFgf0k7RN17S9opWZCZvQcs1fqNj04G/k55GoDcWMEXKXydLwAjc/UXKbuYji8AWypuNiSpr4L77uT15ZP23jtOZvzLYRPGzNbGwd93E91IyfTZki4C/i6phdA1dCrwTWCipO8CbwOnRZFi8fmcRdhs6Czgzgp1fkbS04Tuk7kEI5TjSuAeSW+Y2UEKs5Bu1votXn8E/JMNGQdMUJjGO7eEzklWALtKmk7Y/e34AnqulnQacHt86T8JTNgwi71dSEcz+6ek44FfS+oFrAI+BfwN+EHs1vqvvCrT3nvHyYxPx92EkdRAcDH9eTN7qaP16Swo4/RhSTOBoy3scd3hyKfjOhXiXVWbKAoL0OYQBj3daLQTkqYAM+vFaERagP6qYgEg8BtgaVso5dQv3uJwHMdxKsJbHI7jOE5FuOFwHMdxKsINh+M4jlMRbjgcx3GcinDD4TiO41TE/wfnLo2cYzu4YgAAAABJRU5ErkJggg==\n",
      "text/plain": [
       "<Figure size 432x288 with 2 Axes>"
      ]
     },
     "metadata": {
      "needs_background": "light"
     },
     "output_type": "display_data"
    }
   ],
   "source": [
    "pe_pt[:,:,10].plot()"
   ]
  },
  {
   "cell_type": "code",
   "execution_count": 7,
   "id": "14c613f4-edc1-4472-8ab3-5ed0e1d373f5",
   "metadata": {},
   "outputs": [
    {
     "data": {
      "text/plain": [
<<<<<<< HEAD
       "[<matplotlib.lines.Line2D at 0x1dcd3e530a0>]"
=======
       "[<matplotlib.lines.Line2D at 0x294b2a0bf40>]"
>>>>>>> 9dd04566d670bf640b4a10154e8430ae75f9c615
      ]
     },
     "execution_count": 7,
     "metadata": {},
     "output_type": "execute_result"
    },
    {
     "data": {
      "image/png": "iVBORw0KGgoAAAANSUhEUgAAAXcAAAEqCAYAAADu0BDXAAAAOXRFWHRTb2Z0d2FyZQBNYXRwbG90bGliIHZlcnNpb24zLjUuMSwgaHR0cHM6Ly9tYXRwbG90bGliLm9yZy/YYfK9AAAACXBIWXMAAAsTAAALEwEAmpwYAABzPklEQVR4nO29d5wrV3n//3lmRl3b7t29vbpi+7pyMdUYML2FFsChhJKQhJAAgSQkIaGTfElPfjQn9IQWYgdiasA2xsbYXHcb99vr9l2t+kjn98eZM3M0Go1GZSSt9rxfr/u6uytpNEeaeeaZz9OIMQaFQqFQDBdav3dAoVAoFN1HGXeFQqEYQpRxVygUiiFEGXeFQqEYQpRxVygUiiFEGXeFQqEYQobKuBPRQSJ6dr/3ox8Q0S4iYkS0QkRv83keI6IzerlvqxHp8zQaPP5W67NWn2eXIaIbiKhARDe2+fqY9d2UieijLbznb7XzfoPKUBn3VujFSUlE17kNhHXQyf8qRPSvPtt4NxGdJKIlIvo8EcWavO04Y+yqri1ijdCqY8AY+xxjLB3mPrUKEZ1LRPuIaMH692MiOtfjeVEiepCIjno89k4iOkBEWSJ6gIjOkh77DSI6ZD32P0S0TnosZh2fy9bx+keu7V5ERLcTUc76/6Imy3kHY+zprX8KAGOsaH03/9nO64eFNWvcw4aIXgegzutjjKXFPwAbAeQB/FeDbTwPwPsAXAFgF4DTAHworH3uBCLS+70P7dDIM1+lHAfwKgDrAEwC+A6Ar3s8748BTLv/aHmubwXwIgBpAC8GMGs9dh6AzwJ4A/hxmwPwKenlHwRwJoCdAJ4J4E+I6PnWa6MAvg3gPwBMAPgSgG9bf1eEBWNsaP4BOAjg2dbPlwK4BcAigBMA/j8AUeuxGwEwAFkAKwBe0+X9GAPwMIAnWe9jNHjebwLYD4AaPP5VAB+Xfr8CwMkGz93l9V7gJ/IJ8BP/LdZzzrAeiwH4OwCHAZwC8BkACem1fyK99rdcr/0igE8D+J71OT4bwBYA/w1gBsABAH8obUsDv1A9BmAOwDcBrLMei4Of+HPW9/VLABubfMY3APgIgJsBZAD8CMCk9PhLAdxvbe8GAOe4jpM/BXAPgCKArwGogl9oV6x1i8/zN63PZxbAX3jsh/2ZNNnf7wL4A9ff7gHwspDOBQPA7wPIuf6+G8ADAF4A4Kjr+zkC4IoG2/s4gK9Kv58OoARgxPr9GIDnSo9/BMDXrZ+faz1O0uOHATzf57v9LY9z+4+tzywL4HPgF5nvW9//jwFMuF7zRQAfDfh52e9pfRbvB3AI/CL4ZQBjrvPM97gYhH9934GuLqbWuD8e3Lga1hfyAIB3Sc/1PSkBPM0yDI3+Pc3ntZ8E8G40MLjS864D8EGf7dwN6cID7o0xAOs9nlv3XgCeD2609wBIgV8sZAP9T+De3ToAIwD+F8BfS689CeA8AEkAX0G9cV8C8FTrZEgCuB3AXwGIgt9l7AfwPOv57wLwCwDbwC8qnwXwNeux37HeOwlAt7670Sbf9Q3gF4qzACSs3//GeuwscAPwHAARcGP9KJyL+0EAdwHYDutiBunYcX2e/2Zt/0LwC8E5rv0IatxfDeBW6fcLwS9m0QbPX/T5974m77UIwAS/YL3f9di1AF4O4BmoNe47rLW8E9zIHwC/S9Ssx78N4E9d21qxvqsJ67UbpcdeBeBe6+d3A/i+x368x+e79TLuvwA36FvBje4dAC62jqfrAHzA9Zovoj3j/hbreDkN/A7magBfaeW4GIR/QyvLMMZuZ4z9gjFmMsYOghuTy1t4/U2MsXGffzd5vY6I9oIbvIY6uvW8Hdb+fMnnaWlwAyoQP48EXMarAXyBMXYfYywLfuss3p8A/DaAdzPG5hljGXDv7LWu197PGMvBWw76NmPsZsZYFcD5AKYYYx9mjJUYY/vBTwCxvd8B93COMsaK1r68ypJFygDWgxvJivXdLQdY3xcYYw8zxvLgdwIXWX9/DYDvMsb+jzFWBr87SQB4ivTaf2GMHbFe68eHGGN5xtjd4BfbCwPslxffBnAmEZ1p/f4GAN9gjJW8ntzk2PsbvzdijI2D3z2+A8Cd4u9E9HLwi/81Hi/bZv3/XPDv8pkArgSXaYD6YxHW7yPWY0D9sSqOU7/XtsK/MsZOMcaOAfgZ+MXyTut4ugbc0HeD1wH4B8bYfsbYCoA/A/Bal4TXreMiNIZJb6zBCgT9A4C94B6hAe5ZhvmeGrgO+U7GmMntZ0PeCOAmxtgBn+esABiVfhc/ZwLu0hbUrvmQ9PMULG9b2k8C95zFa/dJzz/isX35bzsBbCGiRelvOvhJKB6/hoiq0uMVcE/sK+Be9NeJaBxcovkLyzD7cVL6OQfHyGyBtFbGWJWIjoB7fH7raeU9WoIxViSibwJ4PRF9CNxwvqqdbQV8vywRfQbADBGdA34n8wkAL2zwEnGR+wRjbBHAIhF91nr+v6H+WIT1e8Z6TPxecD2GJq9thVOu/XX/3q0Ad83xY/1sgB+rgq4cF2EytJ47uB78IIAzGWOjAP4c3HgFgogu88hskf9d5vGyUfCLyTeI6CS4dgwARz2e/0b4e+0A14xlj+BCAKcYY3MBl3EC3GgKdkg/z4KfEOdJHuEYczJATsDx5uDajkBuKXoEwAGXhznCGHuh9PgLXI/HGWPHGGNlxtiHGGPngnvXLwb/fNrlOPjFBIB9l7IdXPf12nev38PgS+Be4RXgWvgtjZ7Y5Nj784DvJ+SyreDBzl0AfmYdm1cD2GxltuwC8BC4ht7oc6g5FonoNHA55GHG2AL48eI+Vu+XXnsB1Xo7F0iPDxo1xw/4eWOi9mIy8AyzcR8BsAxghYgeB+D3XI+fAtfUPGGM/YxJmS0e/37m8bIl8Kv+RdY/YdgeD+BW8SQiegr4CeeZJSPxZQBvtVLcJsCDPF9s8hqZbwJ4k/X6JIAPSOurgntk/0hEG6z92mpl6IjXvpmIzrFe+1dN3us2AMtE9KdElCAinYj2ENETrMc/A+BjRLTTeq8pIvo16+dnEtH5VsbNMrhMU2lhnV7rfhERXUFEEQDvAddFf+7zGt/jIQhE9EEiuqHR45YxrwL4e/C7lYY0OfY+3uD9n0NEF1uf/Sj4nesCeLzpPvAL3EXWv98CX/NFAI5Y0ts3wLNcRohoG7hsd621+f8E8BLL6UkB+DCAqy05D+DH6vuJaMI6334bzrF6A/j3+YdWyuQ7rL9f5/cZdBNy6hZ2BXj61wC8m4h2E1EaXK78BmPMDHUnu8wwG/f3AvgN8Fu/fwM/cGU+COBLRLRIRK/uxhsyzknxDzxrBODetqyt/iZqTwwAXIe3PLMd1vZ+AH4rfT34reEhSAY6wP58Hzxoeh14gMh9Mv2p9fdfENEyeMbB2dJr/8V670fBM48AbiS93qsC4CXgxuIA+J3Bv4NrvwDwz+DB2x8RUQY8OPZE67FNAL4FbtgfAPBTcGmmLRhjDwF4PXjcY9bar5c00rct/hrcOC0S0XvbfOvt4Nk7fnwZXNNue30+jIMbpiXwYPMZ4BkpBSv2JB+b8wCq1u/iQvoOcAnlOPj3/VUAnwcAxtj9AH4X3MhPgztPb5fe+wPWex4C//7+1jp+YX3uLwO/G1sED1i+rMn30W22W/t2rNkTwdf8FfCsugPgUtMfBHkTInodEd0v/f4ZSx4Tv99vpUmHDjHWi7tRRdhYHvFD4AfiHzPG/q3L2z8H3PuLrTYPJgyI6M0A/hE8jfNcxth+IroLPJWwoWxGRG8E8DbG2NN6s6erDyL6EYAnA9jHGHtmG6+Pgd+VRMBjCB8iovcDmGGMfba7ezu4KOOuaIiVXfFd8DTKL4F7ei/r606tYix56zoAn2KMfbnf+6MYboZZllF0zu+AS0uPgWum7rhFqLQYzB5orFjGDLhH+dU+745iDaA8d4VCoRhCQvHciehsIrpL+rdMRO8K470UCoVCUU/onruV3nYMwBMZY4eaPV+hUCgUndOLCtUrADzmZ9gnJyfZrl27erArCoVCMTzcfvvts4yxKa/HemHcXwuee9uQXbt2Yd++fX5PUSgUCoULImroNIeaLUO8X/NL4VGJSURvIz5YYN/MzEz9ixUKhULRNmGnQr4AwB2MsbqeDIyxqxhjexlje6emPO8qFAqFQtEmYRv3K9FEklEoFApF9wnNuFvVeM8B7z6nUCgUih4SWkDV6jK3PqztKxQKhaIxqv2AQqFQDCHKuCsGmnKl2vxJCoWiDmXcFQPL3EoR53/wh/j+vSf6vSsKxapDGXfFwHJiqYBCuYrP3Li/37uiUKw6lHFXDCzZIp8JcveRRdx1ZLG/O6NQrDKUcVcMLCtFZ+DTl2852L8dUShWIcq4KwYWYdyfdsYkrr37BGZXPMe3KhQKD5RxV7RNtmjiz66+B8cX86FsXxj3t162G6VKFTc8pHoQKRRBUcZd0Tbfufs4vnbbEXxz35FQtr9S4Mb9wm3jAIATIV1EFIphRBl3RUvcun/Ozj2/+o6jAIDrQ/Kos0UTRMBEMoKJZAQnlwuhvI9CMYwo464IzEMnM3jNVb/A3/3oIRyay+KXBxewcTSGe44uhqKHZ4om0lEDRIRNYwmcXFLGXaEIijLuisAcmM0CAP7txv346HcfABHw0ZedD8aAGx/uvve+UjCRjvP2R5tGY8pzVyhaQBl3RWBE4HQ8GcX//eoUnnr6JK543AZMjcRw3YPTXX+/bMlEKmYZd+W5KxQtoYy7IjDHFvNIRHR84pUXAABe/YTt0DTCM86awo0Pz+DIfA4/vP8kSmZ3+sFkCibSwriPxjGXLaFoVgK/njGGGx6aRr4U/DUKxbCgjLsiMMcW8tg6kcCzz92Im9/3LLzkgs0AgGc+bgOWCyYu+8T1+J2v3N41Lz5bdIz75rE4AGB6Obi2//37TuJNX/glvqd60yjWIMq4KwJzbDGPLeMJAMDW8QSICADwzLM34DeeuANvf8bpAIDFXKkr77ciGfeNlnEPqrsXyhV8/HsPAAAWurQ/CsVqQhl3RWCOLeax1TLuMomojo+//Hz8zuXcuMttAzohW6xIAVXLuAfU3T930wEcXeAxguVCd/ZHoVhNKOOuCES+VMF8toRtE/XGXZCK6gC6Z9wzhbKjuY8FN+6ZQhmfvP5RPPfcjRiJGcgUyl3ZH4ViNaGMuyIQx6xMGS/PXWDoGhIR3e7m2AmMsRpZZjRuIBHRA8kyJ5YKyJUqeMmFWzASN5BRnrtiDaKMuyIQtnH38dwBIBUzsFLsPDulUK6iymCnQhIRNo/FA3ru3JiPxA2MxCPKc1esSZRxVwTimKVfb/Hx3AEgHeuO554pcoMsNHcA2DgaD+S5C1mIG3fluSvWJsq4KwJxbDEHXSNsHIn5Pi8VM7pi3LOW95+O6fbfgnruK7bnHlHGXbFmUcZdEYhjC3lsGo3D0P0PGS7LdG5MhYFOxyL23zaOxXFquYBqlfm+Vsgw6ZiSZRRrl9CMOxGNE9G3iOhBInqAiJ4c1nspwuf4YqGp3g5wg9qucZ/PlnD+B36IW/fP2bJMyuW5m1WGuax/3rp4/7SSZRRrmDA9938G8APG2OMAXAjggRDfSxEyxxbz2NZEbwe4cW9Xljk8n0OmaOKuI4u2LDMie+4Bc92FMU9FheeujLti7RGKcSeiUQBPB/A5AGCMlRhji2G8lyJ8zEoVJ5cLTYOpgH+2TKFcwR9+7U4788aNqGw9vpjHikdAVRQynVjyH9ohetLoGmEkbqBUqaJQVv1lFGuLsDz30wDMAPgCEd1JRP9ORCn5CUT0NiLaR0T7ZmbU+LRB5uRyAZUqCyjLNM6WOTCbxXfuPo59B+c9H1/Kc4N+bDFvXyBkWWZ9OgoAWMz5a+grxXJNfjwA5b0r1hxhGXcDwCUAPs0YuxhAFsD75Ccwxq5ijO1ljO2dmpoKaTcU3UCkQfoVMAlSMQP5cgUVj6Cn8J69HgOABUtLP7qQdzJeJFkmFeWGOlfyN9QrRacP/Eicv14FVRVrjbCM+1EARxljt1q/fwvc2CtWIceXghUwAbA95qyHAS6UeStgs4FxX7Q89+OLeWSLJjQC4hHnEE1aXnzWauG7mCvh/A/+ELc8NleznUzBxIht3JXnrlibhGLcGWMnARwhorOtP10B4FdhvJcifOwCprFgnjvgpDLKFEx/z13ILcsFEyeWCkjHDLvzJABEdQ26RrbnfmKpgEzBxCPTmZrtyH3gHc9dGXfF2sJo/pS2+QMA/0lEUQD7Abw5xPdShMixxTzWp6JIRPWmzxXG3Ut3L1qyTEPPXWrN+/CpjG2gBUSEZFS3M2mEkXcb7pWiiS3jPPjqeO5KllGsLUIz7oyxuwDsDWv7it5x1BrSEYQR4bl7GHchyzQqQlrMl6FrhEqV4ZHpDHasS9Y9JxU1bKMugq7LLsO9UuO5K1lGsTZRFaqKpjTq4+6F47nXpx4WmnruZZy5IW09t2pvSyYZ05GzNPdcsbHnLuQY8b/7AqBQDDvKuCt8YYzheEvGvXFPdydbxnvG6mKuhNM3pBG1Why4ZRkASEYd4y4Cq7Jxr1RrWwWnfe4k+kW1yvDB79yPR6dX+r0riiFGGXeFL/PZEgrlaqACJkDKlvEy7tbg7EqD+dmL+TLWJaPY7NLLZZJRpwJW/L+cd7xykaUjXqtrhHRssFoQzK4U8cWfH8Q39x3p964ohhhl3BW+BO3jLkj5pkI29tyrVYalfBkTyYh9lyDy2mu2X+O5C1nGMe4rhVrjLn4epIBq3voc7jy80Oc9UQwzyrgrfGmlgAlwPHcvT7loNs5zXy6UwRgwlozadwlpL889ZthGPeuhuWc8ukkOmucuAsv3HltCudFtjELRIcq4K3wRnrvf7FSZmKHB0MhblvGpUBU57uMJx3P30txTUR154bkX6zV3r5403e4MyRjD1XccrUndbAXxORTKVTx0MtPk2QpFeyjjrvDl6EIeqaiOsUSk+ZPBc9EbDewQHquncbd084mUv3H30txlycXx3GXj3t2e7ncfXcIfffNufO/ek229Xm5i1qk0c+/Rpa4MR1EMH8q4K3w5vpjHlvFETaVoM9INOkMWfTz3BcsLHktEbX3fMxXS0twZYzVZM2KbIitmNETP/ce/OgXA0c5bRQSWAeDOw4u+z73j8ELDXjpH5nN46Sdvwhs/f5vqeqmoQxl3hS/HFoMXMAlSDTpDivYDQnMvV6r4wLfvw8mlApaELJOM4IwNaUQNzbuIKWbArDKUKtWa9EYRSLU993it577cTeP+wCl7/9tBGOKt4wnceWSx4fPuPLyAV3zq5/jabd5ZNT954BQYA24/tIB3fv3Ohm0dFGsTZdyHgGqV4T9vPYSi6e29ZQpl/NaXftmwj7ofrRQwCVJS0FPGLcscnM3iS7ccwrX3HLf164lkFBtH49j3/mfjsjMn67aRtFog5IqVGo9WFCmteMgyo13Mljkyn8ODlk5eMjsz7k8+fT0OzGbtbphu/vHHjwAAHp321uV/8uA0TptK4a9efC5+eP8pXHPnsbb2RzGcKOM+BNx3fAl/cc19+Pmjc56PP3Qygx8/MI2fWB5nULJFE4u5csuee6NRe+6AqvDg7z++jAXLcxdyymg84ikF2ca9XKmRfoTHnimaIKpNoxyJGyia1baNscyPpc+wY+N+2noAwF0e3vu+g/O48eEZEAH7Z7J1j68UTdy6fx7PPmcjXv+knQCAU8vNh4cr1g7KuA8BwiNu6LlbhvaBE61lZoiJRy177lHDuyukq/2AMPK/Or6MpXwZo3Gj6QDupOjpXjSRK5mYTMcAOEHVlYKJdNSApjkXhm72dP/JA9M4Y0Ma8YiGUtuyDH/dhdvHAPAhJm7+8ccPYzIdxQvP34yDc/WP3/TIDEqVKp71uA2I6ASNYGcRKRSAMu5DgWkZmXLFW3MV+veDJ5db2m6+xLfrVUzkRzruny1TdXnuj86s4NRyAePJaNNtp6Se7tmiic1jvJrV9twL5br8+G41D8sWTfxi/xyuOGcDorrWsecu1lt0bWcxV8LNj87hDU/ahXM3j+LUcrHu8/zxA9MYjRt4/M4JEBHiEV0FVRU1KOM+BJSlAKUXwot+6GSmYUdGL4RnaujBM2UAH1nGdHvujgb/y4PzGE82T7eUPfdssYJNwrhb+e1yXxlBt3q6T2eKMKsMZ28cQdTQO/bcR639ct9xif3cMh7H7kk+nVL27qtVhusfnMYzzt6AiHWnk4jo9uerUADKuA8FjufewLhbhjZXquDIQi7wdsX2ok2kEjepmI6sla4oU7QDqlalqnSnMbtSCua5W8Y9UzSRL1fqPHfeEbKR596ZLOO0NoggZnTguZsVRHRC1NAQ0anOcxffVzpm2MZdlmYWciXMZUu4aPu4/bd4RLfvtBQKQBn3oUDIMY1kGdmLbkV3F8a3mQ7uJhUzUKmyOqPVSHMXjAcolBIDQ2ZXigCAjaO1xn25YCIdr92OMO6dpkOKi8NI3EBEp7aNe75UQdzg64gZet12hASTihnYtd7y3KWgqsjvl+9Q4hFNee6KGpRxHwLKTTz3bNFERCcQtaa7i+1F2pBlgPo2u8K4Vy2PXshJUYMfhkFkGaG5Ty9z4z6RjCJqaHZnyJVC2R4YIliX4ncEjVIKg7IsNSWLduC5F80KYhFh3LU6WUa0Mk7FDCSiOjaPxXFA8tzF5yhPxopHdBRUQFUhoYz7EGB6yBwyK0UT48kodq9P4cEWPHfHuLfouUe92/6Kykyxn0KeOXfzKAAEkmWE5j5jee6pmI7RuGEbXi9ZZvNYAs84ewqfvXE/5qzXtYPtucci3Lh3oLmLwd8xQ7PlKoHjuXPjvWt9qkZzF557UjLuSnNXuFHGfQgQckwjY7NSrCAdM/C4zSMteu58u60a97RHdkq5UrVlGDvP3dr+Bdt4SmAQWUYYNOG5p6JGTe8YecSezPtfdA5ypQr+ySoMaoeM7LnrWkcVqnHhuUf0hpq7uEjunkrhoIdxd3vuKhVSIaOM+xAgjGRDz71Q5sZ90ygOzecCN5oSdwTtyjLy+8hpehVWa+RFYHBqJNZ02xFdQ1TXJM/dsHvHVKoM2VLFs1XwGRtG8Lon7sBXbzvctjxjBzotWcZtlIPCjTs/9bxSKnNSQBUAdq9PYSFXtqt482X+eDLq0tzLKqCqcFDGfQgQRtgvWyYdM3DO5lEwBjx0KphxE0anZVnGY2CHbHjcFarnbx3Dl99yKZ533qZA20/GdMxmHFlGDONYcRlFN394xZmoVBl+eH9rlbqCTKGMRERHRNcQ6SjPvYqE7bk31tyTlizjToe0PfeIS3NXee4KCWXchwBhZMoNZpOuFCtIxQw7bXAmE0x3bluW8RjYIRseR3N3snGeftaUHVhtRipq2GtIxQyMxCLIFEy7+dho3FvemUzHsGt9EvceXWppPYJMwdHzO02FjNcEVOtlmYhOiFkZNbunvI170h1QVcZdIRGacSeig0R0LxHdRUT7wnofhdRl0WwUUC1b6Xv86w5ayNSuLDOaqDfusndacRVdGVpr209GnQIirrlzWeb+49xon7kx3fC1e7aO4d5j7Rt3Ifl0ElDNlyq24Y4Z9Zp7rmjWtDsWF+Vp64KW99DceUC1d7LMTY/MNmx4phgMwvbcn8kYu4gxtjfk91nTNCtiyhYrSMV0CAfca8ydF8IzbTXPXXjOy1LRUI0s49Lc9VaNu2T4uCzDA6p3HF5A1NBw3paxhq+9YNsYji3mMd+GYVoulO1q104CqkXTlS3jkmVWipWalg+JiA6NnBiG6CNf67lrPQuoHpnP4fWfuxVfuuVgT95P0R5KlhkChHxiNpJlCibSsQh0jX/dQft+i4tAqxWq8YiOqKFhKe8Yd2HANHK2K/5v2XOXtOak5blnSxXcdnAB528d85V39mzlhr8d7z1TMO2ulZ3kucvZMl7byRZNOw0SsKZbRY2aSmMAdiEU4KRCuquCw+B/7zkOADg0F7zaWdF7wjTuDMCPiOh2InpbiO+z5hEeZMlDlimaFZQqVaRjum1Eg3ruZdtzb834Atx7X87XB1RTUaOmpwzQuucuDF8iokPXyNbB7z26iMfvnPB9rW3cjy629J5AbQ59ZwHVistzdxn3klk3hUoeXZgvmdyblz63WEQHY/VNyMLg2rtPAAAOzyvjPsiEadyfyhi7BMALAPw+ET1dfpCI3kZE+4ho38zMTIi7EYzpLvbCLpoVfPOXR7rSPzwIjidc/35iiHQ6ZthGNKjm3q4mDnDdvVaWcaouhZrheO6tHYYiBVAYeSEDVRlwyY5x//2KR7B7MtWm517GSMySZTry3Ks17Qe8ipjcGT+pmF7jucuSDAD7TsC9rW6zf2YFvzqxjKih4Ygy7gNNaMadMXbc+n8awDUALnU9fhVjbC9jbO/U1FRYuxGIOw4v4NKP/wTXWrebnfK5mw7gT/77Huw7NN+V7TXD3X6AMYYf3HcCZqVa06ekZc+9yhDVtZbmpwq4516vuSdjuuS5t3dnIIy68G5FABcALtnh77kD3Hu/71hr7Y+B+oBqsQ3NnTGGglmxg6GeqZDFeuMtz6XNlyo1wVTASYtsd65rUL57D/faX/X4bZjOFFWGzgATinEnohQRjYifATwXwH1hvFc3eMgam/bB7/zKTqdrl6VcGZ+54TEA7U/qaRXT1TjsVyeW8bv/cQeue3C6pqpS3MZXGmjzbspmtS1JBgDGErVzS4URSFszUAHnItOqLJOIcAMrPHgR5Nw6nsAGq5GYH+dvHcWxxXxLrQjMShW5UsVJhbQCqq1q3EWzCsYcTzuqe6dC+sky3p47P5XDNLaMMVx7zwk8YdcELt21DgBwtIUuo4reEpbnvhHATUR0N4DbAHyXMfaDkN6rY44u5KARMJ8t4v/98MGOtvXZGx+zjVqjitFu4y5iElLMiaWCXUiUjkVa9tzNKms5x10wmoggI3vuppPh4W4/0KrsIzz3tPW/MLiXNNHbBedvHQfQWlBVSCJ2toyhgbHgn6VAyCYxK+gbi3hUqJa8ZBnJuJcrNQVMQG889+sfmsZDpzJ4+cXbsH0dn851ZL71ubyK3hCKcWeM7WeMXWj9O48x9rEw3qdbHJnPY+tEAm9+6m589dbDeGxmpa3tzK4U8YWbD+LsjSMAWj/x20UEUoWxFMbi5HLB7kHOUyGF5x4wFbJSbTnHXcCbedXLMmmrHTDQvucuPHbx/4TVcGxvQOO+azIJgF/8giLfAQFOYVerd2fiIucUMekwq8xOZwWELOPqSS8NQCl4yDJie2F57uVKFR/77gM4bTKFX9+7DdvX8c9QBVUHF5UKCe65b59I2uXvJxbbC67uO7iAfLmCtzxtF4DGqYndRryPKKopVfgJfmq5YM9PHYkbduAyqHEvm9WOPPelfNmWLQp2brYhNRCrQteoZU3f8dy5Ady+LonPv2kvXvOE7YFeH23DMAvjLqdCtroNwPkc5ApVQPruzKqd3SRT67mbdcbfMe7hHHNfv+0wHpvJ4s9eeA4iuoapdAzxiAqqDjLKuAM4upDHtolEx7e2h6ye22dv4i1sgxrRRjDGcMND002LZRzN3TEQADfuckBV76UsE4+gXGHO8G47W0av0dxb9dqB+mwZAHjW4zbaBq4Z7RhmZ1CHI8sAjTtxNkJ8HnIqJODINfL3JcONO/8Mc56ee3ia+1K+jH/88SN40mnr8OxzNgDguffbJ5ItTfZS9JY1b9wL5QqmM0Vsn0h2fIIcnMtifSqKdZZM0KnmfteRRbzpC7/EP/34Yd/nCaMu3q9oG/eiLcukpWyZVmSZdgOqIoNFSDMFs4qYoUHXyE7FrFRYW2mWIpjo9l6D0o5hzhRqm5K14/0D0qANu4jJSmG0tiNiJO6h5OkYb7lQMqvIlyo1hVxAuLLMp65/FAu5Et7/onNr7rK2r0visNLcB5ZVbdyPLuTwxZsP2K1Q2+HYIj84t61LdHyCHJzNYef6JHRdeMid3SILTfgzP93v2+zK7i3j9tyXCjW9wbVWPfdKteXqVIHdgsAKqoqqTEPTajz3Tox7o+6PzRBraqXgRwzgHnHLMi167vlGsoww7kWnHkDG7rRZND2zZcIKqB6Zz+ELNx/EKy/ZZheACbZPJHB0PteTqlhF66xq475/JosP/u+v8ODJ9senCc2Qe+4dGve5LHZNphBp0Yg2QswJTccMvPe/7q7Lhxa489yFwckUTUxnikhFnWpGQ6PgqZCVzrJlAMlzt6oydY2kgGq15b41gGPokrFgMowbIvLso+6HPBwb6Nxzt2WZiLjQ8L+vuKYwCcSaV4qmlefeG839b37wIHSN8N7nnl332PZ1SWSKJhY90oenM4WOZUlFZ6xq425Phpem1LTK0QXLc6+RZVo/QQrlCk4sFbBrfcrRtjuUZWYyRWgEfORle/DQqQx+sd+7KMox7qI7pLP/j82s1Ayv4MY12PuXO5BlxoRxt1oQ8NFyvAWCKbUfaE9z78xzB1qvMF12Zcu0H1AVqZB6zf/iLiJXqpV/BOL3pXwZpUq1J557vlTBd+85gdc/aQc2jdXXD4iMGbfuXq5UccXf/RT/3EROVITLqjbuW8YTiOpazfDgVjmykENU17BhJGZ7P+2cIKKJ0q7JlO2NdsNzX5eK4bwtPEDbSH5yJjHVeu4ALxeXb/Fb89w7yJaJO8YIsDx3g99BiLc329TcRerjRICZq43gLXuDf8+ZgomortU0/AJal2WKdamQtZ67CKi64wniOxR3c+4891gIAdW5LH+vMzeMeD6+fYIb93uPLeHwXM6OpUxnisgUTXz1tiNtd85UdM6qNu66Rti+LtGx5751IgFNI0R0DYZGbZ0gB60LzK71SSlw2dmBPZMpYjIdrdOv3ZSrYoZqbZ47AMyulDASq/XcA7cfqLD289zdsozV5rYbnvuW8QS++TtPxvP3BJvc5EWrskymUK65AxKyTLlDWSbqypZZkXoByYjUSDGkxJ0tEzM0EDlZSa1yaC5bk2sPwG6LPJHyvojuWJ8EEfAX19yHp//t9fiy1QL4pBUrml0p4roHp9vaH0XnrGrjDnBp5uBsa+lYJbOK/7nzGEpmFUfnc9g2kbAf4xNtWjfK4gKzU5Jlyp3KMislTI3EbClALueXESelne/uMjipmFuWCR5Qbddzt/dZ8txjVhfHKuNpnu0GVAHg0t3r2t43oHVZRp7CJF4PoOX+Mk4qpMtzt6uL/TV3MTvWLcsQEeKG3tZdZ65k4rn/eCPed/W9NX8Xxn1dA+Oejhm46g178bGX78Fo3MBDp3jxnzDuUV3D12873PL+KLrDqjfuu9ancHAuG7jTIQDcemAO7/rGXfjnnzxs5bgn7cfikfZOkINzOaxLRTGWiNhGp5WAktfou9lM0SoW4f3R5YpPGVtzt4xV0cpySXlo07qUrdKMUgcB1ZihIx7R7AtS0cqW0clJx6xUWVsB1W7Q6iSlTKFcY9zbrlB1pULamrvIcy81yHO3ZBpxnLiNO9D+kOwj83kUzSq+dftR/OQBZ77sQs7fuAPAc87diNc9cSd2TabszLOTVofV1zxhO3768AyOL6p0yX6w+o37ZApFs2ofUEEQOcuf+el+zGVLdp8MgJ8g7dzaHpzNYud6fpEQzqj7NrcRvzw4j0s//mPceXjB/htjDDMrRUyOxADU90eXcTcOK5lVRA0NG60mWmm35h7wjqLcQfsBZ5+F515F3NCkNFHGs2Xa9Nw7pdUZqCtF0273K14PtG7c61IhI/Wau66RvX2B+A4dWaY+mJxowTG59+iSPblJZIyNJyN439X32uPz5lYs4x4gtrFlLGEb8VPLBcQMDb992WmoMuB7954ItE+K7rLqjXs7GTNiko04gWTPvZUTRObQXBa71/N9ISJE9ODa9n/tOwLGgMdmnDUsF0yUzCqm0pZxTxh2laQbMRi7XOVdCuuMuztbJmBecieyDN/niKS5V+xsGYB77malPc29G0Q9hmT40UiWaTVgWCjzC6ZYtzvnPlusIBXV61oypGJBPPdgQ7IL5Qpe8emb8cWfHwTgZLv865UXYyZTxDf2HQHAPXddo5qWyo3YOpHAsYU8GGM4sVTAprG47TQ1khMV4bLqjbvwllvJmBHpZh98yXmIGZqdjQK0N0W+UK7g+FIBOy3jDgQPXBbKFXz/3pMAuMcjEFkRkyPcaxqJR3w0d/4+jHGjWTK5LLNxlF8Yajx3PbjmXq6wlgdpyIwlnLuNYpkHVDWSPff2NfdOaT2gatYGVH08d7NSxfv++x48fKq+/kJkDQkcz93R3N2SjHi/qKHZmrs7WwYIfuxmiybKFYYHT/Ke9kfm80hEdDztjEmMJSI4ZqUHz2fLmEhGA/X+2TKeQL5cwUKujFNLBWwcjYOIWsrOUnSX9hOFB4QtYwlEDa0tz/3FF27GKy7ZWqP7xiNay5676Iwnug0CQETTAuW5X//gtN3cS54GNWt5aFNp7n2Pxo3G2TLS+5hVhnKl1nOvCahSK9kyVUSNTmQZA7PWrb3bc69amns/PXdRMBSE5ULZzloCpCImD8/9wGwWX//lEWwcjeOs59SmERZNHlgWCM3drlD1GLEnSMeMrmju4vgW3U+PLOSwfV0CRIRNo3Fb4pzPFrEuFWm4HZmt49xLP76Yx8nlAi62JmK1kp2l6C6r3nPXNMLOdUkcaCFjJmed1HFDrwvo+WXLmJUqvvKLQ3Vaul3lus4x7roezGO55s5jmBqJ4bSpFE4tO0HVGZfnLkscbmRpoFThXQVl4z5SV8QUfp67e59F+wFdqgHgmnt/DsFWNPdqldXMTwWAiI/nLmQOr9bRBesORt4PQK5QrTQ07qmYbseLvPrqJKLBJEVxfD82zRMR5KSCjWNx28lYsDz3IAjjfnQhh5PLBWyyjr1WYjyK7rLqjTvAg6oHW5JlKnUDhgV+t7a3HZzHX/7Pfdh3aKHm7yKQtG3cCcwaGtn5526mMwW86F9+hiuv+gVueGgGL71wC7aMJXAq4+W5OwHVjE8qpAh8mhVZlrE896grzz1wQLUzWUYEVBljdkBV1tx5tkz/PPegxj1XroCx2oukX3+aw1ZB2/6Z+mOy4Bq04dUV0t3uVyB/j56yjBFccwe4B39iuYCj8zlst9KBN47EHM89V8L6dEDjbr3+/uPLKJlV+9gz9ODZWYruMhTGffdkCofncoG15Fy5UpdHLEj4GHfxd/cJfWyxgKiuYdIyxAAf+tzIY7n36BLuP76M+WwJW8bjuPLSHdgwGsO0y3PXNbI9J19Zpsrsk71cqaJoBVQ3j/MTTLQCALjmXg0YUC1Xqoh0IsskDCwXTPvzismpkFaee99kGT14KuTdRxYBABtGnBJ8u4jJYxtHLM16/+xKXYpu3rqDEYg+N7Lm3qjbpRw7cRcxAa0FVAW3H1pApmjad52bxuKYyRRhVqqYz5YCe+4TyQjiEQ13WBlfol2B0UJdhaK7rHrNHeC57qVKFSeWanPWG5Ermp4nB+CvWwpPzy3LHFvMY/N4vOZOQNfIzmJxI+SXL77lCdg8ZnlMo3FMZwpgjIGIMJspYX0qam9zNBFB0aza8oaMWakimYxiuWCibLWFjRoaLt4+jn+58mJcfrYzgLyVPPdypYpIh557pcrsYph4RJoGVWFttx/oBlFDs71lPxhj+MQPHsSWsXhNRSyvaCZP71/EYArlKk4sF2zJgv+tUiPLALUSUdZjxJ5AyDWGRnZAVyZoAZ78nBse4hWktiwzGkeV8RYCi7mSb467DBFh63gCdx1etLcDKM29nwyF5y5uCU8GHJuWK1Xq+mUL/FIhhXfl9taOL+axZSxR87eIT1bKdKYAItR4+htHYihXGBasDnszK8Wax0WvFrc0U6kyVJkTYCtXGNfcdQ1EhJdeuKVGN9cpWHGV2G6nmjvADQXAL5yG1A6Ze+6DXcT0/ftO4u6jS3j3c86qu6hGGmTcHJnP2d/XY9O1urtooCYTi2hSnnvju0ph9P0dk+aeu3x83/jwDADYaYtCK3/4VAZV5l/A5GbrRBJZK1lhc43nrrJl+sFQGPe01A7VzZJHO1KvSTYCv1tb4em52wocX8xjy3itcffTtqczRaxLRmsM5wbrpBLpkLNSARPgGEp3rru40MQlWUZ47l4YAbN4xHY7kWWEHCTWFDd0OxWSa+79K2KK6npTzb1SZfjbHz6Eszam8YpLttVvw+MCwRgPUF52Fr9b2j/jNu4VO0NGEDP02lTIBo6HMPpemTJA8BoNcXzL2UyyLAMAD5zgaZwtGXdLBiQCpqxjV2+h3kPRXYbauN93bAkXf+RHeHS6Nt84V2p8AsUi/ETzamcg+n/IQzjKlSpOLRfsA1vAh1J4G4/p5aJ98AtETrowhDNW6wFBo/4y4sRxPPeqHVD1ImhvGdu4dyjLAMDHvvsAAKtjpubS3Ac4oHpyuYADs1m84Uk7PWMDXrnyC7kyVoomLt4+jpG4UVOYBvC7Py9ZpmhWYVrxksbZMrWDwd0Ix6TZ8Axh3M/bwodvjCUi9ne1wToOf3WC58C30nlTyE+T6ZjtuBiapjT3PjEcxj3uTKmROb6YR5XVZy34ee4iMOmVBSHaEpRN52A9tVxAlaHOc/crFprOFGxNUiCCddPLRTDGMLdSstMggfrJRgKh/yckWUbkuXth6MEqVIV331H7Aauy8dhiHp941QV4/M6Jml73lSqzB5v0GuF1+xlCUZ4/mvDO9fby3EVa7I51SZw2lcb+2XrP3S3LcP2/0nAKk8CWZRrMik1EdVRZ8zbEwrjv2cqL9+TGeZOpGAyN8IBl3Fvx3MU5sEk6tpXm3j+Gw7hHhedee0tasAy0uPUUcM29sW4JePfFtjV3ySM/vsg97TrjrlHDrpDTy0VscHnuGyTPfTlvolSp1njujixTewET7yFOeLOJLBP0ZBOeeyeNvXZPpnDprnX49Osuwav3bre2524/0L88d8DfEDrteb2PFS/vXwRTd6xP4vTJFB6brnUs8q5USLEvpUoV81ajromk98XE8dy990esqVlQVTwuPPftUhKCphE2jMRsOak1WcZJDhCoPPf+EdqZRUQ6Ed1JRNeG9R4CoUWuuAyf8LTnVmo7LuY8xpQJ/CbaiBNZ7uEtctzrPXfv29FqlTcEE8ZcEDN0TCQjOJUpYGaFXzBk6cb23Bto7uKEl4uYvNApWIBL5Oi3O0MV4C0Tvvm7T8Zzz5OyTGpSIfupuTdv/OUerOG1DffrRQHT9okkTt+QxsnlQo1c6J0to6NYrmLeGo7RyKCmmgZUg42JzLs8d7lxHsALmcSh24osI86BzWNuz10FVPtBmG7TOwE8EOL2bQxdQzyi2e1SBcJzn8u6PXezoffjd4IIz132fI/Zxr1WZtE18syBnsuWUKmympxpwcbROE4tF3H/cX5LLFe8uvujC4R8Ii5WZoXxPHcfzT1QQNXsPKDqhSiKEkVM/dTcAX/jbvdeb3ChbCTLrE9FkYoZOM1qanfAkgXtYq4G2TKiC+P6VO2FXzDSTJYJaNwL5QoMjbB7Mo3nn7cJzz5nY83jQlZJRPSGFxIvNo3FMTUSq+nVZHjcKTLG8Pb/vN1Ow1SEQyh57kS0DcCLAHwMwB+F8R5u0jGjLqAqPPcZyXNnjCFfDiLL1J/0whDIJ/TxxTwmkpG6IFdEJ8886mmrCnXjaP0JvGGUl35//96T2DASw0Xbxu3HklGeI17nuVteUcKVLeNuGSsI2jjMlmW6LJvImntfG4d1Q5bx8tzn89hmXZRPm0oD4G0Izt82ZjsHdcbd0DCfrTrDMRpUhTaTZYIOyS6Uq0hYNQefecPj6x4XskorkgzAU0Nved+zaoLPXgH86UwR37v3JKpV4Blnb2jpPRTBCctz/ycAfwKg4VFGRG8jon1EtG9mZqbjN0zFjLqAqjiZZFmmUK6CMe9+2IBzgnjJMuI2XfZ8vdIgAV4s5NV+QOR8T3l57iMxHJ7P4YaHp/H8PZtqiqKICKNxo05zF/tSky3jJ8toWqCAatkOqIZj3CtVhko/W/4GkGXcU5PqtmFodXdnRxZy2GEZ992TKUR0woMnebaWuNi7L7yi/bC4w1zfUJbh+9FQUozy7TZLh8yXa5uXuWnXuAP8LlruIumVenvAavJ364G5lobsKFqj68adiF4MYJoxdrvf8xhjVzHG9jLG9k5NTfk9NRDpmFGnuQvPSw6oOpNu/L0fr4EdtixT47kXPI17o+KNGas61R1QBfhJtZAro1Cu4gV7Ntc9PpqI1MkyZVe2TN7qg9JIlglaDm6nQnZZNtFdqZDdvngEJZgsUzvv1Gsb8usrVYZjC3m7T0vU0HDWxhHcf3wJgNOW2n28xAyecz+fLSEZ1RteTNLNPHcjmCxT9ND9ZTaN8WOz0ezUVvDy3EUH14VcGQ9ZbZHnVopqmHaXCePMeiqAlxLRQQBfB/AsIvqPEN6nhpSHLFPwCKiK9LZmuqVfQFUMomaM4dhivqa8XGA00LZFHrs7oCr/bX0qikt3r6t7fCRu1OW5uwOqIp0u4pctE0BzF0GwbhtfeXh4v1v+At4pr4JCk4BqRK8d+DGXLcKsspqA4p4tY7jv2BIYY7jL6rsi2uEKeJ57BfNZ/3L/prJMtPGxK+OVsSMjPPdGdxCtYOj1AdUDs1l7Wtkv9s9hJlPE0z9xPb58y6GO30/h0HXjzhj7M8bYNsbYLgCvBXAdY+z13X4fN+mYURdQFSfeQq5sG0HRy71RLrGfbunIMvyx5YKJlaJZF0wFxEHtLcuMJyN1VYqAk+v+vD2bPI2ePLZO4C5iEoNIGgZUKZjnXjLDlWW45t7HbJkAmrtwBHxTIaXXCylLlsT2bBvDQq6M40sF3HlkERtHY3Y/IYEoYppdKWJ92juYCgRoP2A0vuuU8cq1lxHGvZVMmUZ4ee4HZrM4bSqN7esSuOWxOXzx5weQLVXqstoUnTEUjcMAy3Of8fbcAWAhW8KG0bh9AfDrzwE00txre8s0SoMEGlfmTWcKnpIMAJy9aQRRXcMrL9nq+fhoPGLrlQJ3+wHhuTfU3AOWgzueeziyjGn1rumX5x4LlAopPlvvzzLmCqiaHkHoPVbmyH3HlnDXkUVctH28bjuiidl8tlRX3CYzkYxiz9ZR7LHy0934Hbsy7p7ybjaPxRHVtZo7kHbxypY5MJvF7skUxhMR/PD+k/jF/jkArQ2UVzQnVMGTMXYDY+zFYb6HgGfLuIqYJO9bZMwIbyzZRjqZneduHYQL2capa0aDVMjpTNEzDRLgAbj7P/w8PH5nvSQDiBa6ZRyYzeLSj/0Yj5zKSAHV2irdxr1lgrX8dTT3cGQZcRfUd89dMs6FcgWv+NTNuMtq8VsoV0DU+C7IHVB1Cr+cNZ2zeRS6RvjZIzM4NJfDxTsm6rbDe8s0l2WihoZr/+AyPP0s7xiVcFiaZcu42w67SUYNXP32p+A3nrjDdztBcHvu1SrDofkcdk+m8OTT12O5YGK5YIKovmeTojOGokIVANIxvS5bRjbQIodYPKeRLBMLkuduncSi10zMwwtqlHI4vVxfwCTjZ0xHLFnm23cdw3SmiEenV2wP29bcXcO/3XDNvXngKmxZRmSO9LMrJFBr3GcyRdxxeNHu3y7mnTaaIeoOqNqyTM3YRh1nTKVxzR3HAMDTc48ZGqqMN4vrROcWsoxwYBrRTJYBgD1bxxqeI61guFpMH1/Ko2RWsWt9Ck88bT0A4MmnrcdYIqKKnbrM0Bj3VMxAvlypMahFs2q3XhUDp8Uta7PeMt7G3eotY53EotDHy7Pz6pvOGMOMj+fejNF4BNlSBd+95wQAHj8QRjhhB1T9Nfeg2TJhyzKlkLJxguKluZdccZlm8oW75a+4i3K3bDhv6yiypQo0Ai7YVi+pCOegXGFtpR8KkrFgAdWiWfUNqHYTt+cuZMXdkylsHU/gAy85Fx/+tfNgaJry3LvM0Bh3r86QhXIFW62+GcJztwOqDXKFIzpBI/8iJnH7LYyBlwRieHjIi7kySpVqQ829GaIR1yNWj/BcuWIbYXGy2gHVBp671mJvmfA998HJcxc/i8+wmYdbF1Ct1ssyAGyN/OxNo54dHeXgeifGPWboiOpaw1m7gnzJPxWymxiu9gMHJeMOAG9+6m6cuXHEmn+gPPduMnTGXZZmCmYVUyMxRHXN9tzF4408dyJCvEFfbHdA1c8AemXLiAImP1nGD9FfRpAvmba3GDM0aORc3Pw092B57sILDaf9wCBq7u6MqoJZ3yqgZhs69zZFIY7dssElNe3Zyo27OwXSvS8AAs8sbcRIvL7ew03BbC7LdAvd1TjswGwOiYheV6Ft6MFn+yqCMTTGPeVh3IvlCuKGhvXpqF3IZAdUfXpmNJqjKrxNcRAKw9DYc689WBftrn/tncCiv8y5m3kGRrZYqbnAGLrmZMs07C0TbMye2G4njcO8EHZPXCj7rbkXPQKisufeKHYhb0N47OJzdUtNe7aO4swNaTxPaqAmI7/HugZ9ZYKSjtfXewDAiaW8vb58yT/PvZu4nZwDsyvYNZmqi2NEGlR0K9pnaIy78NwzsnG3PK/JdAxzVse9bKmCqK75yg2NZlGKW3BxEJYq3icz4N0V0isPuhVE298XXbAZMUNDvlyRDIqGqO40T2tUxCQ85WZl37YX2vVsmdrioX557jHd6qIpee5F0+W5N5FlYi7vv1Gb5GTUwP/90eW4vEGWiyzLdFo41KhS+4q//yn+a99RMMYby/m1H+gm7pTgg3M57J6sn3McNNCvCM7wGHePgR3C8+Keu0iFbDwcW9BoFqUzrMPS3K3/haGQMTwGZNuabJsG7fytY3jV47fh1/duQypmIFcya9LvDJ2Qa+q5O3nmfojHuy3LOJp7peb3XuMty/A1i7ufYoCAqryNdgec1HrunRv3jMtzX8qXkStVcHQhZ1/AehlQFcdStcpwZD6HHetSdc8z9OCD2xXBGBrjnop6yDKy5y4FVBt1hBQ0mqMqPHcRIPKbM6prBMZqPeROveFUzMDf/fqF2DASRyKiI1eqOA2+NH43Ijx3v1RIoHnBSCn0PHfv4GOv8DTu1s/5smn97y9fuDNuTPvi3dpnJrJlYobmKxcGYSQeqWsuJ+buLubLUtVt7wKq4lgrW0PR0x59nSK68ty7zdBUqDrZMo5RFoMRkjEdcyslMMZ8R+wJvAYNV6rMNqQlt+buYQCFUTSrDFGXt9yuLCOTjOrIlypOVaROiGiEuQABVb4vVQCNPwcz5K6QJbM9Q9jN/dA1QqnifM/CSAvPvWm2jMtzL9myW2sXLLGd9alow5z6oIzEDawUa7NlhLFfypWb9svpNrrUW8bvmPKqZG2Hmx+dxR2HFjCzUsQrL9mGCz3qCtYKw2PcLVlmxfJS+GAEPml+PBlBqVLFcsHkw7GbFGfEI7odVBN4lZmXK1UQeUsLumREo9Ds5wPd0ZmTUR3ZUqVGPolYxTCAT/uBgJ57uVKF1mBtnaC7PPd+yTJAfT92OeAINM8qsQOqwnNvswe+0L8b9XFvBS/NXQRYF/Olpo3zuo3suTeqA+DPq2+f3Cr5UgVv+sJtKFcYorqGb991HNe8/Sl2X/21xvDIMrHaCk3RuyQe0TBpNWOaXSkiGyBTgGvutQeaV7FKyZp45OVtGR7adqmLQcpEVEde0twjmlZz0fArYgKCyTJhtOPVaTDaDwD1Fabi56ydLeOvubs7S5ptpo8KCa3TTBnAyZaRB38LY79otZMGeifLyNlZZZ/CuG6kQt57bAnlCsNVb3g8fvKey6FrhLd+aZ/dJmStMTTGPWboiOhkeynyFB1RNHRisYB8qRLIc3dr7sIYAbVFTM2MqHzAypktnZKKGpbmXoWuETSNarbrN6wDaG7czUo4vdY1jUAkee590tyB+iKkkttzt+78Gr7eJcuU22yTLIx7N1rsjsQNlK1Ri4KMbNyt47h32TJO7Mm++Hnc2TQKqL7li7/E9+49Eei9RNuIS3ZOYPu6JD77hsfj2EIeL/7Xm/DThzsfCLTaGBrjDlidIQuO1wXwE+fMjSMAgAdPLiMXKFvGy7jXVyKWzMYTjwxbc6+/7e9GyX3C1tydUXXBjDus/Wouy4TVGsDQnBGEffXcXf3Yyy7Pvegx77Tm9e5UyDbvzGxZphvGXaQES9KMyJ5ZypdR6LEsI2dneTVWE0Q8BmlXqwzXPTiNz/70sbrn33dsCUuu9td3HVnEtomEfaf+hF3r8PXfeRISUR2/+fnb8O27jnVlTauFoTLuaWnUXlHyUKZGYtgwEsOvTiwHypbxCqjKKWRlq59L2Ue68PLcbVmmSwFVkS0j9kE2xn5FTEAQzZ15aqPdQNdIkmX6dwjGGjT+KpSr9rjCILKMky3TniwjvqtuGHc79iRljQmHZ6Vo2oa+VwFVWQb0K4zzGiIjnKi7jy7VtLquVhl+/TO34PM3Hah5/l1HFusCqJfsmMB3//BpSEV13H1kqeP1rCaGzrg7sozjuQO89eqvjnPj7tXfQ8ZLcxfGKBUzbA/Dz3P3ClzaskwXDFoyyoeTmFXHwxZGvlEcAPCOBXhR9pGcOsXQtL6nQgIemrsk0SzmuFcYJFvGaUfR3ve7PhXFG560E889d2NLr/MiHeOFbnJQVc6embYmgfXec6/6Xvwien1AVW4kJnvdKyUT+XLFnmoG8DkJxxbzuNiz66aOpNVYcC0xVMY9JU1jck+uP3fLKB6dXkG2GEyW4bNIaztMAry1sFORyBpKF3IqpMC5be+eLCN72F4evJtWsmXCkmU0cu5i+pot49bcJUM/bwXh4j53WfVFTO1dsDSN8JGX7bHlw04QLSoyUvMw2Ys/scQNYi/z3AF+B1v2ySbyapEt571/567j9vm4ZF14F3JOoFR45Y1SH5NR79qVYWaojLucBuZM0eGG/JzNozCrfChzkCImeRuAcwJzz53Zj0cbBNyccXKyVs9qHuuEVFSHWWXIl0xEbM2d/++XRx80W8YMUZYxJK2735q7VyokALtdRRDN3d1Qrp9r8mrDIc/dPbksjHuv8twdJ8evgter5a+48O7ZOor9s1nce4wbcNH1ciHrXMDuPrIIXaOGU6oSHunNw87wGXehuZdrh1aIZlsAkGgqy4hZlPV9R9Ixwz5Iy5XGsow4gGs890rj1MlWEWtYLpi2ERb/+xl3raaIqTFhpUIC/OJW6HP7AcBr2Ea95+53l1fXW6bK7+S68f22y4hd71GruYvP+eRSb427l+bu5TREPAZpC2P/0gu3QCPgugenAcAOpM5LnvtdRxbxuE0jPuMzdeSbTKgaNobKuKdiulNd6KrE2z2Zsm9FgwRUgdqhB+JikY4ZKFWqYIxZee7eJ7IIXMpBorLZPalDlKkv5cu2DBANYNyDe+7hyTI6keS59+8QDCLL+KZCugOqlWpf1wN4zzVYKZr2PFTHc+9VnrvjTDgxCe+iP3dAVdz1TqZjGE9GMWO1zF7Oi9RO/h0xxnDP0UVcsG284X4kIrqdKbRWGDLjLnvutcUaukY4exP33oM0DgNqpzGJEzhpnTzCEwlW5g/r5+5JHbJxj9qee62R9yJo47BySHnuYh8GQnPX3QFV5zOxNXe/bBkRUJViMP0MEAONs2W2W0NrTi0VoPnMhe02sjNhT/fyOGciHnnusqc/nozYQe7lvNDcy2CMYaXI57B6dZsUJKLeMxqGmaEy7iNWQJUx5hRrSJ6XkGYaTWESxD09d0eWAfiJ7CddiJNc9pC7KXWIu4tlyXO3s2V8vE3hWTZr+VsKM89dp76P2QOCyTJ+8kWkLhUyPCkrKDFDR9SoncaUKZSxeTwOIl7BHY80ngvbbWRnwili8q7odjcOEyMkozphIhm1A6hibZUqw3LBdIbg+Iyv9EpvHnaGyrinYgYY450fvcqsz93MsxGadd7zmqMqTmDR0a5crdrtB7wQB3XZJcs0knFaRVTZLhfKtsEOElAN3PI3TM1dMiz91tzdQXOxa0GMe12Fqtk4e6qXjLj6y2SKJkbjEYxZ8wB6pbcDjjMha+7ek8vqh3WYUsXvRDKCBctzl4uXFrIlTC9z4z7lM75SZJetJUI5e4koTkS3EdHdRHQ/EX0ojPdxI09jEhp5XPJin37WFM7ZPIozNvo3ErI991K95i7ewxSee8OAan2xUDdlGSEtFcr1ee6xALJMkCKmMGUZQb+LmIouz10YwCCyjPjc5fYD/dbcgdppTEK2GIkbGLfW1qscd0DOGnO6qnpJV16ee60sE7U1dtm4z+dKmFkRnruPcVeee9coAngWY+xCABcBeD4RPSmk97Kxc3yLJgpikIZ0cu5cn8L333mZ7+2bvJ0VV294QJZleBVjI0Nqe+5VWdPtfkAVgOS5Nw+oBtfcQwyoagPiuesaSq6eQeNu4+4jcRER9/7tgOqAeO7SHNVcqQLG+HE7Zo13jPUomAp4a+6N8tyr7vkHUuok99wtWUYy7ou5kl2Y5SvLKM+9OzDOivVrxPoX+pgVoaWvFEyniMnn5GyEV8aB8M5EdWu5wmWZRt6tqFKs1GXLdCmgGnHiBuLuwdHeGxsY52TzTwsrV6oh5rnLnvvgFDEVzao9yjCILAPwuyTRjsKshveZtUI6Zti9ZcT/I/GIfeFq55xoF91OCXayZZrNPxDI7QomUlEUylUUyhUs5csYtRyw+WwZM5kiooaG0UTjWJpXYeKwE9qRSEQ6Ed0FYBrA/zHGbg3rvQQTKX7wLuRKvMBI1+y87lbwyjgomrz7YiIqSs75bWaz9gPubJmuBVQlz12klgVJhXRkGf/ti57YYVCjuQ9YQDVu6IhHNNtLbJYyGDE0e+BHyQxPymqFdCxiFzGJ1gPpuIHxpCXLdDjtqRVqPHefCl6v7DJZlhFD5RdyJSwXTOya5KP6FrIlTGeKmErHfIPECY/CxGEntCORMVZhjF0EYBuAS4loj/w4Eb2NiPYR0b6Zme6041xv9cOeWyk1nVzvh5fnXjT5YG3Dzl/399wNvV7+6KbUkZJGlYn3Evvmmy2jB/Pcec52+LJMN/rstEtU11Fl8vAVhohBSEUN28ts5rnL6ZRyn59+Ik9jsj33mKO59yrHHXCOSbPK7ICpl3H3TEBwyTIAr0pdypexZSwBQyMs5EqYyRSxYdS/F37CWvNakmZC/5YZY4sAbgDwfNffr2KM7WWM7Z2a8p4K3yqTVkBlLltEodz+hPeYwQdfyBkHJbOKWESzjblIhWyW515xGfdu3bbLt9Z2bxmjeZ570MZhpQrrSvdK731wttvvbBnAyYQS2U+yZ9vMQZC9f7n9cj+RNXfhoKTjjubey4CqnBJs91byuKDbskyl3nOPWAFVgGvsy/kyxpMRTKR4euR0puAbTAUcOTW3hoKqYWXLTBHRuPVzAsCzATwYxnvJpKI6YoaG2ZUSimb7njsR1WQcAPx2LmZotmcmNPdGqY3CgLk9kW5JHZpG9klq95bRmssyGvlny4iWyWY1vK6Q8rndb80dkLJdrPRPEbuJR5q3ipB1+zDjFK0gNHfGmG3k5WyZXg3qAFx57lUfWcajLkQ27o4swz330USEB1mzZS7LNDHu8Wh9BtywE9aRuBnA9UR0D4Bfgmvu14b0XjZEhMl0DLMrRWvQQvvLc8+iLFrtfcXJK9KqGg/rqJc/up2BIjJm3N0g/S5qhkdbBMHRhRwu/NCP8Iv9cyib4ckyYh+I0FZMpFu4jbtIbRWee5B8cC7LSL2GBsG4x3lzu6JZtWWZdMzR3HsZUJUD+I7M4uG5C2fIJ1sG4O0TiiZPWZ1IRnFyuYDFXLlpBpxX7cqwE8qAbMbYPQAuDmPbzZhMRzG3UoKhUUfFGnITMsCSZaxRfgDsDnPNhnW4PfduenaJqA5kHVkmSOMw3cNDEuyfycKsMm7cQ5RlhDfXbwlDpLGKIFvJ5KmtIp4RxAhGJM+d1zEMgCwjTWMSgdWRWEQKqPbuAiTnuZs+xt2OUTWRZQ7P8aEdo3EDE8kobnp0FoB/jjvg3S+qGYVyBb/+mVvw+iftwGuesCPw6waF/rsZXWa98NwtGaVd3MZdyDziwBQNypqN2XPfZnbTsxPygV2ZKg3raITtSXmkhM1axSD3H19GuVr1bPDUDcQ+9FNvB+o1dyHLJCKOLNOMmJQrX66wgShiGolbAzuKpn33mYrpGEtwA9lbz905D8wqrwD2+t4bVXQD3LhHDQ2pqI6DczkA4LJMKmqfo00DqtHWA6pfu+0w7j22hAdOZAK/ZpDo/5HYZYTnXihXOvPcPTT3qGTcm3nuzsFa64l007MT8oFdxCQCqm0WMYmue/ceXQJj3Rnk7YXmihH0i3rN3cqWibUgy9QEVAcjW8bO9iqYWCmWkYzqdvMtoLftB2pnqLKG33mjim7+GN/GeDKKQ8JzT0Swzkp9BoCptL8sI9acC2jc86UKPnk9n91aNFenlDN0xn19Ooa5bBH5To27h+YusmiAAJ6715i9Lpf0O5q7OxXSx7iLgKpHorsw7qItbHjZMpbn3mdDWNeP3awiquv25xok8Bg1nCET3Wwv0QlpaRpTpmDaxt5uP9CnPHc/58bwcIZKkiwD8DqWowt5ALA1d0Ezz11kywTV3L98y0HMrhQR0WnV5sb3/0jsMutTUZQrDDOZYkeyzIhntoxe57k3kkC88ty7PQCjPqBa+78Xusd+CUSPDkHYee791tzdskyxUkXEINsQ+I3Ys7ch5bmXutivvxPkaUyZomkb+4lkFFdeuh2XnTnZs32p7QrZOEjvVaHq1ugnklH78dG4Y9yJ+HnvRyuaO2MM//azA7jszElsn0jWFLqtJobOuIuUqOlMsSPPPRWtD6hGpVTIbKmZ516fldLt23YxjcnddqDdYR0zmSJ2rXd6YvttpxP0QdHcpa6OjDE7JpJsIVumNqBa7bvUBHDDB1iyTMG0A6yaRvjrV1zgO9Si28hZY+VqgIpul4ypSRq97KmPJSJYZxn09alo0zumhEczwEYs5MqYXSniGWdvqKtiXk30/0jsMqJKFeisEi8dN5ArVWwj6A6o5orNNXcidypkd2WZVAPPPVBXSI+A6kymiHM2j9qZB2EFBx3PfXA090qVgTFYxj14QLWmQnUAhnUAjiyzlC9jRfLc+0G9597ana5stEU6JACMJpzUzqkmaZAAEBcB1QCeu9D1d65L1vUfWk0Mn3FPO1d3vxFpzXC3ICiWa2WZZp47wL3kcoiyjBNQtYxlIM/dClx55LnPrBQxmY7h3C18qElowzoGxXOXBlzb+q7heO5BKjnlnvDlLn+/7TKeiGDreAI/vP+k5blHmr8oJGqyZXwufk6Faq0sI8ueIh0yHtEQM3Tbc2+WBgnwi7BGwTz3w/M8I2fH+mTdtK7VRP+PxC4zmXa+6E5am4q2v6JiU7QaMOry3BsbKF0jV0A1nCImO789yIBs6+3dmnvJrGIxV8bUSAznWcY9PFlG5OUPSEC1UrU7O0ZalGVihmYHAcsD0vJX0whvesou3HpgHgdms4PhuTebXObRIttd9Cc8dyE7TbRg3IkocE/3Q1a65Q7huSvjPhhMJCP2NJ1O8nlTdZ67d567X9A2ojknfqXKUO1yeqGQD0QLBHESj/iczERUd9EBeD8egMcszt08BiBMWQbW9vutufPjoyR57lFdCqi2mgo5IC1/AeA1l25HKqqjVKnad6H9QO726Nd7xytG5W7nIIy5GKgyYlXdig6RzUhEjUDG/fB8DhtHY4hH9LqBLkGpVlnf2wsPxpHYRQxdw7ouDCVIS1V+QH1vmWZ57gDPTBFG1Glf2sWAaqTWcz974wi+/JZL8dTT/bMhdI3qPHeRBjmVjuHS3etw5oY0zmoysapdxIms91lzF5p6vlxxjLskywQ5fiLWPFgekGWhFX61ymg8glc/YTsA/4t92Lh7yzTtolqpjVF5yTKi5z4R4Yfvejre+rTdgfYlEdVQCCLLzOWwcx2/YLTruT/vn27EVTfub/l13WTojDvg6O6deO6yLMMYv6Xkee7BKlQBbsRMl3HvaoVqrFZzJyI8/ayppv1aDI1QZQ2M+0gMUyMx/N8fXY4zN450bV9lBiUVMmldwHNFs6Ya0pZlAhw/UV1Hpcrsi8OgeO4A8Oan7EZEJ2wcbR5wDAs7O8uaf9BItop4BFQbyTLCcweAjaPxwFlxgWWZ+Sx2WFljUUNvOaC6lCvjkekVPDaz0vzJIdK/S3qI8IyZlQ6LmJwS7nKFZ1LEIsF7ywC1cyH9mia1S8JuP9DaNnWN6hqHycY9bAYlFTJpHR/ZUqWmj0mrsgwA5KyL/SAEVAU71idx3Xue0Vfj7vbcG138nL7v7opuOVvG8tzbvBNJRPSmFaqFcgWnlovYuc4y7m0EVA9Y2TYZqQiyHwylcRd93TspYhJe8UrBtMuPozpvAWtoZB8kvn1cdEf+8JtC0y5JW5ZpbZtcc689YIVxl7ONwmJQPHdNI6SiOh+obkqyjN1+IEAqpCGyp5oH2PvB9nXJ5k8KETnGUzZ9NHe7lXZto71IjSxT77m3QjyA5y5nygC12VBBOTjLjbtcJ9MPBsfN6CKiWq0Tz12kj2WKpn3lFhpsRNcc494kFVJ4yO5S6m7grlANiuGlua8UMZaIdJQ+2sr7A/3PlgG4NJMrmTWy2WQqhpihYfNYounrRTBbpNj1+4I1iIgYT9lPc28QUJUvlumYgS1jcZyxob1YUCKqN20/IGfKANxBLLXYW2b/rPLcQ2PS8j674bnLXp3YnqGTfVX289zlrBS/4cDtIvpprGtSeu23X4KZAAMPuoUYGNLvIiZAdP+s1MhmY8kIbvmzK+xeLH44nrtl3AdIlhkUDOtO0fTR3L3mH7h7MRERfvonz2z7ApqM6ji2EMxz37meB1RjbRQxDYrnPqTGnRupTjx3Q9eQiOhYcd2yA9wAiHikn+ce0TVbQwxDljljwwiue8/l2B0wFUxgaJq3cU/3xrgPShETwE/4nHR3Jr7PoBdM27gXB1OWGQRsz91nUlXEY3JZyaMupJM730CyzFwWIzHDDt4KWYYx1nQql+CgrbmX297XbjCUbobwaJOxziSGdJyPK7NlGaO2CyP/2d9zD1OWAYDTptKBDzp5v+qM+0rvPHfRvGwQJIyU1bffCai2tk8iVz7bpB3FWsawjjez2txzdwdUu5qAEAkgy8znsGN90j6nopYj12zmsIAxhgPCc++zLDOUR+JlZ07hE6+6ABd12CBJDOwQAVVblpHkBD9jYOhyKiRr+vxe4ZXnPttDWWaQPPdUlGdQtHvxtbNllCzTEHEelH16y3gN6+h2i+wg2TKH53LY6dE8L2jGzHy2hEzBxGjcQFbqTdUPhvJIjOgaXr13e8fzOdMxA1mPW3b7f91/gDIPXNbKMoPg2bk992zRRLZU6b3mPgAXupT1HQvPvdU4jZMaa6VCDsAFa9AwNEKlEqy3jHtyWXe7qHJZplHl6KG5LA7OZXHmBqe+o1XjLiSZ87fxKu9+6u5Dqbl3CzGwQ6QJihQs4Xk2670SdrZMu8gXHaC2OrVX78//7/9nkYoayJacC3i7nruQZZTnXo+suTdKKBBdVOUKVXdXyE6JR3QwxqvNveJx//KTRxHRNbzuic68VHfPf5lCuYK3feV2FEoVXLRjHG988k4cmOUB2T1bx3Dzo3NYKZptp252ijoSfUjHDWSKJu46soioruHsTfyKLg64Zl6FnOc+aLKM7CF9774TAGB3gwz9/cVA7wHwcrnnLhUxtei5xwY8z30QsLNlmgwQj2haTRdVd1fIThGpw166+4HZLK658yhe/6Sd2CAVfck9/938/Y8ewo0PzyBfruALNx/A2758Ox6dXoGuEc7dzM+lfuruynP3gWvuZdx5eBHnbhm1A6oit7mZ565rGswqP5AGSZYxJOOeL1XwuZ8dwNPPmsI5m3tk3GmANPeY7vLc2wuo2rLMAHy/g0ZNtozP3ZouVXQDIcgy0jSmcddj//KTRxA1NPzu5afX/F2MWnTPUb3lsTn8+00H8Pon7cBHX3Y+fnDfCfzuf9yBg3NZbJtI2H1wVor9y5hRR6IP6ZiBpVwZ9xxbxMU7xu2/O567/8cXkSpBywNk3OWA6jd+eRhz2RLe8cwzevb+g1TElIoZYAxYtjysmN5ahlWdLDMAF6xBQ6TeNjPWhk6uCtXuyjJi/oE7qMoYw3fvPYFXXrKtLu4kPHe5SvWhkxm86xt3Ytf6FP78hecAAJ533iY8+5yNyJUq2LU+ZfemWu6j5x6KpSGi7UR0PRE9QET3E9E7w3ifsEnHDSwXTBTKVVy0fdz+e5BxdkBtKuQgyjIls4qrbtyPJ+yawKW71/X0/eX/+4mYZrWQLQEAIkZr++QOqCrNvR7hTPCAqn9dSG1AtbuyTLzBqL2lfBkls+pZL+Ieov6zR2bwqk//HIwBn379JXYfIiLCh3/tPKRjBs7ZPGqPNhxGWcYE8B7G2B1ENALgdiL6P8bYr0J6v1CQ+2BfsmPC/ll4380OvIhe3xVykDz3h05mcHypgPdZ3kevMPQBCqha3/FCjt8+dxpQ7aYxGhYMncstZtW/JbI70B+WLOPW3GdXGjfNc2fLvPsbd2PTWBxfesul2DJe255iy3gC173ncowmIljIcWehn9kyoRyJjLETjLE7rJ8zAB4AsDWM9woTYdwn01Fsm3C+yKDZMrKG6PRz7//JL26TRQXdxh6lQAqc9gMD4Llb3/FirgSi1vepPs+9/2saNHSNbFnD7+IZ0bW6PPcwZBl3lepMhhviSY9sMTlbhjGGuWwRz9+zqc6wCzZYLYjTA+C5h25piGgXgIsB3Br2e3Ub8QVdtH28Jp/dPZC6EXKDrkGUZTKWV5Hq8aQeu4hpAD6LVFR47iVEmtQteCE0epUt0xhDI9tb9jPWsjMkZih0u4gJqJdlhOfuadylbBnehsC5SPiRihog6m8LglCNOxGlAfw3gHcxxpZdj72NiPYR0b6ZmZkwd6NtxNi6iyVJBgguy/Db0fCGdbSLyJYRXkWvJ/UMSstfwGkQt5gvt/XduPu5D4LUNGjoGiFfbp6NVNMiuyoa7XW3iAmo99wd417fT0iWZcTdWTJAzypNI6Sjhu1ACV571S34yi0HW973dgjtSCSiCLhh/0/G2NXuxxljVzHG9jLG9k5NTYW1Gx2xeYznuz7RFWwUB2iznGjdYxLTIMgymnVHIbzNXs/YdAKq/f8sHFmm3NZAcHEs2J57SEPFVzOGpqFYbt4SOaJptjMk/u+qLOPjuesa2cNAZERAtWhW7QE9IojajHTcqJFlCuUKfrF/HncdWWpr/1sllLOa+L3t5wA8wBj7hzDeoxdcsG0cN7z3GXUDeI3AAVU5FXJwZBlRVCL6Tfdalhksz93R3Ntpv2DoGjRS7Qf80APKMtxz5+dLGBXdcp67zGymhHWpqGe7EtlzFxeFILIMwO+I5Z7uRxfyAIClfKn1nW+DsNyMpwJ4A4BnEdFd1r8XhvReoeI1Wd1JhfQ/kWtTIa2DdQC8VZEts1I0EdGpo7737eAMyO6/IRSpkFXWviGJGppqP+CDoREKZnNZ0tCcPPd2u3T64SfLeOntgGPcixVJlglo3EXjQcHRBd6aYCnfGx0+FJeNMXYTgP6fuSHRTiqkWWHQNeq4mVk3MDRC1dLc0zGj5SBipwijPgh3MfItdjuyDMCPA1GsorJl6qn13P27qFaqtbJMNz33mKGBCCh4yDJeejvgBMxlzT2o556OR2oMufDcF3O9Me7KzWgD4Xk2O/B0KW+32zm7nSBiAStF0w4a9/b9B0dzjxqafZFuN9gdlUYTDsKd2aBh6GR7y76yjEa2xx5GXQgRIRnRsVJ0G/dSw6Z5NbJMuTXNfSRuYKVQb9x75bmrI7ENRBVjoK6QVacr5KCc+LrGW6uuFE07FbC37z84mjvgZMy0LcvUDG8ZjDUNErrmTC7zi0nId7qlEGQZwApySv1eGGPcc28Qb/HMlgmqucfcmjuXZRaVcR9cIgE9d8M6qCtW6fWgZFLYnnvB7HkaJDBYwzoAxxNr15DIF/lBWdMgIV/Eg+a5hyHLAMBIPFJjcMUYzUayjK4RDI1QqlQcWSbg+M56zZ177iWz2nQiVDcYDGuzyhAHXLNApDw6bJBkGTvPvWj2PA0SGDzPXXwGbWvu9mxd6nn8YjUgX/D8zoGI7hVQ7bZxr/WmZ1caV6cKooaGYtnJlgkcUI0byEnTmI4u5O1jvhe6uzLubSCMdpAKVYB77qUm7U57iS4b93jvBwkMUuMwwJm120m2DKAKmBph1Bh3P83dCag6dSHdPUa45+4YVr/qVEHU0FCqyZYJqrnzc2ulaKJQrmB2pYgzNqQB9EZ3V0djG7TSFRLgOe5mhbXtGXabWs+9syHi7b4/MDiZJbbn3rbmHmx4y1pFvoj73a0ZOqHsqgvpdkX3SLy2anQ2E8C465qV526CCIhHgu2T6AyZKZRtSWbPVj5+bzEXfq77YFibVUYrvWUABOpl3UtEFo9Ihew1m8bi2LN1tGfDQZohgsrtXnyDHg9rlaCae0TX6utCum3cY25ZxjLuI96aO2B57lZANRHRA0tvIhNtpWji2CI37udZ08564bmrSUxtYFeoNtXc+eNmpdp0Ck0v0TVCyayiyoB0rPeyzEg8gmv/4LKev28juibLDMjFe9CQDbqfg+PdRbXbsoxRI8vMrPBuoOs8Wg8IoobGi5jKlcDBVPFeAO8MKTJlbM9dyTKDiT1mr9kMVU0EVBnKA5QtY2gEMRMh1QdZZtAQdy/tGveY0tx9Caq5RzxmDndflomgUK7aF4/ZlSLWJaO+dxSOLFMJXMAEOMdVpmDi6EIeEZ1w1gY+h3lZGffBRJzEQT13W5YZkACiXDzUj1TIQSPZoSwjXjcoMZVBI2i2jOHRaC+MbBnA6bM+m2ncekAQi+iWLGMGzpSR3ytT5MZ9y3gCowkDukYqW2ZQaTVbplyp8jz3AdFk5Vvdfsgyg4YIKrfbXlZ8r4OS2jlo1GjuPnc3fIZquLKM7E0DVusBH70dAGK6hqLJ89wTLRT92dkyliyzbSIBIsJo3MBiD5qHDYa1WWVEA2vutamQgyLLaFJAqB/tBwYNp4ips2wZ1TTMG/lO0be3jMfM4TBkGQBYtnT32ZVSU89dBFTzpUqgXu4CcSG5+8giHjm1gu0TSQDAeDKKpXz4E5rU0dgGQVv+GlIq5CDJMrIn1Y9UyEGjm0VMinoMPZjmLjcOC0uWGY17eO5BjLuV596KLJOM6tAI+Ma+I4hHNLzpqbv4PiQiPUmFVG5bG7QyrAOQ2g8MiGena0qWkelWtsygfL+DRtA894jm5LmbIRYxATw9MVcykStVmht3K6BarrCWAqpEhKmRGFIxA19686XYvs7y3JVxH1yExx4LMGYPAMqi/cCAyDI1mruSZeyBHZ167kpz96YmW8bnMzZ0pxdTKaTeMum4U1g0aw/G9tfcbVmm3JrnDgDf+t2nYF0qWjMQZzwZwcG5bIt73jrqzG6DS3ZO4PefeTou2Tnh+zx3+4FBkWVqPPc+dIUcNFKdNg5TRUy+1GTL+ARU9ZoEhHC6Qo5IssyMXcDUJFtGKmIK2npAILx1mbFERBUxDSrxiI4/ft7jmj5PZAaYlcGSZWRPSuW5O59Bp+0HVBGTN7UVqv6NwwBRFxJuKmSmULarUxv1chdEDQ1Fq5NjK7JMI8Yt416tslCH9wyGtRlSRhP8QFrIlXiF6oCc/CJbJhHRVYYHJM+9Y1lGfZZe1GTL+PWWETGqiiPLdFvqihk6ooaGTMEM1DQMsMYolkyUK6ylbJlGjCYiYAw1PW7CQB2NISJuyY7M56zeMoPxcYuLjNLbOdsmErjy0u146umTbb3eKWIajIv3oGE3itP8WyJHpBiVafViCqOF8kiMNw8Tmvv6AJp7oczvJLriuVutDpZCLmRSZ3eIjMYjGE9GcHg+h/IAdYUUnlQ/moYNIoau4a9fcUHbr1eeuz/OzNygvZhYqM6Q6OmuUxHjyUjT95ETJ1rV3L0YS/CMnbB1d3V2h8yOdUnLuFcHJptC7Icy7t0hojR3X8Tn0uzzkQOq5RBjVKKnu1mpNpVkgNosqlazZbwYT3LjHnaVqnI1Qmb7uiSOzOdgVgcnoKor495VROOwQZmRO2gE9dwjUkV3mC2yhefOC5j8JRmg1rh3Q5YRnnvY/WVCORqJ6PNENE1E94Wx/dXEjnVJHLEa9Q+MLGPpmCll3LuCnQqpNHdPZM3d/3mWLGOPpQznfEnHDKwUzECtBwAehBV0xXPvkSwTlrX5IoDnh7TtVcWOdUm7pHpQZBnd8ohUR8juoDR3f/SAA+XtgGqF9USWCdIREui+LDO6mo07Y+xGAPNhbHu1sUMqYhgUWUZp7t1F9Zbxx7BlmWaae21ANawYxkjcwFy2hEzRxFSTAiagtv4hEen8nIlHdMQjGhaySnNf1dQa98E4+W3NXXnuXcEJqKrTyQtxvDX7fAy7iInLMt3uCCkYjRsomjy1sR+aOwCcu3kU1z80DcZYV7bnRd+ORiJ6GxHtI6J9MzMz/dqN0Nk8Fg8cUOoVhkqF7CqqcZg/QTX3iK25hyvLyE5NP2QZALjy0h14bCaLWw+EJ3D07WhkjF3FGNvLGNs7NTXVr90IHUPXsGU8DmBwTn6xG8q4dwc7oDogMZVBI3ieu5wKGaYs43RCbdW4d8tzf/EFWzASN/DVWw93ZXteDIa1GXKENDMoedCqiKm72DNUB+TiPWgYAesA7JnDPShiEjRrGgY43y+ArrQfAPhF4pWXbMMP7juJOasNQrcJKxXyawBuAXA2ER0loreG8T6rBWHcw9IQW0Uc3EEObEVzVEDVHzug2iSbyK5QrfKxlGGdL7Lnvj7VXHMXxj2qa129gL/uiTtQqlTxrduPdm2bMqG4boyxK8PY7mpF9JgZFFnm9Kk0rn77U3DRtvF+78pQoGao+mPLMk3qANyee1gBf+HcjMQNxAN44lGdP6dbkozgzI0j+LWLttipkd1G3Zf3gEGTZQDgkh3+vegVwVmfjmLvzgmcry6WntjtB5p47hHdCaiWwsxzt+TIZq1+BeLOrFvBVJl/fu3FXd+mQBn3HnDJjgmcPpXC6VPpfu+KIgRiho5v/d5T+r0bA0vQPHc5oGqG2n6Ae8pBgqmAY9y77bmHjTLuPWDLeAI/ec8z+r0bCkVfEAH8Zp57rwOqkyPN9XYgXM89TAZDBFYoFEOLnefe1HN3BsqHmeeejOrQNQruuVv7kexCdWovWV17q1AoVh0ioNos+0XUCdgD5UOSZYgIf/mic/CE3esCPT8WUbKMQqFQ1NGq5x62LAMAb3rq7sDPtT33VWbclSyjUChCJWhvmV4N62gVYdxXm+c+GJ+eQqEYWkQgtVl7BvewjkFJHdY0QkQn5bkrFAqFjK4H89zFReD6h6ZRNKtIdKnUvxuctXEEZ20c6fdutITS3BUKRagYQRuHWc/7xf55PH7nBK68dEfo+xaU7/7hZf3ehZZRxl2hUISKHrCISdMI73jmGdg8HseVT9gBTbVz6Ahl3BUKRagYGmH3ZAq7J1NNn/ve553dgz1aGyjjrlAoQoWIcP17n9Hv3VhzqICqQqFQDCHKuCsUCsUQooy7QqFQDCHKuCsUCsUQooy7QqFQDCHKuCsUCsUQooy7QqFQDCHKuCsUCsUQQoyxfu8DiGgGwKE2Xz4JYLaLu7OaWGtrX2vrFah1rw3aWe9OxtiU1wMDYdw7gYj2Mcb29ns/+sFaW/taW69ArXtt0O31KllGoVAohhBl3BUKhWIIGQbjflW/d6CPrLW1r7X1CtS61wZdXe+q19wVCoVCUc8weO4KhUKhcKGMu0KhUAwhyrgrFIq+QERqjl6IrArjTkTPICLPRP1hhojeQETn93s/egURvYeInmv9vGZOfCLaRURx6+dVcU52iRHxw1r4voloTPo59PUO9IFERM8nohsBvA5Asd/70yuI6EIiuhvAKzHg31E3IKLnEtEPAfwpgDcCAFsDkX4iejYR3QrgnwFcAwCMsWp/9yp8iOg5RHQTgL8joj8Bhvv7JqJnEdFdAD5NRH8O9Ga9AzdD1bqiEYDXAPgsgLcyxv6rv3vVc14I4JOMsaFNBbO+5wiAvwJwOYC/BhAF8AQiigAwh/yE3w7gwwD+H2PsaiK6iYhewRi7ut/7FiZEtA3ABwH8DYAbAHydiNYzxv6UiGjYvnMiSgP4cwAfAXAbgC8RUZIx9v6w33ugvELx5Vrey3EAXwbwqPXYrxPRNuvEH6rbOI+1PA7ASeuxd1t3MGP1r1ydSN9zCcC3GWOXMca+B2ABwGsZY+VhO8mBuu/5NAB3A/ix9fsJAI+I43uYcK37cQDuZYz9L2MsA+CTAN5NRGcyxtiQndcagDSAIwDuZIwdAfBbAF5DRI8L+/0HxrgT0TsAXE1Ef0REkwBuAnAP+K3MgwBeDeBfAXxKvKQ/e9pdpHW/i4i2Wn8+DmADEV0D4CwAbwLwxWGIO0jrfTcRbWaM/dL6e4Qx9lMA+4noBf3dy+7jWvc4gAcATAD4JBEdADAO4P0Avtq3nQwB17pHATwM4GlE9GTrKRsA3A++9lUPEb2diF4J2BIbAzAFbuTBGNsPLsF92Hp+eHaMMdb3fwBeDuCXAJ4J4AvgV/OzAWwBv12/2HreOgAzAB7f730Ocd07ALwWwHUA/tZ6ngbgJwBebv1O/d73Lq33/wNwoViT9f3+O4Dn9ntfQ173pwCcYT32DgDvt36OANgP4PLV/D37rPvTADYCeCuALwK4Gfxithv8LmZXv/e5g7WOAPgM+B33CgBDeuwTAD4v/a6Bd8E9L8x9GhTP/YkAPs0Yux5cjzsI4I8ZY8cBfIgxdicAMMbmAfwPrKvgEOBe9yEAf8YY+zr4bXqEiDYy7gHcAmAnsKqDT+71HgDwToCvyfp+E+DGYJgyR9zr3g/gL6zHRsE9VzDGygCuBTd2q/l7Fnh93x9ijH0OwG8DeDdj7DcAHAbXo5f7taOdwrjE9FPG2Cbw7/CT0sMfBnAREb2QiGLW+Xwt+MU8NHp68rhvQaTf9wP4DQBgjB0C8L8ARojopYyxgvT8vwRwHoAHe7PH3aGFdX8HwBQRPQ3A3wEoA/gza92vAvDTnu10B7Sw3u8CSBHRS6Wn/weAS4kozlZZ5kgL674WQJqInmI99sdWXOUvAFwBfiFfNbR4fE8Q0csZj6vcZj3vIwBSADI92uWO8Fnvd6z/3wXgSiI6EwAYYyvg3vtrAfw5EX0YwGXgDlxo9Nozqnk/yTP5FoAcEf2a9fsJ8Ej6uQBARJcR0fXg+vMrGWOnerO7XaOVdV8H4CnW3cpfg1/IkgCeLe5gVgEtf8/SCZIA8HUAlR7sZ7dpdd1Pse7S/gPAlQBOB5ekHurN7naNVtd9NgAQ0ZlE9G0Ae8C9+HJvdrdjPNfLGMsSkcYYOwkuvf279JyvA/g4uPw4BeAFYduxnqRCEtGlAP4QwHEi+gqA+xljVSLSGWMV8CyJawD8HhF9hzG2ZKUQJaxNHATw+4yxX/Vif7tFm+tOgXsxQob6TL/2v1U6+J5jkkH4tvXcVUOb606CSzJgjH2KiD7HGFtVtRwdfN9xaxMnwc/ro31ZQIv4rFcDamsUGGPvI6LDVuD4APjEpFuJ6AO9kttC9dyJSCOiD4Bfwb4PfjH5fQAXAoB0EicA/BD8yn4VEW0BcDGAkvW8I6vJsHdr3auFLqzXFNtaTYa9C+u2JcfVZNi7sO6y9bzMajDsAdZbtYx8GoCcsvz/wIPGN8K6oPU0jhJmtNZax5sBXGL9vB78w9krPf5B8APgYvBsiY+C37p9CoAe9v6pdav1qnWrdXdhvR8A8AMAl1m/vwBcUv07AJG+7HMIH8LlAJ4o/R4Hv0OIWb9/E8BLrJ83gKdCne7aRrLfX6Zat1qvWvfaXXen6wWPF27v6xq6+GGMALgawDyAzwNYZ/2dpOdEAPwcwFker9f6/YWqdav1qnWv7XV3Yb0Dc1fSTc29BJ7p8XrwCstXAXUa0+MAnGKMPUxEI1aAQpSjr6q0N4m1tu61tl6BWvfaWHen6x2YmFFHxp2I3khElxPROOMBoX8H75XxMIC9RHSW9TyRlbMePDXqTeBXvvOtD6R3QYYusNbWvdbWK1DrXhvrHtb1tpwKSUQEYBO4xlQF8BiAtxHROxljs9ZzbgHPSX81gI8yxkQ2xPPA83mLAF7HGLun8yX0hrW27rW2XoFa99pY91pYb0ueu5W/ysB1qWOMsSsAvB1cn/qseB5j7BEAtwPYQkRnEM/pBXjl6ZWMsbcM6gfixVpb91pbr0Cte22se62sN5Dnbt2OfBiATkTfAy++qAAAY8wkIpHYfznjnf3AGLuGiM4BTw9KE9EzGWM/D2UVIbHW1r3W1itQ614b615r623quRPR5eBXrwnw3uofAS9CeCZZgQTrKvhh8NxW8bpfB2+OdD2ACxhjD3R758Nkra17ra1XoNa9Nta91tYLoHkqJHiDmzdIv38KwO+B9xi/3fqbBq5ffRPAbul1lzXb/qD+W2vrXmvrVeteW+tea+tlLFgq5O0AvklEuvX7zQB2MMa+CH578weMpzttA1BhjB0AAMbYzxhjPwuw/UFlra17ra1XoNbNGfZ1r7X1NjfujLEcY6zInPzN54APzAB4Se45RHQtgK8BuCOc3ew9a23da229ArXutbHutbZeoIVUSOuKx8AnqYi+xRnw4a97ABxgjB3r+h72mbW27rW2XoFa99pY91pabyupkFXwsttZABdYV7m/BFBljN00LB+IB2tt3WttvQK17rWx7jWzXrKCBsGeTPQk8IqsnwP4AuPjsoaetbbutbZegVr32lj3Wllvq8Z9G4A3APgHtor6T3fKWlv3WluvQK17bax7ray3JeOuUCgUitXBsEyXVygUCoWEMu4KhUIxhCjjrlAoFEOIMu4KhUIxhCjjrliTENE4Eb3d+nkLEX2r3/ukUHQTlS2jWJMQ0S4A1zLG9vR7XxSKMGh5EpNCMST8DYDTieguAI8AOIcxtof46LSXAdDBy9H/HkAUPC+6COCFjLF5IjodwCcBTAHIAfhtxtiDvV6EQtEIJcso1irvA/AYY+wiAH/semwPgN8AcCmAjwHIMcYuBnALgDdaz7kKwB8wxh4P4L3gLWQVioFBee4KRT3XM8YyADJEtAQ+Vg0A7gXvR5IG8BQA/0VE4jWx3u+mQtEYZdwVinrkkvSq9HsV/JzRACxaXr9CMZAoWUaxVsmAD0huGcbYMoAD1gg2EOfCbu6cQtEpyrgr1iSMsTkANxPRfQD+to1NvA7AW4nobgD3A/i1bu6fQtEpKhVSoVAohhDluSsUCsUQooy7QqFQDCHKuCsUCsUQooy7QqFQDCHKuCsUCsUQooy7QqFQDCHKuCsUCsUQooy7QqFQDCH/P3N2M2jZ3zcNAAAAAElFTkSuQmCC\n",
      "text/plain": [
       "<Figure size 432x288 with 1 Axes>"
      ]
     },
     "metadata": {
      "needs_background": "light"
     },
     "output_type": "display_data"
    }
   ],
   "source": [
    "pe_pt[2,2,:].plot()"
   ]
  },
  {
   "cell_type": "code",
   "execution_count": 8,
   "id": "5aed33f0-1235-4e85-8a6b-a132274720c3",
   "metadata": {},
   "outputs": [
    {
     "data": {
      "text/plain": [
       "(array([3398., 2553., 4984., 4610., 6044., 8399., 9583., 6771., 3294.,\n",
       "        2384.]),\n",
       " array([0.41146992, 1.06456708, 1.71766423, 2.37076139, 3.02385854,\n",
       "        3.6769557 , 4.33005285, 4.98315001, 5.63624717, 6.28934432,\n",
       "        6.94244148]),\n",
       " <BarContainer object of 10 artists>)"
      ]
     },
     "execution_count": 8,
     "metadata": {},
     "output_type": "execute_result"
    },
    {
     "data": {
      "image/png": "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\n",
      "text/plain": [
       "<Figure size 432x288 with 1 Axes>"
      ]
     },
     "metadata": {
      "needs_background": "light"
     },
     "output_type": "display_data"
    }
   ],
   "source": [
    "pe_pt.plot()"
   ]
  },
  {
   "cell_type": "markdown",
   "id": "1fe2a55b-838a-4e3a-a621-c5fe55db399a",
   "metadata": {},
   "source": [
    "### Store results"
   ]
  },
  {
   "cell_type": "code",
<<<<<<< HEAD
   "execution_count": null,
=======
   "execution_count": 9,
>>>>>>> 9dd04566d670bf640b4a10154e8430ae75f9c615
   "id": "3c5e47fb-3ec7-4bc9-ad6c-be0edc67ba09",
   "metadata": {},
   "outputs": [],
   "source": [
    "#pe_pt.to_netcdf('../pe_pt_INCA.csv')"
   ]
  }
 ],
 "metadata": {
  "kernelspec": {
   "display_name": "Python 3 (ipykernel)",
   "language": "python",
   "name": "python3"
  },
  "language_info": {
   "codemirror_mode": {
    "name": "ipython",
    "version": 3
   },
   "file_extension": ".py",
   "mimetype": "text/x-python",
   "name": "python",
   "nbconvert_exporter": "python",
   "pygments_lexer": "ipython3",
   "version": "3.9.12"
  }
 },
 "nbformat": 4,
 "nbformat_minor": 5
}
