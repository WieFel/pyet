{
 "cells": [
  {
   "cell_type": "markdown",
   "id": "999bc8b7-804c-4301-b8c7-5077a38dc06f",
   "metadata": {},
   "source": [
    "# Evaporation from ZAMG INCA data (NetCDF)\n",
    "*A. Kokimova, November 2021, University of Graz*\n",
    "\n",
    "Data source: ZAMG - https://data.hub.zamg.ac.at\n",
    "\n",
    "What is done:\n",
    "\n",
    "- load the data from ZAMG\n",
    "- estimate potential evaporation\n",
    "- plot and store results\n",
    "\n",
    "Data source: ZAMG - https://data.hub.zamg.ac.at"
   ]
  },
  {
   "cell_type": "code",
   "execution_count": null,
   "id": "7a2ae568-3c3b-44f5-8b82-ab5a99d35d2d",
   "metadata": {},
   "outputs": [],
   "source": [
    "import pandas as pd\n",
    "import matplotlib.pyplot as plt\n",
    "import numpy as np\n",
    "import xarray as xr\n",
    "import pyet\n",
    "pyet.show_versions()"
   ]
  },
  {
   "cell_type": "markdown",
   "id": "da6f3e98-0073-4db9-b763-03beb2611e78",
   "metadata": {},
   "source": [
    "## Loading daily data from ZAMG (INCA hourly NetCDF data)"
   ]
  },
  {
   "cell_type": "code",
   "execution_count": null,
   "id": "236434b2-3c33-4772-93ec-de0cb7317209",
   "metadata": {},
   "outputs": [],
   "source": [
    "#read data\n",
    "xr_ds = xr.open_dataset(\"data\\\\incal_hourly_20120501T0000_20120930T2300.nc\", \n",
    "            engine=\"netcdf4\")\n",
    "xr_ds = xr_ds.transpose(\"x\", \"y\", \"time\")  # transpose to appropriate dimensions\n",
    "xr_ds"
   ]
  },
  {
   "cell_type": "code",
   "execution_count": null,
   "id": "fd56788b-5aed-499b-8a6a-9c6fb68bb2f6",
   "metadata": {},
   "outputs": [],
   "source": [
    "# Resample and define input meteorological variables\n",
    "tmean = xr_ds[\"T2M\"].resample(time=\"1D\").mean()\n",
    "tmax = xr_ds[\"T2M\"].resample(time=\"1D\").max()\n",
    "tmin = xr_ds[\"T2M\"].resample(time=\"1D\").min()\n",
    "rh = xr_ds[\"RH2M\"].resample(time=\"1D\").mean()\n",
    "rhmax = xr_ds[\"RH2M\"].resample(time=\"1D\").max()\n",
    "rhmin = xr_ds[\"RH2M\"].resample(time=\"1D\").min()\n",
    "wind = ((np.abs(xr_ds[\"VV\"]) + xr_ds[\"UU\"]) / 2).resample(time=\"1D\").mean()\n",
    "rs = xr_ds[\"GL\"].resample(time=\"1D\").mean() * 86400 / 1000000"
   ]
  },
  {
   "cell_type": "code",
   "execution_count": null,
   "id": "f5bb9668-075b-4a8c-99e5-64a998c9c9d5",
   "metadata": {},
   "outputs": [],
   "source": [
    "# Define latitude and elevation\n",
    "lat = np.broadcast_to((47.076668 * np.pi / 180), tmean.shape)\n",
    "#elevation = np.broadcast_to(350, xr_ds[\"GL\"].shape)\n",
    "elevation = 350"
   ]
  },
  {
   "cell_type": "code",
   "execution_count": null,
   "id": "854d3507-5495-4735-b870-e8998cd57573",
   "metadata": {},
   "outputs": [],
   "source": [
    "k=0.31\n",
    "c = tmean / tmean\n",
    "c = c.where(rh > 50,  1 + (50 - rh) / 70)\n",
    "et = k * c * tmean / (tmean + 15) * (rs + 2.094)\n",
    "et[2,2,:].plot()"
   ]
  },
  {
   "cell_type": "markdown",
   "id": "22ebf3bc-6b9a-4f81-a455-7ca1b51879dd",
   "metadata": {},
   "source": [
    "## Calculate PET"
   ]
  },
  {
   "cell_type": "code",
   "execution_count": null,
   "id": "2b8859a2-37e3-40db-afc1-01b449adfc35",
   "metadata": {},
   "outputs": [],
   "source": [
    "# Estimate evaporation with nine different methods \n",
    "pe_penman = pyet.penman(tmean, wind, rs=rs, elevation=elevation, lat=lat, tmax=tmax, tmin=tmin, rh=rh)\n",
    "pe_pt = pyet.priestley_taylor(tmean, wind, rs=rs, elevation=elevation, lat=lat, tmax=tmax, tmin=tmin, rh=rh)\n",
    "pe_makkink = pyet.makkink(tmean, rs, elevation=elevation)\n",
    "pe_fao56 = pyet.pm_fao56(tmean, wind, rs=rs, elevation=elevation, lat=lat, tmax=tmax, tmin=tmin, rh=rh)\n",
    "pe_hamon = pyet.hamon2(tmean, lat=lat)\n",
    "pe_oudin = pyet.oudin(tmean, lat=lat)\n",
    "pe_haude = pyet.haude(tmax, rh)\n",
    "pe_turc = pyet.turc(tmean, rs, rh)\n",
    "pe_har = pyet.hargreaves(tmean, tmax, tmin, lat)"
   ]
  },
  {
   "cell_type": "markdown",
   "id": "e6e2564c-48ed-46b7-a275-fd17db592456",
   "metadata": {},
   "source": [
    "### Plot results"
   ]
  },
  {
   "cell_type": "code",
   "execution_count": null,
   "id": "3c0fad4c-4890-48b7-9183-ee861402f509",
   "metadata": {},
   "outputs": [],
   "source": [
    "pe_pt[:,:,10].plot()"
   ]
  },
  {
   "cell_type": "code",
   "execution_count": null,
   "id": "14c613f4-edc1-4472-8ab3-5ed0e1d373f5",
   "metadata": {},
   "outputs": [],
   "source": [
    "fig, axs = plt.subplots(ncols=2, figsize=(12,3))\n",
    "pe_penman[2,2,:].plot(ax=axs[0], label=\"Penman\")\n",
    "pe_pt[2,2,:].plot(ax=axs[0], label=\"Priestley-Taylor\")\n",
    "pe_makkink[2,2,:].plot(ax=axs[0], label=\"Makkink\")\n",
    "pe_fao56[2,2,:].plot(ax=axs[0], label=\"FAO56\")\n",
    "pe_hamon[2,2,:].plot(ax=axs[0], label=\"Hamon\")\n",
    "pe_oudin[2,2,:].plot(ax=axs[0], label=\"Oudin\")\n",
    "pe_haude[2,2,:].plot(ax=axs[0], label=\"Haude\")\n",
    "pe_turc[2,2,:].plot(ax=axs[0], label=\"Turc\")\n",
    "pe_har[2,2,:].plot(ax=axs[0], label=\"Hargreaves\")\n",
    "axs[0].legend()\n",
    "\n",
    "pe_penman[2,2,:].cumsum().plot(ax=axs[1], label=\"Penman\")\n",
    "pe_pt[2,2,:].cumsum().plot(ax=axs[1], label=\"Priestley-Taylor\")\n",
    "pe_makkink[2,2,:].cumsum().plot(ax=axs[1], label=\"Makkink\")\n",
    "pe_fao56[2,2,:].cumsum().plot(ax=axs[1], label=\"FAO56\")\n",
    "pe_hamon[2,2,:].cumsum().plot(ax=axs[1], label=\"Hamon\")\n",
    "pe_oudin[2,2,:].cumsum().plot(ax=axs[1], label=\"Oudin\")\n",
    "pe_haude[2,2,:].cumsum().plot(ax=axs[1], label=\"Haude\")\n",
    "pe_turc[2,2,:].cumsum().plot(ax=axs[1], label=\"Turc\")\n",
    "pe_har[2,2,:].cumsum().plot(ax=axs[1], label=\"Hargreaves\")\n",
    "axs[1].legend()"
   ]
  },
  {
   "cell_type": "markdown",
   "id": "1fe2a55b-838a-4e3a-a621-c5fe55db399a",
   "metadata": {},
   "source": [
    "### Store results"
   ]
  },
  {
   "cell_type": "code",
   "execution_count": null,
   "id": "3c5e47fb-3ec7-4bc9-ad6c-be0edc67ba09",
   "metadata": {},
   "outputs": [],
   "source": [
    "#pe_pt.to_netcdf('../pe_pt_INCA.csv')"
   ]
  }
 ],
 "metadata": {
  "kernelspec": {
   "display_name": "Python 3 (ipykernel)",
   "language": "python",
   "name": "python3"
  },
  "language_info": {
   "codemirror_mode": {
    "name": "ipython",
    "version": 3
   },
   "file_extension": ".py",
   "mimetype": "text/x-python",
   "name": "python",
   "nbconvert_exporter": "python",
   "pygments_lexer": "ipython3",
   "version": "3.9.12"
  }
 },
 "nbformat": 4,
 "nbformat_minor": 5
}
